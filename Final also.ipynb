{
 "cells": [
  {
   "cell_type": "code",
   "execution_count": 1,
   "metadata": {},
   "outputs": [],
   "source": [
    "import pandas as pd\n",
    "import numpy as np\n",
    "from scipy.stats import norm\n",
    "from scipy import stats\n",
    "import matplotlib.pyplot as plt\n",
    "import seaborn as sns"
   ]
  },
  {
   "cell_type": "code",
   "execution_count": 63,
   "metadata": {},
   "outputs": [],
   "source": [
    "Learn = pd.read_csv('C:/Users/Bernier/Desktop/School/LearnAF.csv')"
   ]
  },
  {
   "cell_type": "code",
   "execution_count": 64,
   "metadata": {
    "scrolled": false
   },
   "outputs": [
    {
     "data": {
      "text/html": [
       "<div>\n",
       "<style scoped>\n",
       "    .dataframe tbody tr th:only-of-type {\n",
       "        vertical-align: middle;\n",
       "    }\n",
       "\n",
       "    .dataframe tbody tr th {\n",
       "        vertical-align: top;\n",
       "    }\n",
       "\n",
       "    .dataframe thead th {\n",
       "        text-align: right;\n",
       "    }\n",
       "</style>\n",
       "<table border=\"1\" class=\"dataframe\">\n",
       "  <thead>\n",
       "    <tr style=\"text-align: right;\">\n",
       "      <th></th>\n",
       "      <th>RegionCode</th>\n",
       "      <th>Region</th>\n",
       "      <th>respondent_id</th>\n",
       "      <th>State</th>\n",
       "      <th>gender</th>\n",
       "      <th>age</th>\n",
       "      <th>internet_research</th>\n",
       "      <th>read_1</th>\n",
       "      <th>hear_1</th>\n",
       "      <th>see_1</th>\n",
       "      <th>...</th>\n",
       "      <th>CriticalThinking_Taught</th>\n",
       "      <th>AK_Other</th>\n",
       "      <th>Personality</th>\n",
       "      <th>IorE</th>\n",
       "      <th>ExtrovertTrue</th>\n",
       "      <th>sex</th>\n",
       "      <th>MaleTrue</th>\n",
       "      <th>CR_taught</th>\n",
       "      <th>Style</th>\n",
       "      <th>Styl</th>\n",
       "    </tr>\n",
       "    <tr>\n",
       "      <th>Unnamed: 0</th>\n",
       "      <th></th>\n",
       "      <th></th>\n",
       "      <th></th>\n",
       "      <th></th>\n",
       "      <th></th>\n",
       "      <th></th>\n",
       "      <th></th>\n",
       "      <th></th>\n",
       "      <th></th>\n",
       "      <th></th>\n",
       "      <th></th>\n",
       "      <th></th>\n",
       "      <th></th>\n",
       "      <th></th>\n",
       "      <th></th>\n",
       "      <th></th>\n",
       "      <th></th>\n",
       "      <th></th>\n",
       "      <th></th>\n",
       "      <th></th>\n",
       "      <th></th>\n",
       "    </tr>\n",
       "  </thead>\n",
       "  <tbody>\n",
       "    <tr>\n",
       "      <th>1</th>\n",
       "      <td>7</td>\n",
       "      <td>Pacific Coastal</td>\n",
       "      <td>1.076694e+10</td>\n",
       "      <td>Oregon</td>\n",
       "      <td>F</td>\n",
       "      <td>39.0</td>\n",
       "      <td>3</td>\n",
       "      <td>5</td>\n",
       "      <td>5</td>\n",
       "      <td>5</td>\n",
       "      <td>...</td>\n",
       "      <td>Y</td>\n",
       "      <td>Other</td>\n",
       "      <td>8.0</td>\n",
       "      <td>E</td>\n",
       "      <td>True</td>\n",
       "      <td>0.0</td>\n",
       "      <td>False</td>\n",
       "      <td>1</td>\n",
       "      <td>kinstic</td>\n",
       "      <td>4</td>\n",
       "    </tr>\n",
       "    <tr>\n",
       "      <th>2</th>\n",
       "      <td>4</td>\n",
       "      <td>Mid-West</td>\n",
       "      <td>1.076601e+10</td>\n",
       "      <td>South Dakota</td>\n",
       "      <td>M</td>\n",
       "      <td>31.0</td>\n",
       "      <td>5</td>\n",
       "      <td>4</td>\n",
       "      <td>2</td>\n",
       "      <td>4</td>\n",
       "      <td>...</td>\n",
       "      <td>Y</td>\n",
       "      <td>Other</td>\n",
       "      <td>6.0</td>\n",
       "      <td>I</td>\n",
       "      <td>False</td>\n",
       "      <td>1.0</td>\n",
       "      <td>True</td>\n",
       "      <td>1</td>\n",
       "      <td>kinstic</td>\n",
       "      <td>4</td>\n",
       "    </tr>\n",
       "    <tr>\n",
       "      <th>3</th>\n",
       "      <td>7</td>\n",
       "      <td>Pacific Coastal</td>\n",
       "      <td>1.076385e+10</td>\n",
       "      <td>California</td>\n",
       "      <td>F</td>\n",
       "      <td>24.0</td>\n",
       "      <td>4</td>\n",
       "      <td>5</td>\n",
       "      <td>5</td>\n",
       "      <td>5</td>\n",
       "      <td>...</td>\n",
       "      <td>Y</td>\n",
       "      <td>Other</td>\n",
       "      <td>7.0</td>\n",
       "      <td>E</td>\n",
       "      <td>True</td>\n",
       "      <td>0.0</td>\n",
       "      <td>False</td>\n",
       "      <td>1</td>\n",
       "      <td>hear</td>\n",
       "      <td>3</td>\n",
       "    </tr>\n",
       "    <tr>\n",
       "      <th>4</th>\n",
       "      <td>7</td>\n",
       "      <td>Pacific Coastal</td>\n",
       "      <td>1.076322e+10</td>\n",
       "      <td>Washington</td>\n",
       "      <td>M</td>\n",
       "      <td>19.0</td>\n",
       "      <td>3</td>\n",
       "      <td>5</td>\n",
       "      <td>3</td>\n",
       "      <td>4</td>\n",
       "      <td>...</td>\n",
       "      <td>N</td>\n",
       "      <td>Other</td>\n",
       "      <td>9.0</td>\n",
       "      <td>E</td>\n",
       "      <td>True</td>\n",
       "      <td>1.0</td>\n",
       "      <td>True</td>\n",
       "      <td>0</td>\n",
       "      <td>kinstic</td>\n",
       "      <td>4</td>\n",
       "    </tr>\n",
       "    <tr>\n",
       "      <th>5</th>\n",
       "      <td>7</td>\n",
       "      <td>Pacific Coastal</td>\n",
       "      <td>1.076321e+10</td>\n",
       "      <td>California</td>\n",
       "      <td>M</td>\n",
       "      <td>21.0</td>\n",
       "      <td>5</td>\n",
       "      <td>5</td>\n",
       "      <td>5</td>\n",
       "      <td>5</td>\n",
       "      <td>...</td>\n",
       "      <td>Y</td>\n",
       "      <td>Other</td>\n",
       "      <td>6.0</td>\n",
       "      <td>I</td>\n",
       "      <td>False</td>\n",
       "      <td>1.0</td>\n",
       "      <td>True</td>\n",
       "      <td>1</td>\n",
       "      <td>hear</td>\n",
       "      <td>3</td>\n",
       "    </tr>\n",
       "  </tbody>\n",
       "</table>\n",
       "<p>5 rows × 25 columns</p>\n",
       "</div>"
      ],
      "text/plain": [
       "            RegionCode           Region  respondent_id         State gender  \\\n",
       "Unnamed: 0                                                                    \n",
       "1                    7  Pacific Coastal   1.076694e+10        Oregon      F   \n",
       "2                    4         Mid-West   1.076601e+10  South Dakota      M   \n",
       "3                    7  Pacific Coastal   1.076385e+10    California      F   \n",
       "4                    7  Pacific Coastal   1.076322e+10    Washington      M   \n",
       "5                    7  Pacific Coastal   1.076321e+10    California      M   \n",
       "\n",
       "             age  internet_research  read_1  hear_1  see_1  ...   \\\n",
       "Unnamed: 0                                                  ...    \n",
       "1           39.0                  3       5       5      5  ...    \n",
       "2           31.0                  5       4       2      4  ...    \n",
       "3           24.0                  4       5       5      5  ...    \n",
       "4           19.0                  3       5       3      4  ...    \n",
       "5           21.0                  5       5       5      5  ...    \n",
       "\n",
       "            CriticalThinking_Taught  AK_Other  Personality  IorE  \\\n",
       "Unnamed: 0                                                         \n",
       "1                                 Y     Other          8.0     E   \n",
       "2                                 Y     Other          6.0     I   \n",
       "3                                 Y     Other          7.0     E   \n",
       "4                                 N     Other          9.0     E   \n",
       "5                                 Y     Other          6.0     I   \n",
       "\n",
       "            ExtrovertTrue  sex MaleTrue  CR_taught    Style  Styl  \n",
       "Unnamed: 0                                                         \n",
       "1                    True  0.0    False          1  kinstic     4  \n",
       "2                   False  1.0     True          1  kinstic     4  \n",
       "3                    True  0.0    False          1     hear     3  \n",
       "4                    True  1.0     True          0  kinstic     4  \n",
       "5                   False  1.0     True          1     hear     3  \n",
       "\n",
       "[5 rows x 25 columns]"
      ]
     },
     "execution_count": 64,
     "metadata": {},
     "output_type": "execute_result"
    }
   ],
   "source": [
    "#Learn = Learn.set_index('Unnamed: 0').T\n",
    "Learn = Learn.set_index('Unnamed: 0')\n",
    "Learn.head(5)"
   ]
  },
  {
   "cell_type": "code",
   "execution_count": 65,
   "metadata": {},
   "outputs": [],
   "source": [
    "import scipy\n",
    "import statsmodels\n",
    "import seaborn as sns\n",
    "import statsmodels.api as sm\n",
    "import statsmodels.stats.api as sms\n",
    "from scipy.stats import ttest_ind\n",
    "from statsmodels.formula.api import ols\n",
    "from statsmodels.stats.anova import anova_lm"
   ]
  },
  {
   "cell_type": "code",
   "execution_count": 66,
   "metadata": {},
   "outputs": [
    {
     "name": "stdout",
     "output_type": "stream",
     "text": [
      "<class 'pandas.core.frame.DataFrame'>\n",
      "Int64Index: 141 entries, 1 to 158\n",
      "Data columns (total 25 columns):\n",
      "RegionCode                 141 non-null int64\n",
      "Region                     141 non-null object\n",
      "respondent_id              141 non-null float64\n",
      "State                      141 non-null object\n",
      "gender                     141 non-null object\n",
      "age                        141 non-null float64\n",
      "internet_research          141 non-null int64\n",
      "read_1                     141 non-null int64\n",
      "hear_1                     141 non-null int64\n",
      "see_1                      141 non-null int64\n",
      "say_1                      141 non-null int64\n",
      "do_1                       141 non-null int64\n",
      "Criticalthinking_1         141 non-null int64\n",
      "groups_1                   141 non-null int64\n",
      "connections_1              141 non-null int64\n",
      "CriticalThinking_Taught    141 non-null object\n",
      "AK_Other                   141 non-null object\n",
      "Personality                141 non-null float64\n",
      "IorE                       141 non-null object\n",
      "ExtrovertTrue              141 non-null bool\n",
      "sex                        141 non-null float64\n",
      "MaleTrue                   141 non-null bool\n",
      "CR_taught                  141 non-null int64\n",
      "Style                      141 non-null object\n",
      "Styl                       141 non-null int64\n",
      "dtypes: bool(2), float64(4), int64(12), object(7)\n",
      "memory usage: 26.7+ KB\n"
     ]
    }
   ],
   "source": [
    "Learn.info()"
   ]
  },
  {
   "cell_type": "code",
   "execution_count": 67,
   "metadata": {
    "scrolled": true
   },
   "outputs": [
    {
     "data": {
      "text/plain": [
       "<matplotlib.axes._subplots.AxesSubplot at 0x2548aa0a7b8>"
      ]
     },
     "execution_count": 67,
     "metadata": {},
     "output_type": "execute_result"
    },
    {
     "data": {
      "image/png": "[encoded data removed]",
      "text/plain": [
       "<Figure size 432x288 with 1 Axes>"
      ]
     },
     "metadata": {
      "needs_background": "light"
     },
     "output_type": "display_data"
    }
   ],
   "source": [
    "Learn['Styl'].hist()"
   ]
  },
  {
   "cell_type": "code",
   "execution_count": 68,
   "metadata": {
    "scrolled": true
   },
   "outputs": [
    {
     "data": {
      "text/plain": [
       "kinstic    66\n",
       "r/wr       48\n",
       "hear       17\n",
       "see        10\n",
       "Name: Style, dtype: int64"
      ]
     },
     "execution_count": 68,
     "metadata": {},
     "output_type": "execute_result"
    }
   ],
   "source": [
    "Learn['Style'].value_counts()"
   ]
  },
  {
   "cell_type": "code",
   "execution_count": 69,
   "metadata": {
    "scrolled": false
   },
   "outputs": [
    {
     "data": {
      "text/plain": [
       "count    141.000000\n",
       "mean       2.716312\n",
       "std        1.353969\n",
       "min        1.000000\n",
       "25%        1.000000\n",
       "50%        3.000000\n",
       "75%        4.000000\n",
       "max        4.000000\n",
       "Name: Styl, dtype: float64"
      ]
     },
     "execution_count": 69,
     "metadata": {},
     "output_type": "execute_result"
    }
   ],
   "source": [
    "Learn.Styl.describe()"
   ]
  },
  {
   "cell_type": "code",
   "execution_count": 70,
   "metadata": {
    "scrolled": true
   },
   "outputs": [
    {
     "data": {
      "text/plain": [
       "2.7163120567375887"
      ]
     },
     "execution_count": 70,
     "metadata": {},
     "output_type": "execute_result"
    }
   ],
   "source": [
    "Learn.Styl.mean()"
   ]
  },
  {
   "cell_type": "code",
   "execution_count": 71,
   "metadata": {
    "scrolled": false
   },
   "outputs": [
    {
     "data": {
      "text/plain": [
       "Ttest_1sampResult(statistic=1.8970621816293418, pvalue=0.05987926023876917)"
      ]
     },
     "execution_count": 71,
     "metadata": {},
     "output_type": "execute_result"
    }
   ],
   "source": [
    "stats.ttest_1samp(Learn['Styl'], 2.5)"
   ]
  },
  {
   "cell_type": "code",
   "execution_count": 72,
   "metadata": {},
   "outputs": [
    {
     "name": "stderr",
     "output_type": "stream",
     "text": [
      "C:\\Users\\Bernier\\Anaconda3\\lib\\site-packages\\scipy\\stats\\stats.py:1713: FutureWarning: Using a non-tuple sequence for multidimensional indexing is deprecated; use `arr[tuple(seq)]` instead of `arr[seq]`. In the future this will be interpreted as an array index, `arr[np.array(seq)]`, which will result either in an error or a different result.\n",
      "  return np.add.reduce(sorted[indexer] * weights, axis=axis) / sumval\n"
     ]
    },
    {
     "data": {
      "text/plain": [
       "<matplotlib.axes._subplots.AxesSubplot at 0x254894fbc50>"
      ]
     },
     "execution_count": 72,
     "metadata": {},
     "output_type": "execute_result"
    },
    {
     "data": {
      "image/png": "[encoded data removed]",
      "text/plain": [
       "<Figure size 432x288 with 1 Axes>"
      ]
     },
     "metadata": {
      "needs_background": "light"
     },
     "output_type": "display_data"
    }
   ],
   "source": [
    "sns.distplot(Learn['Styl'])"
   ]
  },
  {
   "cell_type": "code",
   "execution_count": 73,
   "metadata": {
    "scrolled": true
   },
   "outputs": [
    {
     "data": {
      "text/plain": [
       "<matplotlib.axes._subplots.AxesSubplot at 0x254893955f8>"
      ]
     },
     "execution_count": 73,
     "metadata": {},
     "output_type": "execute_result"
    },
    {
     "data": {
      "image/png": "[encoded data removed]",
      "text/plain": [
       "<Figure size 432x288 with 1 Axes>"
      ]
     },
     "metadata": {
      "needs_background": "light"
     },
     "output_type": "display_data"
    }
   ],
   "source": [
    "Learn['sex'].hist()"
   ]
  },
  {
   "cell_type": "code",
   "execution_count": 74,
   "metadata": {
    "scrolled": true
   },
   "outputs": [
    {
     "data": {
      "text/plain": [
       "0.2765957446808511"
      ]
     },
     "execution_count": 74,
     "metadata": {},
     "output_type": "execute_result"
    }
   ],
   "source": [
    "Learn.sex.mean()"
   ]
  },
  {
   "cell_type": "code",
   "execution_count": 75,
   "metadata": {
    "scrolled": false
   },
   "outputs": [
    {
     "data": {
      "text/plain": [
       "Ttest_1sampResult(statistic=-19.135146880905985, pvalue=6.705525999740849e-41)"
      ]
     },
     "execution_count": 75,
     "metadata": {},
     "output_type": "execute_result"
    }
   ],
   "source": [
    "stats.ttest_1samp(Learn['sex'], 1)"
   ]
  },
  {
   "cell_type": "code",
   "execution_count": 76,
   "metadata": {},
   "outputs": [
    {
     "data": {
      "text/plain": [
       "<matplotlib.axes._subplots.AxesSubplot at 0x2548ab10eb8>"
      ]
     },
     "execution_count": 76,
     "metadata": {},
     "output_type": "execute_result"
    },
    {
     "data": {
      "image/png": "[encoded data removed]",
      "text/plain": [
       "<Figure size 432x288 with 1 Axes>"
      ]
     },
     "metadata": {
      "needs_background": "light"
     },
     "output_type": "display_data"
    }
   ],
   "source": [
    "sns.distplot(Learn['sex'])"
   ]
  },
  {
   "cell_type": "code",
   "execution_count": 77,
   "metadata": {
    "scrolled": true
   },
   "outputs": [
    {
     "data": {
      "text/plain": [
       "<matplotlib.axes._subplots.AxesSubplot at 0x25489527390>"
      ]
     },
     "execution_count": 77,
     "metadata": {},
     "output_type": "execute_result"
    },
    {
     "data": {
      "image/png": "[encoded data removed]",
      "text/plain": [
       "<Figure size 432x288 with 1 Axes>"
      ]
     },
     "metadata": {
      "needs_background": "light"
     },
     "output_type": "display_data"
    }
   ],
   "source": [
    "Learn['RegionCode'].hist()"
   ]
  },
  {
   "cell_type": "code",
   "execution_count": 78,
   "metadata": {
    "scrolled": true
   },
   "outputs": [
    {
     "data": {
      "text/plain": [
       "6.617021276595745"
      ]
     },
     "execution_count": 78,
     "metadata": {},
     "output_type": "execute_result"
    }
   ],
   "source": [
    "Learn.RegionCode.mean()"
   ]
  },
  {
   "cell_type": "code",
   "execution_count": 79,
   "metadata": {
    "scrolled": true
   },
   "outputs": [
    {
     "data": {
      "text/plain": [
       "Ttest_1sampResult(statistic=10.741886605893832, pvalue=5.271056454748693e-20)"
      ]
     },
     "execution_count": 79,
     "metadata": {},
     "output_type": "execute_result"
    }
   ],
   "source": [
    "stats.ttest_1samp(Learn['RegionCode'], 5)"
   ]
  },
  {
   "cell_type": "code",
   "execution_count": 80,
   "metadata": {},
   "outputs": [
    {
     "data": {
      "text/plain": [
       "<matplotlib.axes._subplots.AxesSubplot at 0x2548abe16a0>"
      ]
     },
     "execution_count": 80,
     "metadata": {},
     "output_type": "execute_result"
    },
    {
     "data": {
      "image/png": "[encoded data removed]",
      "text/plain": [
       "<Figure size 432x288 with 1 Axes>"
      ]
     },
     "metadata": {
      "needs_background": "light"
     },
     "output_type": "display_data"
    }
   ],
   "source": [
    "sns.distplot(Learn['RegionCode'])"
   ]
  },
  {
   "cell_type": "code",
   "execution_count": 81,
   "metadata": {
    "scrolled": false
   },
   "outputs": [
    {
     "data": {
      "text/plain": [
       "<matplotlib.axes._subplots.AxesSubplot at 0x2548ac18d68>"
      ]
     },
     "execution_count": 81,
     "metadata": {},
     "output_type": "execute_result"
    },
    {
     "data": {
      "image/png": "[encoded data removed]",
      "text/plain": [
       "<Figure size 432x288 with 1 Axes>"
      ]
     },
     "metadata": {
      "needs_background": "light"
     },
     "output_type": "display_data"
    }
   ],
   "source": [
    "Learn['age'].hist()"
   ]
  },
  {
   "cell_type": "code",
   "execution_count": 82,
   "metadata": {
    "scrolled": true
   },
   "outputs": [
    {
     "data": {
      "text/plain": [
       "46.46808510638298"
      ]
     },
     "execution_count": 82,
     "metadata": {},
     "output_type": "execute_result"
    }
   ],
   "source": [
    "Learn.age.mean()"
   ]
  },
  {
   "cell_type": "code",
   "execution_count": 83,
   "metadata": {
    "scrolled": true
   },
   "outputs": [
    {
     "data": {
      "text/plain": [
       "Ttest_1sampResult(statistic=-2.5174436205535065, pvalue=0.012947635791332134)"
      ]
     },
     "execution_count": 83,
     "metadata": {},
     "output_type": "execute_result"
    }
   ],
   "source": [
    "stats.ttest_1samp(Learn['age'], 50)"
   ]
  },
  {
   "cell_type": "code",
   "execution_count": 84,
   "metadata": {},
   "outputs": [
    {
     "data": {
      "text/plain": [
       "<matplotlib.axes._subplots.AxesSubplot at 0x2548acdeda0>"
      ]
     },
     "execution_count": 84,
     "metadata": {},
     "output_type": "execute_result"
    },
    {
     "data": {
      "image/png": "[encoded data removed]",
      "text/plain": [
       "<Figure size 432x288 with 1 Axes>"
      ]
     },
     "metadata": {
      "needs_background": "light"
     },
     "output_type": "display_data"
    }
   ],
   "source": [
    "sns.distplot(Learn['age'])"
   ]
  },
  {
   "cell_type": "code",
   "execution_count": 85,
   "metadata": {
    "scrolled": false
   },
   "outputs": [
    {
     "data": {
      "text/plain": [
       "<matplotlib.axes._subplots.AxesSubplot at 0x2548ad3c898>"
      ]
     },
     "execution_count": 85,
     "metadata": {},
     "output_type": "execute_result"
    },
    {
     "data": {
      "image/png": "[encoded data removed]",
      "text/plain": [
       "<Figure size 432x288 with 1 Axes>"
      ]
     },
     "metadata": {
      "needs_background": "light"
     },
     "output_type": "display_data"
    }
   ],
   "source": [
    "Learn['Personality'].hist()"
   ]
  },
  {
   "cell_type": "code",
   "execution_count": 86,
   "metadata": {
    "scrolled": true
   },
   "outputs": [
    {
     "data": {
      "text/plain": [
       "6.957446808510638"
      ]
     },
     "execution_count": 86,
     "metadata": {},
     "output_type": "execute_result"
    }
   ],
   "source": [
    "Learn.Personality.mean()"
   ]
  },
  {
   "cell_type": "code",
   "execution_count": 87,
   "metadata": {
    "scrolled": true
   },
   "outputs": [
    {
     "data": {
      "text/plain": [
       "Ttest_1sampResult(statistic=5.217439692891753, pvalue=6.400979225888223e-07)"
      ]
     },
     "execution_count": 87,
     "metadata": {},
     "output_type": "execute_result"
    }
   ],
   "source": [
    "stats.ttest_1samp(Learn['Personality'], 6.5)"
   ]
  },
  {
   "cell_type": "code",
   "execution_count": null,
   "metadata": {},
   "outputs": [],
   "source": []
  },
  {
   "cell_type": "code",
   "execution_count": 88,
   "metadata": {},
   "outputs": [
    {
     "data": {
      "text/plain": [
       "Ttest_indResult(statistic=-1.6885191189840598, pvalue=0.09355385135219867)"
      ]
     },
     "execution_count": 88,
     "metadata": {},
     "output_type": "execute_result"
    }
   ],
   "source": [
    "ttest_ind(Learn.Styl[Learn.gender == 'F'], Learn.Styl[Learn.gender == 'M'])"
   ]
  },
  {
   "cell_type": "code",
   "execution_count": 89,
   "metadata": {},
   "outputs": [
    {
     "data": {
      "text/plain": [
       "Ttest_indResult(statistic=-0.9151590617142974, pvalue=0.36169300607713384)"
      ]
     },
     "execution_count": 89,
     "metadata": {},
     "output_type": "execute_result"
    }
   ],
   "source": [
    "ttest_ind(Learn.Styl[Learn.IorE == 'I'], Learn.Styl[Learn.IorE == 'E'])"
   ]
  },
  {
   "cell_type": "code",
   "execution_count": 90,
   "metadata": {},
   "outputs": [
    {
     "data": {
      "text/plain": [
       "Ttest_indResult(statistic=-0.992315975449024, pvalue=0.3227676875467308)"
      ]
     },
     "execution_count": 90,
     "metadata": {},
     "output_type": "execute_result"
    }
   ],
   "source": [
    "ttest_ind(Learn.Styl[Learn.AK_Other == 'AK'], Learn.Styl[Learn.AK_Other == 'Other'])"
   ]
  },
  {
   "cell_type": "code",
   "execution_count": null,
   "metadata": {},
   "outputs": [],
   "source": []
  },
  {
   "cell_type": "code",
   "execution_count": 91,
   "metadata": {
    "scrolled": false
   },
   "outputs": [
    {
     "data": {
      "text/html": [
       "<div>\n",
       "<style scoped>\n",
       "    .dataframe tbody tr th:only-of-type {\n",
       "        vertical-align: middle;\n",
       "    }\n",
       "\n",
       "    .dataframe tbody tr th {\n",
       "        vertical-align: top;\n",
       "    }\n",
       "\n",
       "    .dataframe thead th {\n",
       "        text-align: right;\n",
       "    }\n",
       "</style>\n",
       "<table border=\"1\" class=\"dataframe\">\n",
       "  <thead>\n",
       "    <tr style=\"text-align: right;\">\n",
       "      <th>Style</th>\n",
       "      <th>hear</th>\n",
       "      <th>kinstic</th>\n",
       "      <th>r/wr</th>\n",
       "      <th>see</th>\n",
       "    </tr>\n",
       "    <tr>\n",
       "      <th>gender</th>\n",
       "      <th></th>\n",
       "      <th></th>\n",
       "      <th></th>\n",
       "      <th></th>\n",
       "    </tr>\n",
       "  </thead>\n",
       "  <tbody>\n",
       "    <tr>\n",
       "      <th>F</th>\n",
       "      <td>13</td>\n",
       "      <td>43</td>\n",
       "      <td>38</td>\n",
       "      <td>8</td>\n",
       "    </tr>\n",
       "    <tr>\n",
       "      <th>M</th>\n",
       "      <td>4</td>\n",
       "      <td>23</td>\n",
       "      <td>10</td>\n",
       "      <td>2</td>\n",
       "    </tr>\n",
       "  </tbody>\n",
       "</table>\n",
       "</div>"
      ],
      "text/plain": [
       "Style   hear  kinstic  r/wr  see\n",
       "gender                          \n",
       "F         13       43    38    8\n",
       "M          4       23    10    2"
      ]
     },
     "execution_count": 91,
     "metadata": {},
     "output_type": "execute_result"
    }
   ],
   "source": [
    "LearnGS = pd.crosstab(Learn['gender'], Learn['Style'])\n",
    "LearnGS"
   ]
  },
  {
   "cell_type": "code",
   "execution_count": 92,
   "metadata": {},
   "outputs": [
    {
     "data": {
      "text/plain": [
       "Ttest_relResult(statistic=-21.228097892583094, pvalue=1.3263863400288271e-45)"
      ]
     },
     "execution_count": 92,
     "metadata": {},
     "output_type": "execute_result"
    }
   ],
   "source": [
    "stats.ttest_rel(Learn['sex'], Learn['Styl'])"
   ]
  },
  {
   "cell_type": "code",
   "execution_count": 93,
   "metadata": {},
   "outputs": [
    {
     "data": {
      "text/plain": [
       "Ttest_indResult(statistic=-1.6885191189840598, pvalue=0.09355385135219867)"
      ]
     },
     "execution_count": 93,
     "metadata": {},
     "output_type": "execute_result"
    }
   ],
   "source": [
    "ttest_ind(Learn.Styl[Learn.gender == 'F'], Learn.Styl[Learn.gender == 'M'])"
   ]
  },
  {
   "cell_type": "code",
   "execution_count": 94,
   "metadata": {
    "scrolled": true
   },
   "outputs": [
    {
     "data": {
      "text/plain": [
       "(3.26066030278833,\n",
       " 0.3531556359014151,\n",
       " 3,\n",
       " array([[12.29787234, 47.74468085, 34.72340426,  7.23404255],\n",
       "        [ 4.70212766, 18.25531915, 13.27659574,  2.76595745]]))"
      ]
     },
     "execution_count": 94,
     "metadata": {},
     "output_type": "execute_result"
    }
   ],
   "source": [
    "stats.chi2_contingency(LearnGS)"
   ]
  },
  {
   "cell_type": "code",
   "execution_count": 95,
   "metadata": {
    "scrolled": true
   },
   "outputs": [
    {
     "data": {
      "text/html": [
       "<div>\n",
       "<style scoped>\n",
       "    .dataframe tbody tr th:only-of-type {\n",
       "        vertical-align: middle;\n",
       "    }\n",
       "\n",
       "    .dataframe tbody tr th {\n",
       "        vertical-align: top;\n",
       "    }\n",
       "\n",
       "    .dataframe thead th {\n",
       "        text-align: right;\n",
       "    }\n",
       "</style>\n",
       "<table border=\"1\" class=\"dataframe\">\n",
       "  <thead>\n",
       "    <tr style=\"text-align: right;\">\n",
       "      <th>Style</th>\n",
       "      <th>hear</th>\n",
       "      <th>kinstic</th>\n",
       "      <th>r/wr</th>\n",
       "      <th>see</th>\n",
       "    </tr>\n",
       "    <tr>\n",
       "      <th>IorE</th>\n",
       "      <th></th>\n",
       "      <th></th>\n",
       "      <th></th>\n",
       "      <th></th>\n",
       "    </tr>\n",
       "  </thead>\n",
       "  <tbody>\n",
       "    <tr>\n",
       "      <th>E</th>\n",
       "      <td>13</td>\n",
       "      <td>40</td>\n",
       "      <td>27</td>\n",
       "      <td>2</td>\n",
       "    </tr>\n",
       "    <tr>\n",
       "      <th>I</th>\n",
       "      <td>4</td>\n",
       "      <td>26</td>\n",
       "      <td>21</td>\n",
       "      <td>8</td>\n",
       "    </tr>\n",
       "  </tbody>\n",
       "</table>\n",
       "</div>"
      ],
      "text/plain": [
       "Style  hear  kinstic  r/wr  see\n",
       "IorE                           \n",
       "E        13       40    27    2\n",
       "I         4       26    21    8"
      ]
     },
     "execution_count": 95,
     "metadata": {},
     "output_type": "execute_result"
    }
   ],
   "source": [
    "LearnIES = pd.crosstab(Learn['IorE'], Learn['Style'])\n",
    "LearnIES"
   ]
  },
  {
   "cell_type": "code",
   "execution_count": 96,
   "metadata": {
    "scrolled": true
   },
   "outputs": [
    {
     "data": {
      "text/plain": [
       "Ttest_relResult(statistic=29.292717144168677, pvalue=1.4070820881497472e-61)"
      ]
     },
     "execution_count": 96,
     "metadata": {},
     "output_type": "execute_result"
    }
   ],
   "source": [
    "stats.ttest_rel(Learn['Personality'], Learn['Styl'])"
   ]
  },
  {
   "cell_type": "code",
   "execution_count": 97,
   "metadata": {},
   "outputs": [
    {
     "data": {
      "text/plain": [
       "Ttest_indResult(statistic=-0.9151590617142974, pvalue=0.36169300607713384)"
      ]
     },
     "execution_count": 97,
     "metadata": {},
     "output_type": "execute_result"
    }
   ],
   "source": [
    "ttest_ind(Learn.Styl[Learn.IorE == 'I'], Learn.Styl[Learn.IorE == 'E'])"
   ]
  },
  {
   "cell_type": "code",
   "execution_count": 98,
   "metadata": {
    "scrolled": true
   },
   "outputs": [
    {
     "data": {
      "text/plain": [
       "(8.560407870070499,\n",
       " 0.03574413934027979,\n",
       " 3,\n",
       " array([[ 9.88652482, 38.38297872, 27.91489362,  5.81560284],\n",
       "        [ 7.11347518, 27.61702128, 20.08510638,  4.18439716]]))"
      ]
     },
     "execution_count": 98,
     "metadata": {},
     "output_type": "execute_result"
    }
   ],
   "source": [
    "stats.chi2_contingency(LearnIES)"
   ]
  },
  {
   "cell_type": "code",
   "execution_count": 99,
   "metadata": {
    "scrolled": false
   },
   "outputs": [
    {
     "data": {
      "text/html": [
       "<div>\n",
       "<style scoped>\n",
       "    .dataframe tbody tr th:only-of-type {\n",
       "        vertical-align: middle;\n",
       "    }\n",
       "\n",
       "    .dataframe tbody tr th {\n",
       "        vertical-align: top;\n",
       "    }\n",
       "\n",
       "    .dataframe thead th {\n",
       "        text-align: right;\n",
       "    }\n",
       "</style>\n",
       "<table border=\"1\" class=\"dataframe\">\n",
       "  <thead>\n",
       "    <tr style=\"text-align: right;\">\n",
       "      <th>Style</th>\n",
       "      <th>hear</th>\n",
       "      <th>kinstic</th>\n",
       "      <th>r/wr</th>\n",
       "      <th>see</th>\n",
       "    </tr>\n",
       "    <tr>\n",
       "      <th>AK_Other</th>\n",
       "      <th></th>\n",
       "      <th></th>\n",
       "      <th></th>\n",
       "      <th></th>\n",
       "    </tr>\n",
       "  </thead>\n",
       "  <tbody>\n",
       "    <tr>\n",
       "      <th>AK</th>\n",
       "      <td>8</td>\n",
       "      <td>24</td>\n",
       "      <td>23</td>\n",
       "      <td>2</td>\n",
       "    </tr>\n",
       "    <tr>\n",
       "      <th>Other</th>\n",
       "      <td>9</td>\n",
       "      <td>42</td>\n",
       "      <td>25</td>\n",
       "      <td>8</td>\n",
       "    </tr>\n",
       "  </tbody>\n",
       "</table>\n",
       "</div>"
      ],
      "text/plain": [
       "Style     hear  kinstic  r/wr  see\n",
       "AK_Other                          \n",
       "AK           8       24    23    2\n",
       "Other        9       42    25    8"
      ]
     },
     "execution_count": 99,
     "metadata": {},
     "output_type": "execute_result"
    }
   ],
   "source": [
    "LearnAKOS = pd.crosstab(Learn['AK_Other'], Learn['Style'])\n",
    "LearnAKOS"
   ]
  },
  {
   "cell_type": "code",
   "execution_count": 100,
   "metadata": {},
   "outputs": [
    {
     "data": {
      "text/plain": [
       "Ttest_relResult(statistic=20.16552718653069, pvalue=3.0247554302981737e-43)"
      ]
     },
     "execution_count": 100,
     "metadata": {},
     "output_type": "execute_result"
    }
   ],
   "source": [
    "stats.ttest_rel(Learn['RegionCode'], Learn['Styl'])"
   ]
  },
  {
   "cell_type": "code",
   "execution_count": 101,
   "metadata": {},
   "outputs": [
    {
     "data": {
      "text/plain": [
       "Ttest_indResult(statistic=-0.992315975449024, pvalue=0.3227676875467308)"
      ]
     },
     "execution_count": 101,
     "metadata": {},
     "output_type": "execute_result"
    }
   ],
   "source": [
    "ttest_ind(Learn.Styl[Learn.AK_Other == 'AK'], Learn.Styl[Learn.AK_Other == 'Other'])"
   ]
  },
  {
   "cell_type": "code",
   "execution_count": 102,
   "metadata": {
    "scrolled": true
   },
   "outputs": [
    {
     "data": {
      "text/plain": [
       "(3.6135368082639747,\n",
       " 0.3063325635108534,\n",
       " 3,\n",
       " array([[ 6.87234043, 26.68085106, 19.40425532,  4.04255319],\n",
       "        [10.12765957, 39.31914894, 28.59574468,  5.95744681]]))"
      ]
     },
     "execution_count": 102,
     "metadata": {},
     "output_type": "execute_result"
    }
   ],
   "source": [
    "stats.chi2_contingency(LearnAKOS)"
   ]
  },
  {
   "cell_type": "code",
   "execution_count": 103,
   "metadata": {
    "scrolled": false
   },
   "outputs": [
    {
     "data": {
      "text/plain": [
       "<matplotlib.axes._subplots.AxesSubplot at 0x2548adb11d0>"
      ]
     },
     "execution_count": 103,
     "metadata": {},
     "output_type": "execute_result"
    },
    {
     "data": {
      "image/png": "[encoded data removed]",
      "text/plain": [
       "<Figure size 432x288 with 1 Axes>"
      ]
     },
     "metadata": {
      "needs_background": "light"
     },
     "output_type": "display_data"
    }
   ],
   "source": [
    "Learn['CR_taught'].hist()"
   ]
  },
  {
   "cell_type": "code",
   "execution_count": 104,
   "metadata": {
    "scrolled": false
   },
   "outputs": [
    {
     "data": {
      "text/plain": [
       "Y    127\n",
       "N     14\n",
       "Name: CriticalThinking_Taught, dtype: int64"
      ]
     },
     "execution_count": 104,
     "metadata": {},
     "output_type": "execute_result"
    }
   ],
   "source": [
    "Learn['CriticalThinking_Taught'].value_counts()"
   ]
  },
  {
   "cell_type": "code",
   "execution_count": 105,
   "metadata": {
    "scrolled": true
   },
   "outputs": [
    {
     "data": {
      "text/plain": [
       "0.900709219858156"
      ]
     },
     "execution_count": 105,
     "metadata": {},
     "output_type": "execute_result"
    }
   ],
   "source": [
    "Learn.CR_taught.mean()"
   ]
  },
  {
   "cell_type": "code",
   "execution_count": 106,
   "metadata": {
    "scrolled": true
   },
   "outputs": [
    {
     "data": {
      "text/plain": [
       "Ttest_1sampResult(statistic=15.854282314773362, pvalue=4.6913782360513985e-33)"
      ]
     },
     "execution_count": 106,
     "metadata": {},
     "output_type": "execute_result"
    }
   ],
   "source": [
    "stats.ttest_1samp(Learn['CR_taught'], .5)"
   ]
  },
  {
   "cell_type": "code",
   "execution_count": 107,
   "metadata": {
    "scrolled": false
   },
   "outputs": [
    {
     "data": {
      "text/plain": [
       "(0.8507401554825483, 0.9506782842337637)"
      ]
     },
     "execution_count": 107,
     "metadata": {},
     "output_type": "execute_result"
    }
   ],
   "source": [
    "sms.DescrStatsW(Learn.CR_taught).tconfint_mean()"
   ]
  },
  {
   "cell_type": "code",
   "execution_count": 108,
   "metadata": {
    "scrolled": false
   },
   "outputs": [
    {
     "data": {
      "text/plain": [
       "<matplotlib.axes._subplots.AxesSubplot at 0x2548ae41940>"
      ]
     },
     "execution_count": 108,
     "metadata": {},
     "output_type": "execute_result"
    },
    {
     "data": {
      "image/png": "[encoded data removed]",
      "text/plain": [
       "<Figure size 432x288 with 1 Axes>"
      ]
     },
     "metadata": {
      "needs_background": "light"
     },
     "output_type": "display_data"
    }
   ],
   "source": [
    "Learn['internet_research'].hist()"
   ]
  },
  {
   "cell_type": "code",
   "execution_count": 109,
   "metadata": {
    "scrolled": true
   },
   "outputs": [
    {
     "data": {
      "text/plain": [
       "3.8297872340425534"
      ]
     },
     "execution_count": 109,
     "metadata": {},
     "output_type": "execute_result"
    }
   ],
   "source": [
    "Learn.internet_research.mean()"
   ]
  },
  {
   "cell_type": "code",
   "execution_count": 110,
   "metadata": {
    "scrolled": false
   },
   "outputs": [
    {
     "data": {
      "text/plain": [
       "4    62\n",
       "3    42\n",
       "5    31\n",
       "2     5\n",
       "1     1\n",
       "Name: internet_research, dtype: int64"
      ]
     },
     "execution_count": 110,
     "metadata": {},
     "output_type": "execute_result"
    }
   ],
   "source": [
    "Learn['internet_research'].value_counts()"
   ]
  },
  {
   "cell_type": "code",
   "execution_count": 111,
   "metadata": {
    "scrolled": true
   },
   "outputs": [
    {
     "data": {
      "text/plain": [
       "Ttest_1sampResult(statistic=18.881276640151473, pvalue=2.589954197438492e-40)"
      ]
     },
     "execution_count": 111,
     "metadata": {},
     "output_type": "execute_result"
    }
   ],
   "source": [
    "stats.ttest_1samp(Learn['internet_research'], 2.5)"
   ]
  },
  {
   "cell_type": "code",
   "execution_count": 112,
   "metadata": {
    "scrolled": false
   },
   "outputs": [
    {
     "data": {
      "text/plain": [
       "(3.6905455478205864, 3.9690289202645204)"
      ]
     },
     "execution_count": 112,
     "metadata": {},
     "output_type": "execute_result"
    }
   ],
   "source": [
    "sms.DescrStatsW(Learn.internet_research).tconfint_mean()"
   ]
  },
  {
   "cell_type": "code",
   "execution_count": 113,
   "metadata": {
    "scrolled": true
   },
   "outputs": [
    {
     "data": {
      "text/plain": [
       "-0.03465745170940435"
      ]
     },
     "execution_count": 113,
     "metadata": {},
     "output_type": "execute_result"
    }
   ],
   "source": [
    "Learn['Styl'].corr(Learn['CR_taught'])"
   ]
  },
  {
   "cell_type": "code",
   "execution_count": 114,
   "metadata": {},
   "outputs": [],
   "source": [
    "LearninAgeStyle = Learn[['age', 'Style']]"
   ]
  },
  {
   "cell_type": "code",
   "execution_count": 115,
   "metadata": {
    "scrolled": true
   },
   "outputs": [
    {
     "data": {
      "image/png": "[encoded data removed]",
      "text/plain": [
       "<Figure size 432x288 with 1 Axes>"
      ]
     },
     "metadata": {
      "needs_background": "light"
     },
     "output_type": "display_data"
    }
   ],
   "source": [
    "LearninAgeStyle.plot()\n",
    "plt.show()"
   ]
  },
  {
   "cell_type": "code",
   "execution_count": 116,
   "metadata": {},
   "outputs": [],
   "source": [
    "LearninSexStyle = Learn[['sex', 'Style']]"
   ]
  },
  {
   "cell_type": "code",
   "execution_count": 117,
   "metadata": {
    "scrolled": true
   },
   "outputs": [
    {
     "data": {
      "image/png": "[encoded data removed]",
      "text/plain": [
       "<Figure size 432x288 with 1 Axes>"
      ]
     },
     "metadata": {
      "needs_background": "light"
     },
     "output_type": "display_data"
    }
   ],
   "source": [
    "LearninSexStyle.plot()\n",
    "plt.show()"
   ]
  },
  {
   "cell_type": "code",
   "execution_count": 118,
   "metadata": {},
   "outputs": [],
   "source": [
    "LearninPersonalityStyle = Learn[['Personality', 'Style']]"
   ]
  },
  {
   "cell_type": "code",
   "execution_count": 119,
   "metadata": {
    "scrolled": true
   },
   "outputs": [
    {
     "data": {
      "image/png": "[encoded data removed]",
      "text/plain": [
       "<Figure size 432x288 with 1 Axes>"
      ]
     },
     "metadata": {
      "needs_background": "light"
     },
     "output_type": "display_data"
    }
   ],
   "source": [
    "LearninPersonalityStyle.plot()\n",
    "plt.show()"
   ]
  },
  {
   "cell_type": "code",
   "execution_count": 120,
   "metadata": {},
   "outputs": [],
   "source": [
    "LearninRegionCodeStyle = Learn[['RegionCode', 'Style']]"
   ]
  },
  {
   "cell_type": "code",
   "execution_count": 121,
   "metadata": {
    "scrolled": true
   },
   "outputs": [
    {
     "data": {
      "image/png": "[encoded data removed]",
      "text/plain": [
       "<Figure size 432x288 with 1 Axes>"
      ]
     },
     "metadata": {
      "needs_background": "light"
     },
     "output_type": "display_data"
    }
   ],
   "source": [
    "LearninRegionCodeStyle.plot()\n",
    "plt.show()"
   ]
  },
  {
   "cell_type": "code",
   "execution_count": 122,
   "metadata": {},
   "outputs": [],
   "source": [
    "LearnDrop = Learn"
   ]
  },
  {
   "cell_type": "code",
   "execution_count": 123,
   "metadata": {
    "scrolled": true
   },
   "outputs": [
    {
     "data": {
      "text/html": [
       "<div>\n",
       "<style scoped>\n",
       "    .dataframe tbody tr th:only-of-type {\n",
       "        vertical-align: middle;\n",
       "    }\n",
       "\n",
       "    .dataframe tbody tr th {\n",
       "        vertical-align: top;\n",
       "    }\n",
       "\n",
       "    .dataframe thead th {\n",
       "        text-align: right;\n",
       "    }\n",
       "</style>\n",
       "<table border=\"1\" class=\"dataframe\">\n",
       "  <thead>\n",
       "    <tr style=\"text-align: right;\">\n",
       "      <th></th>\n",
       "      <th>RegionCode</th>\n",
       "      <th>age</th>\n",
       "      <th>internet_research</th>\n",
       "      <th>read_1</th>\n",
       "      <th>hear_1</th>\n",
       "      <th>see_1</th>\n",
       "      <th>say_1</th>\n",
       "      <th>do_1</th>\n",
       "      <th>Criticalthinking_1</th>\n",
       "      <th>groups_1</th>\n",
       "      <th>connections_1</th>\n",
       "      <th>Personality</th>\n",
       "      <th>ExtrovertTrue</th>\n",
       "      <th>sex</th>\n",
       "      <th>CR_taught</th>\n",
       "      <th>Styl</th>\n",
       "    </tr>\n",
       "    <tr>\n",
       "      <th>Unnamed: 0</th>\n",
       "      <th></th>\n",
       "      <th></th>\n",
       "      <th></th>\n",
       "      <th></th>\n",
       "      <th></th>\n",
       "      <th></th>\n",
       "      <th></th>\n",
       "      <th></th>\n",
       "      <th></th>\n",
       "      <th></th>\n",
       "      <th></th>\n",
       "      <th></th>\n",
       "      <th></th>\n",
       "      <th></th>\n",
       "      <th></th>\n",
       "      <th></th>\n",
       "    </tr>\n",
       "  </thead>\n",
       "  <tbody>\n",
       "    <tr>\n",
       "      <th>1</th>\n",
       "      <td>7</td>\n",
       "      <td>39.0</td>\n",
       "      <td>3</td>\n",
       "      <td>5</td>\n",
       "      <td>5</td>\n",
       "      <td>5</td>\n",
       "      <td>5</td>\n",
       "      <td>5</td>\n",
       "      <td>5</td>\n",
       "      <td>5</td>\n",
       "      <td>5</td>\n",
       "      <td>8.0</td>\n",
       "      <td>True</td>\n",
       "      <td>0.0</td>\n",
       "      <td>1</td>\n",
       "      <td>4</td>\n",
       "    </tr>\n",
       "    <tr>\n",
       "      <th>2</th>\n",
       "      <td>4</td>\n",
       "      <td>31.0</td>\n",
       "      <td>5</td>\n",
       "      <td>4</td>\n",
       "      <td>2</td>\n",
       "      <td>4</td>\n",
       "      <td>2</td>\n",
       "      <td>5</td>\n",
       "      <td>4</td>\n",
       "      <td>5</td>\n",
       "      <td>5</td>\n",
       "      <td>6.0</td>\n",
       "      <td>False</td>\n",
       "      <td>1.0</td>\n",
       "      <td>1</td>\n",
       "      <td>4</td>\n",
       "    </tr>\n",
       "    <tr>\n",
       "      <th>3</th>\n",
       "      <td>7</td>\n",
       "      <td>24.0</td>\n",
       "      <td>4</td>\n",
       "      <td>5</td>\n",
       "      <td>5</td>\n",
       "      <td>5</td>\n",
       "      <td>5</td>\n",
       "      <td>5</td>\n",
       "      <td>3</td>\n",
       "      <td>5</td>\n",
       "      <td>5</td>\n",
       "      <td>7.0</td>\n",
       "      <td>True</td>\n",
       "      <td>0.0</td>\n",
       "      <td>1</td>\n",
       "      <td>3</td>\n",
       "    </tr>\n",
       "    <tr>\n",
       "      <th>4</th>\n",
       "      <td>7</td>\n",
       "      <td>19.0</td>\n",
       "      <td>3</td>\n",
       "      <td>5</td>\n",
       "      <td>3</td>\n",
       "      <td>4</td>\n",
       "      <td>3</td>\n",
       "      <td>4</td>\n",
       "      <td>5</td>\n",
       "      <td>4</td>\n",
       "      <td>5</td>\n",
       "      <td>9.0</td>\n",
       "      <td>True</td>\n",
       "      <td>1.0</td>\n",
       "      <td>0</td>\n",
       "      <td>4</td>\n",
       "    </tr>\n",
       "    <tr>\n",
       "      <th>5</th>\n",
       "      <td>7</td>\n",
       "      <td>21.0</td>\n",
       "      <td>5</td>\n",
       "      <td>5</td>\n",
       "      <td>5</td>\n",
       "      <td>5</td>\n",
       "      <td>5</td>\n",
       "      <td>5</td>\n",
       "      <td>5</td>\n",
       "      <td>2</td>\n",
       "      <td>4</td>\n",
       "      <td>6.0</td>\n",
       "      <td>False</td>\n",
       "      <td>1.0</td>\n",
       "      <td>1</td>\n",
       "      <td>3</td>\n",
       "    </tr>\n",
       "  </tbody>\n",
       "</table>\n",
       "</div>"
      ],
      "text/plain": [
       "            RegionCode   age  internet_research  read_1  hear_1  see_1  say_1  \\\n",
       "Unnamed: 0                                                                      \n",
       "1                    7  39.0                  3       5       5      5      5   \n",
       "2                    4  31.0                  5       4       2      4      2   \n",
       "3                    7  24.0                  4       5       5      5      5   \n",
       "4                    7  19.0                  3       5       3      4      3   \n",
       "5                    7  21.0                  5       5       5      5      5   \n",
       "\n",
       "            do_1  Criticalthinking_1  groups_1  connections_1  Personality  \\\n",
       "Unnamed: 0                                                                   \n",
       "1              5                   5         5              5          8.0   \n",
       "2              5                   4         5              5          6.0   \n",
       "3              5                   3         5              5          7.0   \n",
       "4              4                   5         4              5          9.0   \n",
       "5              5                   5         2              4          6.0   \n",
       "\n",
       "            ExtrovertTrue  sex  CR_taught  Styl  \n",
       "Unnamed: 0                                       \n",
       "1                    True  0.0          1     4  \n",
       "2                   False  1.0          1     4  \n",
       "3                    True  0.0          1     3  \n",
       "4                    True  1.0          0     4  \n",
       "5                   False  1.0          1     3  "
      ]
     },
     "execution_count": 123,
     "metadata": {},
     "output_type": "execute_result"
    }
   ],
   "source": [
    "LearnDrop.drop(['Region', 'respondent_id', \n",
    "                        'State','gender','CriticalThinking_Taught', \n",
    "                        'AK_Other','IorE','MaleTrue', 'Style'],\n",
    "             axis=1, inplace=True)\n",
    "LearnDrop.head()\n",
    "#LearnDrop.corr(method =' pearson')"
   ]
  },
  {
   "cell_type": "code",
   "execution_count": 125,
   "metadata": {},
   "outputs": [
    {
     "data": {
      "text/html": [
       "<style  type=\"text/css\" >\n",
       "    #T_f847ffa6_8bf7_11e9_ab00_48ba4ef7cf5erow0_col0 {\n",
       "            background-color:  #b40426;\n",
       "        }    #T_f847ffa6_8bf7_11e9_ab00_48ba4ef7cf5erow0_col1 {\n",
       "            background-color:  #b2ccfb;\n",
       "        }    #T_f847ffa6_8bf7_11e9_ab00_48ba4ef7cf5erow0_col2 {\n",
       "            background-color:  #3b4cc0;\n",
       "        }    #T_f847ffa6_8bf7_11e9_ab00_48ba4ef7cf5erow0_col3 {\n",
       "            background-color:  #6788ee;\n",
       "        }    #T_f847ffa6_8bf7_11e9_ab00_48ba4ef7cf5erow0_col4 {\n",
       "            background-color:  #8badfd;\n",
       "        }    #T_f847ffa6_8bf7_11e9_ab00_48ba4ef7cf5erow0_col5 {\n",
       "            background-color:  #8caffe;\n",
       "        }    #T_f847ffa6_8bf7_11e9_ab00_48ba4ef7cf5erow0_col6 {\n",
       "            background-color:  #8fb1fe;\n",
       "        }    #T_f847ffa6_8bf7_11e9_ab00_48ba4ef7cf5erow0_col7 {\n",
       "            background-color:  #92b4fe;\n",
       "        }    #T_f847ffa6_8bf7_11e9_ab00_48ba4ef7cf5erow0_col8 {\n",
       "            background-color:  #6180e9;\n",
       "        }    #T_f847ffa6_8bf7_11e9_ab00_48ba4ef7cf5erow0_col9 {\n",
       "            background-color:  #7da0f9;\n",
       "        }    #T_f847ffa6_8bf7_11e9_ab00_48ba4ef7cf5erow0_col10 {\n",
       "            background-color:  #7699f6;\n",
       "        }    #T_f847ffa6_8bf7_11e9_ab00_48ba4ef7cf5erow0_col11 {\n",
       "            background-color:  #85a8fc;\n",
       "        }    #T_f847ffa6_8bf7_11e9_ab00_48ba4ef7cf5erow0_col12 {\n",
       "            background-color:  #779af7;\n",
       "        }    #T_f847ffa6_8bf7_11e9_ab00_48ba4ef7cf5erow0_col13 {\n",
       "            background-color:  #4a63d3;\n",
       "        }    #T_f847ffa6_8bf7_11e9_ab00_48ba4ef7cf5erow0_col14 {\n",
       "            background-color:  #445acc;\n",
       "        }    #T_f847ffa6_8bf7_11e9_ab00_48ba4ef7cf5erow0_col15 {\n",
       "            background-color:  #5b7ae5;\n",
       "        }    #T_f847ffa6_8bf7_11e9_ab00_48ba4ef7cf5erow1_col0 {\n",
       "            background-color:  #cdd9ec;\n",
       "        }    #T_f847ffa6_8bf7_11e9_ab00_48ba4ef7cf5erow1_col1 {\n",
       "            background-color:  #b40426;\n",
       "        }    #T_f847ffa6_8bf7_11e9_ab00_48ba4ef7cf5erow1_col2 {\n",
       "            background-color:  #3b4cc0;\n",
       "        }    #T_f847ffa6_8bf7_11e9_ab00_48ba4ef7cf5erow1_col3 {\n",
       "            background-color:  #9bbcff;\n",
       "        }    #T_f847ffa6_8bf7_11e9_ab00_48ba4ef7cf5erow1_col4 {\n",
       "            background-color:  #9fbfff;\n",
       "        }    #T_f847ffa6_8bf7_11e9_ab00_48ba4ef7cf5erow1_col5 {\n",
       "            background-color:  #a1c0ff;\n",
       "        }    #T_f847ffa6_8bf7_11e9_ab00_48ba4ef7cf5erow1_col6 {\n",
       "            background-color:  #a9c6fd;\n",
       "        }    #T_f847ffa6_8bf7_11e9_ab00_48ba4ef7cf5erow1_col7 {\n",
       "            background-color:  #89acfd;\n",
       "        }    #T_f847ffa6_8bf7_11e9_ab00_48ba4ef7cf5erow1_col8 {\n",
       "            background-color:  #84a7fc;\n",
       "        }    #T_f847ffa6_8bf7_11e9_ab00_48ba4ef7cf5erow1_col9 {\n",
       "            background-color:  #94b6ff;\n",
       "        }    #T_f847ffa6_8bf7_11e9_ab00_48ba4ef7cf5erow1_col10 {\n",
       "            background-color:  #89acfd;\n",
       "        }    #T_f847ffa6_8bf7_11e9_ab00_48ba4ef7cf5erow1_col11 {\n",
       "            background-color:  #bed2f6;\n",
       "        }    #T_f847ffa6_8bf7_11e9_ab00_48ba4ef7cf5erow1_col12 {\n",
       "            background-color:  #b6cefa;\n",
       "        }    #T_f847ffa6_8bf7_11e9_ab00_48ba4ef7cf5erow1_col13 {\n",
       "            background-color:  #6f92f3;\n",
       "        }    #T_f847ffa6_8bf7_11e9_ab00_48ba4ef7cf5erow1_col14 {\n",
       "            background-color:  #6c8ff1;\n",
       "        }    #T_f847ffa6_8bf7_11e9_ab00_48ba4ef7cf5erow1_col15 {\n",
       "            background-color:  #5f7fe8;\n",
       "        }    #T_f847ffa6_8bf7_11e9_ab00_48ba4ef7cf5erow2_col0 {\n",
       "            background-color:  #6384eb;\n",
       "        }    #T_f847ffa6_8bf7_11e9_ab00_48ba4ef7cf5erow2_col1 {\n",
       "            background-color:  #3b4cc0;\n",
       "        }    #T_f847ffa6_8bf7_11e9_ab00_48ba4ef7cf5erow2_col2 {\n",
       "            background-color:  #b40426;\n",
       "        }    #T_f847ffa6_8bf7_11e9_ab00_48ba4ef7cf5erow2_col3 {\n",
       "            background-color:  #b3cdfb;\n",
       "        }    #T_f847ffa6_8bf7_11e9_ab00_48ba4ef7cf5erow2_col4 {\n",
       "            background-color:  #88abfd;\n",
       "        }    #T_f847ffa6_8bf7_11e9_ab00_48ba4ef7cf5erow2_col5 {\n",
       "            background-color:  #98b9ff;\n",
       "        }    #T_f847ffa6_8bf7_11e9_ab00_48ba4ef7cf5erow2_col6 {\n",
       "            background-color:  #a6c4fe;\n",
       "        }    #T_f847ffa6_8bf7_11e9_ab00_48ba4ef7cf5erow2_col7 {\n",
       "            background-color:  #abc8fd;\n",
       "        }    #T_f847ffa6_8bf7_11e9_ab00_48ba4ef7cf5erow2_col8 {\n",
       "            background-color:  #dcdddd;\n",
       "        }    #T_f847ffa6_8bf7_11e9_ab00_48ba4ef7cf5erow2_col9 {\n",
       "            background-color:  #cbd8ee;\n",
       "        }    #T_f847ffa6_8bf7_11e9_ab00_48ba4ef7cf5erow2_col10 {\n",
       "            background-color:  #d4dbe6;\n",
       "        }    #T_f847ffa6_8bf7_11e9_ab00_48ba4ef7cf5erow2_col11 {\n",
       "            background-color:  #5f7fe8;\n",
       "        }    #T_f847ffa6_8bf7_11e9_ab00_48ba4ef7cf5erow2_col12 {\n",
       "            background-color:  #5d7ce6;\n",
       "        }    #T_f847ffa6_8bf7_11e9_ab00_48ba4ef7cf5erow2_col13 {\n",
       "            background-color:  #bbd1f8;\n",
       "        }    #T_f847ffa6_8bf7_11e9_ab00_48ba4ef7cf5erow2_col14 {\n",
       "            background-color:  #abc8fd;\n",
       "        }    #T_f847ffa6_8bf7_11e9_ab00_48ba4ef7cf5erow2_col15 {\n",
       "            background-color:  #aac7fd;\n",
       "        }    #T_f847ffa6_8bf7_11e9_ab00_48ba4ef7cf5erow3_col0 {\n",
       "            background-color:  #779af7;\n",
       "        }    #T_f847ffa6_8bf7_11e9_ab00_48ba4ef7cf5erow3_col1 {\n",
       "            background-color:  #85a8fc;\n",
       "        }    #T_f847ffa6_8bf7_11e9_ab00_48ba4ef7cf5erow3_col2 {\n",
       "            background-color:  #a1c0ff;\n",
       "        }    #T_f847ffa6_8bf7_11e9_ab00_48ba4ef7cf5erow3_col3 {\n",
       "            background-color:  #b40426;\n",
       "        }    #T_f847ffa6_8bf7_11e9_ab00_48ba4ef7cf5erow3_col4 {\n",
       "            background-color:  #9fbfff;\n",
       "        }    #T_f847ffa6_8bf7_11e9_ab00_48ba4ef7cf5erow3_col5 {\n",
       "            background-color:  #9ebeff;\n",
       "        }    #T_f847ffa6_8bf7_11e9_ab00_48ba4ef7cf5erow3_col6 {\n",
       "            background-color:  #86a9fc;\n",
       "        }    #T_f847ffa6_8bf7_11e9_ab00_48ba4ef7cf5erow3_col7 {\n",
       "            background-color:  #7a9df8;\n",
       "        }    #T_f847ffa6_8bf7_11e9_ab00_48ba4ef7cf5erow3_col8 {\n",
       "            background-color:  #b5cdfa;\n",
       "        }    #T_f847ffa6_8bf7_11e9_ab00_48ba4ef7cf5erow3_col9 {\n",
       "            background-color:  #a5c3fe;\n",
       "        }    #T_f847ffa6_8bf7_11e9_ab00_48ba4ef7cf5erow3_col10 {\n",
       "            background-color:  #bed2f6;\n",
       "        }    #T_f847ffa6_8bf7_11e9_ab00_48ba4ef7cf5erow3_col11 {\n",
       "            background-color:  #8caffe;\n",
       "        }    #T_f847ffa6_8bf7_11e9_ab00_48ba4ef7cf5erow3_col12 {\n",
       "            background-color:  #82a6fb;\n",
       "        }    #T_f847ffa6_8bf7_11e9_ab00_48ba4ef7cf5erow3_col13 {\n",
       "            background-color:  #5b7ae5;\n",
       "        }    #T_f847ffa6_8bf7_11e9_ab00_48ba4ef7cf5erow3_col14 {\n",
       "            background-color:  #85a8fc;\n",
       "        }    #T_f847ffa6_8bf7_11e9_ab00_48ba4ef7cf5erow3_col15 {\n",
       "            background-color:  #3b4cc0;\n",
       "        }    #T_f847ffa6_8bf7_11e9_ab00_48ba4ef7cf5erow4_col0 {\n",
       "            background-color:  #7396f5;\n",
       "        }    #T_f847ffa6_8bf7_11e9_ab00_48ba4ef7cf5erow4_col1 {\n",
       "            background-color:  #6180e9;\n",
       "        }    #T_f847ffa6_8bf7_11e9_ab00_48ba4ef7cf5erow4_col2 {\n",
       "            background-color:  #465ecf;\n",
       "        }    #T_f847ffa6_8bf7_11e9_ab00_48ba4ef7cf5erow4_col3 {\n",
       "            background-color:  #7a9df8;\n",
       "        }    #T_f847ffa6_8bf7_11e9_ab00_48ba4ef7cf5erow4_col4 {\n",
       "            background-color:  #b40426;\n",
       "        }    #T_f847ffa6_8bf7_11e9_ab00_48ba4ef7cf5erow4_col5 {\n",
       "            background-color:  #dddcdc;\n",
       "        }    #T_f847ffa6_8bf7_11e9_ab00_48ba4ef7cf5erow4_col6 {\n",
       "            background-color:  #b3cdfb;\n",
       "        }    #T_f847ffa6_8bf7_11e9_ab00_48ba4ef7cf5erow4_col7 {\n",
       "            background-color:  #adc9fd;\n",
       "        }    #T_f847ffa6_8bf7_11e9_ab00_48ba4ef7cf5erow4_col8 {\n",
       "            background-color:  #6a8bef;\n",
       "        }    #T_f847ffa6_8bf7_11e9_ab00_48ba4ef7cf5erow4_col9 {\n",
       "            background-color:  #516ddb;\n",
       "        }    #T_f847ffa6_8bf7_11e9_ab00_48ba4ef7cf5erow4_col10 {\n",
       "            background-color:  #7b9ff9;\n",
       "        }    #T_f847ffa6_8bf7_11e9_ab00_48ba4ef7cf5erow4_col11 {\n",
       "            background-color:  #7396f5;\n",
       "        }    #T_f847ffa6_8bf7_11e9_ab00_48ba4ef7cf5erow4_col12 {\n",
       "            background-color:  #8fb1fe;\n",
       "        }    #T_f847ffa6_8bf7_11e9_ab00_48ba4ef7cf5erow4_col13 {\n",
       "            background-color:  #3b4cc0;\n",
       "        }    #T_f847ffa6_8bf7_11e9_ab00_48ba4ef7cf5erow4_col14 {\n",
       "            background-color:  #6788ee;\n",
       "        }    #T_f847ffa6_8bf7_11e9_ab00_48ba4ef7cf5erow4_col15 {\n",
       "            background-color:  #4e68d8;\n",
       "        }    #T_f847ffa6_8bf7_11e9_ab00_48ba4ef7cf5erow5_col0 {\n",
       "            background-color:  #7a9df8;\n",
       "        }    #T_f847ffa6_8bf7_11e9_ab00_48ba4ef7cf5erow5_col1 {\n",
       "            background-color:  #688aef;\n",
       "        }    #T_f847ffa6_8bf7_11e9_ab00_48ba4ef7cf5erow5_col2 {\n",
       "            background-color:  #5f7fe8;\n",
       "        }    #T_f847ffa6_8bf7_11e9_ab00_48ba4ef7cf5erow5_col3 {\n",
       "            background-color:  #7da0f9;\n",
       "        }    #T_f847ffa6_8bf7_11e9_ab00_48ba4ef7cf5erow5_col4 {\n",
       "            background-color:  #e0dbd8;\n",
       "        }    #T_f847ffa6_8bf7_11e9_ab00_48ba4ef7cf5erow5_col5 {\n",
       "            background-color:  #b40426;\n",
       "        }    #T_f847ffa6_8bf7_11e9_ab00_48ba4ef7cf5erow5_col6 {\n",
       "            background-color:  #c7d7f0;\n",
       "        }    #T_f847ffa6_8bf7_11e9_ab00_48ba4ef7cf5erow5_col7 {\n",
       "            background-color:  #dfdbd9;\n",
       "        }    #T_f847ffa6_8bf7_11e9_ab00_48ba4ef7cf5erow5_col8 {\n",
       "            background-color:  #5a78e4;\n",
       "        }    #T_f847ffa6_8bf7_11e9_ab00_48ba4ef7cf5erow5_col9 {\n",
       "            background-color:  #6a8bef;\n",
       "        }    #T_f847ffa6_8bf7_11e9_ab00_48ba4ef7cf5erow5_col10 {\n",
       "            background-color:  #8fb1fe;\n",
       "        }    #T_f847ffa6_8bf7_11e9_ab00_48ba4ef7cf5erow5_col11 {\n",
       "            background-color:  #3b4cc0;\n",
       "        }    #T_f847ffa6_8bf7_11e9_ab00_48ba4ef7cf5erow5_col12 {\n",
       "            background-color:  #3b4cc0;\n",
       "        }    #T_f847ffa6_8bf7_11e9_ab00_48ba4ef7cf5erow5_col13 {\n",
       "            background-color:  #3b4cc0;\n",
       "        }    #T_f847ffa6_8bf7_11e9_ab00_48ba4ef7cf5erow5_col14 {\n",
       "            background-color:  #4f69d9;\n",
       "        }    #T_f847ffa6_8bf7_11e9_ab00_48ba4ef7cf5erow5_col15 {\n",
       "            background-color:  #5b7ae5;\n",
       "        }    #T_f847ffa6_8bf7_11e9_ab00_48ba4ef7cf5erow6_col0 {\n",
       "            background-color:  #7597f6;\n",
       "        }    #T_f847ffa6_8bf7_11e9_ab00_48ba4ef7cf5erow6_col1 {\n",
       "            background-color:  #688aef;\n",
       "        }    #T_f847ffa6_8bf7_11e9_ab00_48ba4ef7cf5erow6_col2 {\n",
       "            background-color:  #6788ee;\n",
       "        }    #T_f847ffa6_8bf7_11e9_ab00_48ba4ef7cf5erow6_col3 {\n",
       "            background-color:  #5a78e4;\n",
       "        }    #T_f847ffa6_8bf7_11e9_ab00_48ba4ef7cf5erow6_col4 {\n",
       "            background-color:  #b1cbfc;\n",
       "        }    #T_f847ffa6_8bf7_11e9_ab00_48ba4ef7cf5erow6_col5 {\n",
       "            background-color:  #c1d4f4;\n",
       "        }    #T_f847ffa6_8bf7_11e9_ab00_48ba4ef7cf5erow6_col6 {\n",
       "            background-color:  #b40426;\n",
       "        }    #T_f847ffa6_8bf7_11e9_ab00_48ba4ef7cf5erow6_col7 {\n",
       "            background-color:  #f4c6af;\n",
       "        }    #T_f847ffa6_8bf7_11e9_ab00_48ba4ef7cf5erow6_col8 {\n",
       "            background-color:  #96b7ff;\n",
       "        }    #T_f847ffa6_8bf7_11e9_ab00_48ba4ef7cf5erow6_col9 {\n",
       "            background-color:  #6180e9;\n",
       "        }    #T_f847ffa6_8bf7_11e9_ab00_48ba4ef7cf5erow6_col10 {\n",
       "            background-color:  #8caffe;\n",
       "        }    #T_f847ffa6_8bf7_11e9_ab00_48ba4ef7cf5erow6_col11 {\n",
       "            background-color:  #5d7ce6;\n",
       "        }    #T_f847ffa6_8bf7_11e9_ab00_48ba4ef7cf5erow6_col12 {\n",
       "            background-color:  #5875e1;\n",
       "        }    #T_f847ffa6_8bf7_11e9_ab00_48ba4ef7cf5erow6_col13 {\n",
       "            background-color:  #4b64d5;\n",
       "        }    #T_f847ffa6_8bf7_11e9_ab00_48ba4ef7cf5erow6_col14 {\n",
       "            background-color:  #3b4cc0;\n",
       "        }    #T_f847ffa6_8bf7_11e9_ab00_48ba4ef7cf5erow6_col15 {\n",
       "            background-color:  #4c66d6;\n",
       "        }    #T_f847ffa6_8bf7_11e9_ab00_48ba4ef7cf5erow7_col0 {\n",
       "            background-color:  #6c8ff1;\n",
       "        }    #T_f847ffa6_8bf7_11e9_ab00_48ba4ef7cf5erow7_col1 {\n",
       "            background-color:  #3b4cc0;\n",
       "        }    #T_f847ffa6_8bf7_11e9_ab00_48ba4ef7cf5erow7_col2 {\n",
       "            background-color:  #6384eb;\n",
       "        }    #T_f847ffa6_8bf7_11e9_ab00_48ba4ef7cf5erow7_col3 {\n",
       "            background-color:  #4257c9;\n",
       "        }    #T_f847ffa6_8bf7_11e9_ab00_48ba4ef7cf5erow7_col4 {\n",
       "            background-color:  #a1c0ff;\n",
       "        }    #T_f847ffa6_8bf7_11e9_ab00_48ba4ef7cf5erow7_col5 {\n",
       "            background-color:  #d6dce4;\n",
       "        }    #T_f847ffa6_8bf7_11e9_ab00_48ba4ef7cf5erow7_col6 {\n",
       "            background-color:  #f2c9b4;\n",
       "        }    #T_f847ffa6_8bf7_11e9_ab00_48ba4ef7cf5erow7_col7 {\n",
       "            background-color:  #b40426;\n",
       "        }    #T_f847ffa6_8bf7_11e9_ab00_48ba4ef7cf5erow7_col8 {\n",
       "            background-color:  #88abfd;\n",
       "        }    #T_f847ffa6_8bf7_11e9_ab00_48ba4ef7cf5erow7_col9 {\n",
       "            background-color:  #5470de;\n",
       "        }    #T_f847ffa6_8bf7_11e9_ab00_48ba4ef7cf5erow7_col10 {\n",
       "            background-color:  #aac7fd;\n",
       "        }    #T_f847ffa6_8bf7_11e9_ab00_48ba4ef7cf5erow7_col11 {\n",
       "            background-color:  #536edd;\n",
       "        }    #T_f847ffa6_8bf7_11e9_ab00_48ba4ef7cf5erow7_col12 {\n",
       "            background-color:  #5a78e4;\n",
       "        }    #T_f847ffa6_8bf7_11e9_ab00_48ba4ef7cf5erow7_col13 {\n",
       "            background-color:  #485fd1;\n",
       "        }    #T_f847ffa6_8bf7_11e9_ab00_48ba4ef7cf5erow7_col14 {\n",
       "            background-color:  #5b7ae5;\n",
       "        }    #T_f847ffa6_8bf7_11e9_ab00_48ba4ef7cf5erow7_col15 {\n",
       "            background-color:  #5f7fe8;\n",
       "        }    #T_f847ffa6_8bf7_11e9_ab00_48ba4ef7cf5erow8_col0 {\n",
       "            background-color:  #4e68d8;\n",
       "        }    #T_f847ffa6_8bf7_11e9_ab00_48ba4ef7cf5erow8_col1 {\n",
       "            background-color:  #4961d2;\n",
       "        }    #T_f847ffa6_8bf7_11e9_ab00_48ba4ef7cf5erow8_col2 {\n",
       "            background-color:  #bbd1f8;\n",
       "        }    #T_f847ffa6_8bf7_11e9_ab00_48ba4ef7cf5erow8_col3 {\n",
       "            background-color:  #98b9ff;\n",
       "        }    #T_f847ffa6_8bf7_11e9_ab00_48ba4ef7cf5erow8_col4 {\n",
       "            background-color:  #7093f3;\n",
       "        }    #T_f847ffa6_8bf7_11e9_ab00_48ba4ef7cf5erow8_col5 {\n",
       "            background-color:  #5a78e4;\n",
       "        }    #T_f847ffa6_8bf7_11e9_ab00_48ba4ef7cf5erow8_col6 {\n",
       "            background-color:  #9ebeff;\n",
       "        }    #T_f847ffa6_8bf7_11e9_ab00_48ba4ef7cf5erow8_col7 {\n",
       "            background-color:  #9abbff;\n",
       "        }    #T_f847ffa6_8bf7_11e9_ab00_48ba4ef7cf5erow8_col8 {\n",
       "            background-color:  #b40426;\n",
       "        }    #T_f847ffa6_8bf7_11e9_ab00_48ba4ef7cf5erow8_col9 {\n",
       "            background-color:  #b2ccfb;\n",
       "        }    #T_f847ffa6_8bf7_11e9_ab00_48ba4ef7cf5erow8_col10 {\n",
       "            background-color:  #cdd9ec;\n",
       "        }    #T_f847ffa6_8bf7_11e9_ab00_48ba4ef7cf5erow8_col11 {\n",
       "            background-color:  #4c66d6;\n",
       "        }    #T_f847ffa6_8bf7_11e9_ab00_48ba4ef7cf5erow8_col12 {\n",
       "            background-color:  #5572df;\n",
       "        }    #T_f847ffa6_8bf7_11e9_ab00_48ba4ef7cf5erow8_col13 {\n",
       "            background-color:  #6384eb;\n",
       "        }    #T_f847ffa6_8bf7_11e9_ab00_48ba4ef7cf5erow8_col14 {\n",
       "            background-color:  #3b4cc0;\n",
       "        }    #T_f847ffa6_8bf7_11e9_ab00_48ba4ef7cf5erow8_col15 {\n",
       "            background-color:  #6687ed;\n",
       "        }    #T_f847ffa6_8bf7_11e9_ab00_48ba4ef7cf5erow9_col0 {\n",
       "            background-color:  #7699f6;\n",
       "        }    #T_f847ffa6_8bf7_11e9_ab00_48ba4ef7cf5erow9_col1 {\n",
       "            background-color:  #6788ee;\n",
       "        }    #T_f847ffa6_8bf7_11e9_ab00_48ba4ef7cf5erow9_col2 {\n",
       "            background-color:  #aac7fd;\n",
       "        }    #T_f847ffa6_8bf7_11e9_ab00_48ba4ef7cf5erow9_col3 {\n",
       "            background-color:  #90b2fe;\n",
       "        }    #T_f847ffa6_8bf7_11e9_ab00_48ba4ef7cf5erow9_col4 {\n",
       "            background-color:  #6384eb;\n",
       "        }    #T_f847ffa6_8bf7_11e9_ab00_48ba4ef7cf5erow9_col5 {\n",
       "            background-color:  #7699f6;\n",
       "        }    #T_f847ffa6_8bf7_11e9_ab00_48ba4ef7cf5erow9_col6 {\n",
       "            background-color:  #7597f6;\n",
       "        }    #T_f847ffa6_8bf7_11e9_ab00_48ba4ef7cf5erow9_col7 {\n",
       "            background-color:  #7597f6;\n",
       "        }    #T_f847ffa6_8bf7_11e9_ab00_48ba4ef7cf5erow9_col8 {\n",
       "            background-color:  #bbd1f8;\n",
       "        }    #T_f847ffa6_8bf7_11e9_ab00_48ba4ef7cf5erow9_col9 {\n",
       "            background-color:  #b40426;\n",
       "        }    #T_f847ffa6_8bf7_11e9_ab00_48ba4ef7cf5erow9_col10 {\n",
       "            background-color:  #f3c8b2;\n",
       "        }    #T_f847ffa6_8bf7_11e9_ab00_48ba4ef7cf5erow9_col11 {\n",
       "            background-color:  #5977e3;\n",
       "        }    #T_f847ffa6_8bf7_11e9_ab00_48ba4ef7cf5erow9_col12 {\n",
       "            background-color:  #455cce;\n",
       "        }    #T_f847ffa6_8bf7_11e9_ab00_48ba4ef7cf5erow9_col13 {\n",
       "            background-color:  #3b4cc0;\n",
       "        }    #T_f847ffa6_8bf7_11e9_ab00_48ba4ef7cf5erow9_col14 {\n",
       "            background-color:  #9abbff;\n",
       "        }    #T_f847ffa6_8bf7_11e9_ab00_48ba4ef7cf5erow9_col15 {\n",
       "            background-color:  #506bda;\n",
       "        }    #T_f847ffa6_8bf7_11e9_ab00_48ba4ef7cf5erow10_col0 {\n",
       "            background-color:  #6687ed;\n",
       "        }    #T_f847ffa6_8bf7_11e9_ab00_48ba4ef7cf5erow10_col1 {\n",
       "            background-color:  #516ddb;\n",
       "        }    #T_f847ffa6_8bf7_11e9_ab00_48ba4ef7cf5erow10_col2 {\n",
       "            background-color:  #afcafc;\n",
       "        }    #T_f847ffa6_8bf7_11e9_ab00_48ba4ef7cf5erow10_col3 {\n",
       "            background-color:  #a6c4fe;\n",
       "        }    #T_f847ffa6_8bf7_11e9_ab00_48ba4ef7cf5erow10_col4 {\n",
       "            background-color:  #85a8fc;\n",
       "        }    #T_f847ffa6_8bf7_11e9_ab00_48ba4ef7cf5erow10_col5 {\n",
       "            background-color:  #92b4fe;\n",
       "        }    #T_f847ffa6_8bf7_11e9_ab00_48ba4ef7cf5erow10_col6 {\n",
       "            background-color:  #97b8ff;\n",
       "        }    #T_f847ffa6_8bf7_11e9_ab00_48ba4ef7cf5erow10_col7 {\n",
       "            background-color:  #bbd1f8;\n",
       "        }    #T_f847ffa6_8bf7_11e9_ab00_48ba4ef7cf5erow10_col8 {\n",
       "            background-color:  #cfdaea;\n",
       "        }    #T_f847ffa6_8bf7_11e9_ab00_48ba4ef7cf5erow10_col9 {\n",
       "            background-color:  #f2cbb7;\n",
       "        }    #T_f847ffa6_8bf7_11e9_ab00_48ba4ef7cf5erow10_col10 {\n",
       "            background-color:  #b40426;\n",
       "        }    #T_f847ffa6_8bf7_11e9_ab00_48ba4ef7cf5erow10_col11 {\n",
       "            background-color:  #6687ed;\n",
       "        }    #T_f847ffa6_8bf7_11e9_ab00_48ba4ef7cf5erow10_col12 {\n",
       "            background-color:  #5e7de7;\n",
       "        }    #T_f847ffa6_8bf7_11e9_ab00_48ba4ef7cf5erow10_col13 {\n",
       "            background-color:  #516ddb;\n",
       "        }    #T_f847ffa6_8bf7_11e9_ab00_48ba4ef7cf5erow10_col14 {\n",
       "            background-color:  #94b6ff;\n",
       "        }    #T_f847ffa6_8bf7_11e9_ab00_48ba4ef7cf5erow10_col15 {\n",
       "            background-color:  #3b4cc0;\n",
       "        }    #T_f847ffa6_8bf7_11e9_ab00_48ba4ef7cf5erow11_col0 {\n",
       "            background-color:  #89acfd;\n",
       "        }    #T_f847ffa6_8bf7_11e9_ab00_48ba4ef7cf5erow11_col1 {\n",
       "            background-color:  #a2c1ff;\n",
       "        }    #T_f847ffa6_8bf7_11e9_ab00_48ba4ef7cf5erow11_col2 {\n",
       "            background-color:  #3b4cc0;\n",
       "        }    #T_f847ffa6_8bf7_11e9_ab00_48ba4ef7cf5erow11_col3 {\n",
       "            background-color:  #80a3fa;\n",
       "        }    #T_f847ffa6_8bf7_11e9_ab00_48ba4ef7cf5erow11_col4 {\n",
       "            background-color:  #8fb1fe;\n",
       "        }    #T_f847ffa6_8bf7_11e9_ab00_48ba4ef7cf5erow11_col5 {\n",
       "            background-color:  #536edd;\n",
       "        }    #T_f847ffa6_8bf7_11e9_ab00_48ba4ef7cf5erow11_col6 {\n",
       "            background-color:  #7da0f9;\n",
       "        }    #T_f847ffa6_8bf7_11e9_ab00_48ba4ef7cf5erow11_col7 {\n",
       "            background-color:  #7ea1fa;\n",
       "        }    #T_f847ffa6_8bf7_11e9_ab00_48ba4ef7cf5erow11_col8 {\n",
       "            background-color:  #6485ec;\n",
       "        }    #T_f847ffa6_8bf7_11e9_ab00_48ba4ef7cf5erow11_col9 {\n",
       "            background-color:  #6485ec;\n",
       "        }    #T_f847ffa6_8bf7_11e9_ab00_48ba4ef7cf5erow11_col10 {\n",
       "            background-color:  #7a9df8;\n",
       "        }    #T_f847ffa6_8bf7_11e9_ab00_48ba4ef7cf5erow11_col11 {\n",
       "            background-color:  #b40426;\n",
       "        }    #T_f847ffa6_8bf7_11e9_ab00_48ba4ef7cf5erow11_col12 {\n",
       "            background-color:  #e36b54;\n",
       "        }    #T_f847ffa6_8bf7_11e9_ab00_48ba4ef7cf5erow11_col13 {\n",
       "            background-color:  #92b4fe;\n",
       "        }    #T_f847ffa6_8bf7_11e9_ab00_48ba4ef7cf5erow11_col14 {\n",
       "            background-color:  #7ea1fa;\n",
       "        }    #T_f847ffa6_8bf7_11e9_ab00_48ba4ef7cf5erow11_col15 {\n",
       "            background-color:  #6b8df0;\n",
       "        }    #T_f847ffa6_8bf7_11e9_ab00_48ba4ef7cf5erow12_col0 {\n",
       "            background-color:  #7ea1fa;\n",
       "        }    #T_f847ffa6_8bf7_11e9_ab00_48ba4ef7cf5erow12_col1 {\n",
       "            background-color:  #9bbcff;\n",
       "        }    #T_f847ffa6_8bf7_11e9_ab00_48ba4ef7cf5erow12_col2 {\n",
       "            background-color:  #3b4cc0;\n",
       "        }    #T_f847ffa6_8bf7_11e9_ab00_48ba4ef7cf5erow12_col3 {\n",
       "            background-color:  #799cf8;\n",
       "        }    #T_f847ffa6_8bf7_11e9_ab00_48ba4ef7cf5erow12_col4 {\n",
       "            background-color:  #aac7fd;\n",
       "        }    #T_f847ffa6_8bf7_11e9_ab00_48ba4ef7cf5erow12_col5 {\n",
       "            background-color:  #5572df;\n",
       "        }    #T_f847ffa6_8bf7_11e9_ab00_48ba4ef7cf5erow12_col6 {\n",
       "            background-color:  #7b9ff9;\n",
       "        }    #T_f847ffa6_8bf7_11e9_ab00_48ba4ef7cf5erow12_col7 {\n",
       "            background-color:  #88abfd;\n",
       "        }    #T_f847ffa6_8bf7_11e9_ab00_48ba4ef7cf5erow12_col8 {\n",
       "            background-color:  #6f92f3;\n",
       "        }    #T_f847ffa6_8bf7_11e9_ab00_48ba4ef7cf5erow12_col9 {\n",
       "            background-color:  #5470de;\n",
       "        }    #T_f847ffa6_8bf7_11e9_ab00_48ba4ef7cf5erow12_col10 {\n",
       "            background-color:  #7597f6;\n",
       "        }    #T_f847ffa6_8bf7_11e9_ab00_48ba4ef7cf5erow12_col11 {\n",
       "            background-color:  #e36b54;\n",
       "        }    #T_f847ffa6_8bf7_11e9_ab00_48ba4ef7cf5erow12_col12 {\n",
       "            background-color:  #b40426;\n",
       "        }    #T_f847ffa6_8bf7_11e9_ab00_48ba4ef7cf5erow12_col13 {\n",
       "            background-color:  #a3c2fe;\n",
       "        }    #T_f847ffa6_8bf7_11e9_ab00_48ba4ef7cf5erow12_col14 {\n",
       "            background-color:  #81a4fb;\n",
       "        }    #T_f847ffa6_8bf7_11e9_ab00_48ba4ef7cf5erow12_col15 {\n",
       "            background-color:  #88abfd;\n",
       "        }    #T_f847ffa6_8bf7_11e9_ab00_48ba4ef7cf5erow13_col0 {\n",
       "            background-color:  #4358cb;\n",
       "        }    #T_f847ffa6_8bf7_11e9_ab00_48ba4ef7cf5erow13_col1 {\n",
       "            background-color:  #3f53c6;\n",
       "        }    #T_f847ffa6_8bf7_11e9_ab00_48ba4ef7cf5erow13_col2 {\n",
       "            background-color:  #96b7ff;\n",
       "        }    #T_f847ffa6_8bf7_11e9_ab00_48ba4ef7cf5erow13_col3 {\n",
       "            background-color:  #445acc;\n",
       "        }    #T_f847ffa6_8bf7_11e9_ab00_48ba4ef7cf5erow13_col4 {\n",
       "            background-color:  #4c66d6;\n",
       "        }    #T_f847ffa6_8bf7_11e9_ab00_48ba4ef7cf5erow13_col5 {\n",
       "            background-color:  #465ecf;\n",
       "        }    #T_f847ffa6_8bf7_11e9_ab00_48ba4ef7cf5erow13_col6 {\n",
       "            background-color:  #6180e9;\n",
       "        }    #T_f847ffa6_8bf7_11e9_ab00_48ba4ef7cf5erow13_col7 {\n",
       "            background-color:  #688aef;\n",
       "        }    #T_f847ffa6_8bf7_11e9_ab00_48ba4ef7cf5erow13_col8 {\n",
       "            background-color:  #6f92f3;\n",
       "        }    #T_f847ffa6_8bf7_11e9_ab00_48ba4ef7cf5erow13_col9 {\n",
       "            background-color:  #3b4cc0;\n",
       "        }    #T_f847ffa6_8bf7_11e9_ab00_48ba4ef7cf5erow13_col10 {\n",
       "            background-color:  #5b7ae5;\n",
       "        }    #T_f847ffa6_8bf7_11e9_ab00_48ba4ef7cf5erow13_col11 {\n",
       "            background-color:  #86a9fc;\n",
       "        }    #T_f847ffa6_8bf7_11e9_ab00_48ba4ef7cf5erow13_col12 {\n",
       "            background-color:  #97b8ff;\n",
       "        }    #T_f847ffa6_8bf7_11e9_ab00_48ba4ef7cf5erow13_col13 {\n",
       "            background-color:  #b40426;\n",
       "        }    #T_f847ffa6_8bf7_11e9_ab00_48ba4ef7cf5erow13_col14 {\n",
       "            background-color:  #536edd;\n",
       "        }    #T_f847ffa6_8bf7_11e9_ab00_48ba4ef7cf5erow13_col15 {\n",
       "            background-color:  #8fb1fe;\n",
       "        }    #T_f847ffa6_8bf7_11e9_ab00_48ba4ef7cf5erow14_col0 {\n",
       "            background-color:  #3b4cc0;\n",
       "        }    #T_f847ffa6_8bf7_11e9_ab00_48ba4ef7cf5erow14_col1 {\n",
       "            background-color:  #3b4cc0;\n",
       "        }    #T_f847ffa6_8bf7_11e9_ab00_48ba4ef7cf5erow14_col2 {\n",
       "            background-color:  #80a3fa;\n",
       "        }    #T_f847ffa6_8bf7_11e9_ab00_48ba4ef7cf5erow14_col3 {\n",
       "            background-color:  #6c8ff1;\n",
       "        }    #T_f847ffa6_8bf7_11e9_ab00_48ba4ef7cf5erow14_col4 {\n",
       "            background-color:  #779af7;\n",
       "        }    #T_f847ffa6_8bf7_11e9_ab00_48ba4ef7cf5erow14_col5 {\n",
       "            background-color:  #5977e3;\n",
       "        }    #T_f847ffa6_8bf7_11e9_ab00_48ba4ef7cf5erow14_col6 {\n",
       "            background-color:  #4e68d8;\n",
       "        }    #T_f847ffa6_8bf7_11e9_ab00_48ba4ef7cf5erow14_col7 {\n",
       "            background-color:  #799cf8;\n",
       "        }    #T_f847ffa6_8bf7_11e9_ab00_48ba4ef7cf5erow14_col8 {\n",
       "            background-color:  #445acc;\n",
       "        }    #T_f847ffa6_8bf7_11e9_ab00_48ba4ef7cf5erow14_col9 {\n",
       "            background-color:  #97b8ff;\n",
       "        }    #T_f847ffa6_8bf7_11e9_ab00_48ba4ef7cf5erow14_col10 {\n",
       "            background-color:  #9abbff;\n",
       "        }    #T_f847ffa6_8bf7_11e9_ab00_48ba4ef7cf5erow14_col11 {\n",
       "            background-color:  #7295f4;\n",
       "        }    #T_f847ffa6_8bf7_11e9_ab00_48ba4ef7cf5erow14_col12 {\n",
       "            background-color:  #7295f4;\n",
       "        }    #T_f847ffa6_8bf7_11e9_ab00_48ba4ef7cf5erow14_col13 {\n",
       "            background-color:  #506bda;\n",
       "        }    #T_f847ffa6_8bf7_11e9_ab00_48ba4ef7cf5erow14_col14 {\n",
       "            background-color:  #b40426;\n",
       "        }    #T_f847ffa6_8bf7_11e9_ab00_48ba4ef7cf5erow14_col15 {\n",
       "            background-color:  #5875e1;\n",
       "        }    #T_f847ffa6_8bf7_11e9_ab00_48ba4ef7cf5erow15_col0 {\n",
       "            background-color:  #6c8ff1;\n",
       "        }    #T_f847ffa6_8bf7_11e9_ab00_48ba4ef7cf5erow15_col1 {\n",
       "            background-color:  #465ecf;\n",
       "        }    #T_f847ffa6_8bf7_11e9_ab00_48ba4ef7cf5erow15_col2 {\n",
       "            background-color:  #96b7ff;\n",
       "        }    #T_f847ffa6_8bf7_11e9_ab00_48ba4ef7cf5erow15_col3 {\n",
       "            background-color:  #3b4cc0;\n",
       "        }    #T_f847ffa6_8bf7_11e9_ab00_48ba4ef7cf5erow15_col4 {\n",
       "            background-color:  #779af7;\n",
       "        }    #T_f847ffa6_8bf7_11e9_ab00_48ba4ef7cf5erow15_col5 {\n",
       "            background-color:  #80a3fa;\n",
       "        }    #T_f847ffa6_8bf7_11e9_ab00_48ba4ef7cf5erow15_col6 {\n",
       "            background-color:  #799cf8;\n",
       "        }    #T_f847ffa6_8bf7_11e9_ab00_48ba4ef7cf5erow15_col7 {\n",
       "            background-color:  #96b7ff;\n",
       "        }    #T_f847ffa6_8bf7_11e9_ab00_48ba4ef7cf5erow15_col8 {\n",
       "            background-color:  #89acfd;\n",
       "        }    #T_f847ffa6_8bf7_11e9_ab00_48ba4ef7cf5erow15_col9 {\n",
       "            background-color:  #688aef;\n",
       "        }    #T_f847ffa6_8bf7_11e9_ab00_48ba4ef7cf5erow15_col10 {\n",
       "            background-color:  #5b7ae5;\n",
       "        }    #T_f847ffa6_8bf7_11e9_ab00_48ba4ef7cf5erow15_col11 {\n",
       "            background-color:  #779af7;\n",
       "        }    #T_f847ffa6_8bf7_11e9_ab00_48ba4ef7cf5erow15_col12 {\n",
       "            background-color:  #90b2fe;\n",
       "        }    #T_f847ffa6_8bf7_11e9_ab00_48ba4ef7cf5erow15_col13 {\n",
       "            background-color:  #a3c2fe;\n",
       "        }    #T_f847ffa6_8bf7_11e9_ab00_48ba4ef7cf5erow15_col14 {\n",
       "            background-color:  #7093f3;\n",
       "        }    #T_f847ffa6_8bf7_11e9_ab00_48ba4ef7cf5erow15_col15 {\n",
       "            background-color:  #b40426;\n",
       "        }</style>  \n",
       "<table id=\"T_f847ffa6_8bf7_11e9_ab00_48ba4ef7cf5e\" > \n",
       "<thead>    <tr> \n",
       "        <th class=\"blank level0\" ></th> \n",
       "        <th class=\"col_heading level0 col0\" >RegionCode</th> \n",
       "        <th class=\"col_heading level0 col1\" >age</th> \n",
       "        <th class=\"col_heading level0 col2\" >internet_research</th> \n",
       "        <th class=\"col_heading level0 col3\" >read_1</th> \n",
       "        <th class=\"col_heading level0 col4\" >hear_1</th> \n",
       "        <th class=\"col_heading level0 col5\" >see_1</th> \n",
       "        <th class=\"col_heading level0 col6\" >say_1</th> \n",
       "        <th class=\"col_heading level0 col7\" >do_1</th> \n",
       "        <th class=\"col_heading level0 col8\" >Criticalthinking_1</th> \n",
       "        <th class=\"col_heading level0 col9\" >groups_1</th> \n",
       "        <th class=\"col_heading level0 col10\" >connections_1</th> \n",
       "        <th class=\"col_heading level0 col11\" >Personality</th> \n",
       "        <th class=\"col_heading level0 col12\" >ExtrovertTrue</th> \n",
       "        <th class=\"col_heading level0 col13\" >sex</th> \n",
       "        <th class=\"col_heading level0 col14\" >CR_taught</th> \n",
       "        <th class=\"col_heading level0 col15\" >Styl</th> \n",
       "    </tr></thead> \n",
       "<tbody>    <tr> \n",
       "        <th id=\"T_f847ffa6_8bf7_11e9_ab00_48ba4ef7cf5elevel0_row0\" class=\"row_heading level0 row0\" >RegionCode</th> \n",
       "        <td id=\"T_f847ffa6_8bf7_11e9_ab00_48ba4ef7cf5erow0_col0\" class=\"data row0 col0\" >1.0</td> \n",
       "        <td id=\"T_f847ffa6_8bf7_11e9_ab00_48ba4ef7cf5erow0_col1\" class=\"data row0 col1\" >0.24</td> \n",
       "        <td id=\"T_f847ffa6_8bf7_11e9_ab00_48ba4ef7cf5erow0_col2\" class=\"data row0 col2\" >-0.18</td> \n",
       "        <td id=\"T_f847ffa6_8bf7_11e9_ab00_48ba4ef7cf5erow0_col3\" class=\"data row0 col3\" >-0.011</td> \n",
       "        <td id=\"T_f847ffa6_8bf7_11e9_ab00_48ba4ef7cf5erow0_col4\" class=\"data row0 col4\" >0.11</td> \n",
       "        <td id=\"T_f847ffa6_8bf7_11e9_ab00_48ba4ef7cf5erow0_col5\" class=\"data row0 col5\" >0.11</td> \n",
       "        <td id=\"T_f847ffa6_8bf7_11e9_ab00_48ba4ef7cf5erow0_col6\" class=\"data row0 col6\" >0.13</td> \n",
       "        <td id=\"T_f847ffa6_8bf7_11e9_ab00_48ba4ef7cf5erow0_col7\" class=\"data row0 col7\" >0.13</td> \n",
       "        <td id=\"T_f847ffa6_8bf7_11e9_ab00_48ba4ef7cf5erow0_col8\" class=\"data row0 col8\" >-0.031</td> \n",
       "        <td id=\"T_f847ffa6_8bf7_11e9_ab00_48ba4ef7cf5erow0_col9\" class=\"data row0 col9\" >0.064</td> \n",
       "        <td id=\"T_f847ffa6_8bf7_11e9_ab00_48ba4ef7cf5erow0_col10\" class=\"data row0 col10\" >0.041</td> \n",
       "        <td id=\"T_f847ffa6_8bf7_11e9_ab00_48ba4ef7cf5erow0_col11\" class=\"data row0 col11\" >0.091</td> \n",
       "        <td id=\"T_f847ffa6_8bf7_11e9_ab00_48ba4ef7cf5erow0_col12\" class=\"data row0 col12\" >0.044</td> \n",
       "        <td id=\"T_f847ffa6_8bf7_11e9_ab00_48ba4ef7cf5erow0_col13\" class=\"data row0 col13\" >-0.12</td> \n",
       "        <td id=\"T_f847ffa6_8bf7_11e9_ab00_48ba4ef7cf5erow0_col14\" class=\"data row0 col14\" >-0.14</td> \n",
       "        <td id=\"T_f847ffa6_8bf7_11e9_ab00_48ba4ef7cf5erow0_col15\" class=\"data row0 col15\" >-0.051</td> \n",
       "    </tr>    <tr> \n",
       "        <th id=\"T_f847ffa6_8bf7_11e9_ab00_48ba4ef7cf5elevel0_row1\" class=\"row_heading level0 row1\" >age</th> \n",
       "        <td id=\"T_f847ffa6_8bf7_11e9_ab00_48ba4ef7cf5erow1_col0\" class=\"data row1 col0\" >0.24</td> \n",
       "        <td id=\"T_f847ffa6_8bf7_11e9_ab00_48ba4ef7cf5erow1_col1\" class=\"data row1 col1\" >1.0</td> \n",
       "        <td id=\"T_f847ffa6_8bf7_11e9_ab00_48ba4ef7cf5erow1_col2\" class=\"data row1 col2\" >-0.36</td> \n",
       "        <td id=\"T_f847ffa6_8bf7_11e9_ab00_48ba4ef7cf5erow1_col3\" class=\"data row1 col3\" >0.035</td> \n",
       "        <td id=\"T_f847ffa6_8bf7_11e9_ab00_48ba4ef7cf5erow1_col4\" class=\"data row1 col4\" >0.051</td> \n",
       "        <td id=\"T_f847ffa6_8bf7_11e9_ab00_48ba4ef7cf5erow1_col5\" class=\"data row1 col5\" >0.06</td> \n",
       "        <td id=\"T_f847ffa6_8bf7_11e9_ab00_48ba4ef7cf5erow1_col6\" class=\"data row1 col6\" >0.089</td> \n",
       "        <td id=\"T_f847ffa6_8bf7_11e9_ab00_48ba4ef7cf5erow1_col7\" class=\"data row1 col7\" >-0.029</td> \n",
       "        <td id=\"T_f847ffa6_8bf7_11e9_ab00_48ba4ef7cf5erow1_col8\" class=\"data row1 col8\" >-0.049</td> \n",
       "        <td id=\"T_f847ffa6_8bf7_11e9_ab00_48ba4ef7cf5erow1_col9\" class=\"data row1 col9\" >0.013</td> \n",
       "        <td id=\"T_f847ffa6_8bf7_11e9_ab00_48ba4ef7cf5erow1_col10\" class=\"data row1 col10\" >-0.031</td> \n",
       "        <td id=\"T_f847ffa6_8bf7_11e9_ab00_48ba4ef7cf5erow1_col11\" class=\"data row1 col11\" >0.17</td> \n",
       "        <td id=\"T_f847ffa6_8bf7_11e9_ab00_48ba4ef7cf5erow1_col12\" class=\"data row1 col12\" >0.14</td> \n",
       "        <td id=\"T_f847ffa6_8bf7_11e9_ab00_48ba4ef7cf5erow1_col13\" class=\"data row1 col13\" >-0.13</td> \n",
       "        <td id=\"T_f847ffa6_8bf7_11e9_ab00_48ba4ef7cf5erow1_col14\" class=\"data row1 col14\" >-0.14</td> \n",
       "        <td id=\"T_f847ffa6_8bf7_11e9_ab00_48ba4ef7cf5erow1_col15\" class=\"data row1 col15\" >-0.2</td> \n",
       "    </tr>    <tr> \n",
       "        <th id=\"T_f847ffa6_8bf7_11e9_ab00_48ba4ef7cf5elevel0_row2\" class=\"row_heading level0 row2\" >internet_research</th> \n",
       "        <td id=\"T_f847ffa6_8bf7_11e9_ab00_48ba4ef7cf5erow2_col0\" class=\"data row2 col0\" >-0.18</td> \n",
       "        <td id=\"T_f847ffa6_8bf7_11e9_ab00_48ba4ef7cf5erow2_col1\" class=\"data row2 col1\" >-0.36</td> \n",
       "        <td id=\"T_f847ffa6_8bf7_11e9_ab00_48ba4ef7cf5erow2_col2\" class=\"data row2 col2\" >1.0</td> \n",
       "        <td id=\"T_f847ffa6_8bf7_11e9_ab00_48ba4ef7cf5erow2_col3\" class=\"data row2 col3\" >0.13</td> \n",
       "        <td id=\"T_f847ffa6_8bf7_11e9_ab00_48ba4ef7cf5erow2_col4\" class=\"data row2 col4\" >-0.038</td> \n",
       "        <td id=\"T_f847ffa6_8bf7_11e9_ab00_48ba4ef7cf5erow2_col5\" class=\"data row2 col5\" >0.029</td> \n",
       "        <td id=\"T_f847ffa6_8bf7_11e9_ab00_48ba4ef7cf5erow2_col6\" class=\"data row2 col6\" >0.082</td> \n",
       "        <td id=\"T_f847ffa6_8bf7_11e9_ab00_48ba4ef7cf5erow2_col7\" class=\"data row2 col7\" >0.1</td> \n",
       "        <td id=\"T_f847ffa6_8bf7_11e9_ab00_48ba4ef7cf5erow2_col8\" class=\"data row2 col8\" >0.32</td> \n",
       "        <td id=\"T_f847ffa6_8bf7_11e9_ab00_48ba4ef7cf5erow2_col9\" class=\"data row2 col9\" >0.24</td> \n",
       "        <td id=\"T_f847ffa6_8bf7_11e9_ab00_48ba4ef7cf5erow2_col10\" class=\"data row2 col10\" >0.27</td> \n",
       "        <td id=\"T_f847ffa6_8bf7_11e9_ab00_48ba4ef7cf5erow2_col11\" class=\"data row2 col11\" >-0.2</td> \n",
       "        <td id=\"T_f847ffa6_8bf7_11e9_ab00_48ba4ef7cf5erow2_col12\" class=\"data row2 col12\" >-0.21</td> \n",
       "        <td id=\"T_f847ffa6_8bf7_11e9_ab00_48ba4ef7cf5erow2_col13\" class=\"data row2 col13\" >0.16</td> \n",
       "        <td id=\"T_f847ffa6_8bf7_11e9_ab00_48ba4ef7cf5erow2_col14\" class=\"data row2 col14\" >0.1</td> \n",
       "        <td id=\"T_f847ffa6_8bf7_11e9_ab00_48ba4ef7cf5erow2_col15\" class=\"data row2 col15\" >0.096</td> \n",
       "    </tr>    <tr> \n",
       "        <th id=\"T_f847ffa6_8bf7_11e9_ab00_48ba4ef7cf5elevel0_row3\" class=\"row_heading level0 row3\" >read_1</th> \n",
       "        <td id=\"T_f847ffa6_8bf7_11e9_ab00_48ba4ef7cf5erow3_col0\" class=\"data row3 col0\" >-0.011</td> \n",
       "        <td id=\"T_f847ffa6_8bf7_11e9_ab00_48ba4ef7cf5erow3_col1\" class=\"data row3 col1\" >0.035</td> \n",
       "        <td id=\"T_f847ffa6_8bf7_11e9_ab00_48ba4ef7cf5erow3_col2\" class=\"data row3 col2\" >0.13</td> \n",
       "        <td id=\"T_f847ffa6_8bf7_11e9_ab00_48ba4ef7cf5erow3_col3\" class=\"data row3 col3\" >1.0</td> \n",
       "        <td id=\"T_f847ffa6_8bf7_11e9_ab00_48ba4ef7cf5erow3_col4\" class=\"data row3 col4\" >0.13</td> \n",
       "        <td id=\"T_f847ffa6_8bf7_11e9_ab00_48ba4ef7cf5erow3_col5\" class=\"data row3 col5\" >0.12</td> \n",
       "        <td id=\"T_f847ffa6_8bf7_11e9_ab00_48ba4ef7cf5erow3_col6\" class=\"data row3 col6\" >0.041</td> \n",
       "        <td id=\"T_f847ffa6_8bf7_11e9_ab00_48ba4ef7cf5erow3_col7\" class=\"data row3 col7\" >-0.0022</td> \n",
       "        <td id=\"T_f847ffa6_8bf7_11e9_ab00_48ba4ef7cf5erow3_col8\" class=\"data row3 col8\" >0.21</td> \n",
       "        <td id=\"T_f847ffa6_8bf7_11e9_ab00_48ba4ef7cf5erow3_col9\" class=\"data row3 col9\" >0.15</td> \n",
       "        <td id=\"T_f847ffa6_8bf7_11e9_ab00_48ba4ef7cf5erow3_col10\" class=\"data row3 col10\" >0.24</td> \n",
       "        <td id=\"T_f847ffa6_8bf7_11e9_ab00_48ba4ef7cf5erow3_col11\" class=\"data row3 col11\" >0.059</td> \n",
       "        <td id=\"T_f847ffa6_8bf7_11e9_ab00_48ba4ef7cf5erow3_col12\" class=\"data row3 col12\" >0.027</td> \n",
       "        <td id=\"T_f847ffa6_8bf7_11e9_ab00_48ba4ef7cf5erow3_col13\" class=\"data row3 col13\" >-0.11</td> \n",
       "        <td id=\"T_f847ffa6_8bf7_11e9_ab00_48ba4ef7cf5erow3_col14\" class=\"data row3 col14\" >0.038</td> \n",
       "        <td id=\"T_f847ffa6_8bf7_11e9_ab00_48ba4ef7cf5erow3_col15\" class=\"data row3 col15\" >-0.25</td> \n",
       "    </tr>    <tr> \n",
       "        <th id=\"T_f847ffa6_8bf7_11e9_ab00_48ba4ef7cf5elevel0_row4\" class=\"row_heading level0 row4\" >hear_1</th> \n",
       "        <td id=\"T_f847ffa6_8bf7_11e9_ab00_48ba4ef7cf5erow4_col0\" class=\"data row4 col0\" >0.11</td> \n",
       "        <td id=\"T_f847ffa6_8bf7_11e9_ab00_48ba4ef7cf5erow4_col1\" class=\"data row4 col1\" >0.051</td> \n",
       "        <td id=\"T_f847ffa6_8bf7_11e9_ab00_48ba4ef7cf5erow4_col2\" class=\"data row4 col2\" >-0.038</td> \n",
       "        <td id=\"T_f847ffa6_8bf7_11e9_ab00_48ba4ef7cf5erow4_col3\" class=\"data row4 col3\" >0.13</td> \n",
       "        <td id=\"T_f847ffa6_8bf7_11e9_ab00_48ba4ef7cf5erow4_col4\" class=\"data row4 col4\" >1.0</td> \n",
       "        <td id=\"T_f847ffa6_8bf7_11e9_ab00_48ba4ef7cf5erow4_col5\" class=\"data row4 col5\" >0.46</td> \n",
       "        <td id=\"T_f847ffa6_8bf7_11e9_ab00_48ba4ef7cf5erow4_col6\" class=\"data row4 col6\" >0.31</td> \n",
       "        <td id=\"T_f847ffa6_8bf7_11e9_ab00_48ba4ef7cf5erow4_col7\" class=\"data row4 col7\" >0.29</td> \n",
       "        <td id=\"T_f847ffa6_8bf7_11e9_ab00_48ba4ef7cf5erow4_col8\" class=\"data row4 col8\" >0.083</td> \n",
       "        <td id=\"T_f847ffa6_8bf7_11e9_ab00_48ba4ef7cf5erow4_col9\" class=\"data row4 col9\" >0.0016</td> \n",
       "        <td id=\"T_f847ffa6_8bf7_11e9_ab00_48ba4ef7cf5erow4_col10\" class=\"data row4 col10\" >0.14</td> \n",
       "        <td id=\"T_f847ffa6_8bf7_11e9_ab00_48ba4ef7cf5erow4_col11\" class=\"data row4 col11\" >0.11</td> \n",
       "        <td id=\"T_f847ffa6_8bf7_11e9_ab00_48ba4ef7cf5erow4_col12\" class=\"data row4 col12\" >0.2</td> \n",
       "        <td id=\"T_f847ffa6_8bf7_11e9_ab00_48ba4ef7cf5erow4_col13\" class=\"data row4 col13\" >-0.081</td> \n",
       "        <td id=\"T_f847ffa6_8bf7_11e9_ab00_48ba4ef7cf5erow4_col14\" class=\"data row4 col14\" >0.074</td> \n",
       "        <td id=\"T_f847ffa6_8bf7_11e9_ab00_48ba4ef7cf5erow4_col15\" class=\"data row4 col15\" >-0.013</td> \n",
       "    </tr>    <tr> \n",
       "        <th id=\"T_f847ffa6_8bf7_11e9_ab00_48ba4ef7cf5elevel0_row5\" class=\"row_heading level0 row5\" >see_1</th> \n",
       "        <td id=\"T_f847ffa6_8bf7_11e9_ab00_48ba4ef7cf5erow5_col0\" class=\"data row5 col0\" >0.11</td> \n",
       "        <td id=\"T_f847ffa6_8bf7_11e9_ab00_48ba4ef7cf5erow5_col1\" class=\"data row5 col1\" >0.06</td> \n",
       "        <td id=\"T_f847ffa6_8bf7_11e9_ab00_48ba4ef7cf5erow5_col2\" class=\"data row5 col2\" >0.029</td> \n",
       "        <td id=\"T_f847ffa6_8bf7_11e9_ab00_48ba4ef7cf5erow5_col3\" class=\"data row5 col3\" >0.12</td> \n",
       "        <td id=\"T_f847ffa6_8bf7_11e9_ab00_48ba4ef7cf5erow5_col4\" class=\"data row5 col4\" >0.46</td> \n",
       "        <td id=\"T_f847ffa6_8bf7_11e9_ab00_48ba4ef7cf5erow5_col5\" class=\"data row5 col5\" >1.0</td> \n",
       "        <td id=\"T_f847ffa6_8bf7_11e9_ab00_48ba4ef7cf5erow5_col6\" class=\"data row5 col6\" >0.36</td> \n",
       "        <td id=\"T_f847ffa6_8bf7_11e9_ab00_48ba4ef7cf5erow5_col7\" class=\"data row5 col7\" >0.46</td> \n",
       "        <td id=\"T_f847ffa6_8bf7_11e9_ab00_48ba4ef7cf5erow5_col8\" class=\"data row5 col8\" >0.012</td> \n",
       "        <td id=\"T_f847ffa6_8bf7_11e9_ab00_48ba4ef7cf5erow5_col9\" class=\"data row5 col9\" >0.063</td> \n",
       "        <td id=\"T_f847ffa6_8bf7_11e9_ab00_48ba4ef7cf5erow5_col10\" class=\"data row5 col10\" >0.18</td> \n",
       "        <td id=\"T_f847ffa6_8bf7_11e9_ab00_48ba4ef7cf5erow5_col11\" class=\"data row5 col11\" >-0.1</td> \n",
       "        <td id=\"T_f847ffa6_8bf7_11e9_ab00_48ba4ef7cf5erow5_col12\" class=\"data row5 col12\" >-0.1</td> \n",
       "        <td id=\"T_f847ffa6_8bf7_11e9_ab00_48ba4ef7cf5erow5_col13\" class=\"data row5 col13\" >-0.1</td> \n",
       "        <td id=\"T_f847ffa6_8bf7_11e9_ab00_48ba4ef7cf5erow5_col14\" class=\"data row5 col14\" >-0.028</td> \n",
       "        <td id=\"T_f847ffa6_8bf7_11e9_ab00_48ba4ef7cf5erow5_col15\" class=\"data row5 col15\" >0.017</td> \n",
       "    </tr>    <tr> \n",
       "        <th id=\"T_f847ffa6_8bf7_11e9_ab00_48ba4ef7cf5elevel0_row6\" class=\"row_heading level0 row6\" >say_1</th> \n",
       "        <td id=\"T_f847ffa6_8bf7_11e9_ab00_48ba4ef7cf5erow6_col0\" class=\"data row6 col0\" >0.13</td> \n",
       "        <td id=\"T_f847ffa6_8bf7_11e9_ab00_48ba4ef7cf5erow6_col1\" class=\"data row6 col1\" >0.089</td> \n",
       "        <td id=\"T_f847ffa6_8bf7_11e9_ab00_48ba4ef7cf5erow6_col2\" class=\"data row6 col2\" >0.082</td> \n",
       "        <td id=\"T_f847ffa6_8bf7_11e9_ab00_48ba4ef7cf5erow6_col3\" class=\"data row6 col3\" >0.041</td> \n",
       "        <td id=\"T_f847ffa6_8bf7_11e9_ab00_48ba4ef7cf5erow6_col4\" class=\"data row6 col4\" >0.31</td> \n",
       "        <td id=\"T_f847ffa6_8bf7_11e9_ab00_48ba4ef7cf5erow6_col5\" class=\"data row6 col5\" >0.36</td> \n",
       "        <td id=\"T_f847ffa6_8bf7_11e9_ab00_48ba4ef7cf5erow6_col6\" class=\"data row6 col6\" >1.0</td> \n",
       "        <td id=\"T_f847ffa6_8bf7_11e9_ab00_48ba4ef7cf5erow6_col7\" class=\"data row6 col7\" >0.59</td> \n",
       "        <td id=\"T_f847ffa6_8bf7_11e9_ab00_48ba4ef7cf5erow6_col8\" class=\"data row6 col8\" >0.23</td> \n",
       "        <td id=\"T_f847ffa6_8bf7_11e9_ab00_48ba4ef7cf5erow6_col9\" class=\"data row6 col9\" >0.06</td> \n",
       "        <td id=\"T_f847ffa6_8bf7_11e9_ab00_48ba4ef7cf5erow6_col10\" class=\"data row6 col10\" >0.2</td> \n",
       "        <td id=\"T_f847ffa6_8bf7_11e9_ab00_48ba4ef7cf5erow6_col11\" class=\"data row6 col11\" >0.048</td> \n",
       "        <td id=\"T_f847ffa6_8bf7_11e9_ab00_48ba4ef7cf5erow6_col12\" class=\"data row6 col12\" >0.033</td> \n",
       "        <td id=\"T_f847ffa6_8bf7_11e9_ab00_48ba4ef7cf5erow6_col13\" class=\"data row6 col13\" >-0.011</td> \n",
       "        <td id=\"T_f847ffa6_8bf7_11e9_ab00_48ba4ef7cf5erow6_col14\" class=\"data row6 col14\" >-0.07</td> \n",
       "        <td id=\"T_f847ffa6_8bf7_11e9_ab00_48ba4ef7cf5erow6_col15\" class=\"data row6 col15\" >-0.0056</td> \n",
       "    </tr>    <tr> \n",
       "        <th id=\"T_f847ffa6_8bf7_11e9_ab00_48ba4ef7cf5elevel0_row7\" class=\"row_heading level0 row7\" >do_1</th> \n",
       "        <td id=\"T_f847ffa6_8bf7_11e9_ab00_48ba4ef7cf5erow7_col0\" class=\"data row7 col0\" >0.13</td> \n",
       "        <td id=\"T_f847ffa6_8bf7_11e9_ab00_48ba4ef7cf5erow7_col1\" class=\"data row7 col1\" >-0.029</td> \n",
       "        <td id=\"T_f847ffa6_8bf7_11e9_ab00_48ba4ef7cf5erow7_col2\" class=\"data row7 col2\" >0.1</td> \n",
       "        <td id=\"T_f847ffa6_8bf7_11e9_ab00_48ba4ef7cf5erow7_col3\" class=\"data row7 col3\" >-0.0022</td> \n",
       "        <td id=\"T_f847ffa6_8bf7_11e9_ab00_48ba4ef7cf5erow7_col4\" class=\"data row7 col4\" >0.29</td> \n",
       "        <td id=\"T_f847ffa6_8bf7_11e9_ab00_48ba4ef7cf5erow7_col5\" class=\"data row7 col5\" >0.46</td> \n",
       "        <td id=\"T_f847ffa6_8bf7_11e9_ab00_48ba4ef7cf5erow7_col6\" class=\"data row7 col6\" >0.59</td> \n",
       "        <td id=\"T_f847ffa6_8bf7_11e9_ab00_48ba4ef7cf5erow7_col7\" class=\"data row7 col7\" >1.0</td> \n",
       "        <td id=\"T_f847ffa6_8bf7_11e9_ab00_48ba4ef7cf5erow7_col8\" class=\"data row7 col8\" >0.21</td> \n",
       "        <td id=\"T_f847ffa6_8bf7_11e9_ab00_48ba4ef7cf5erow7_col9\" class=\"data row7 col9\" >0.058</td> \n",
       "        <td id=\"T_f847ffa6_8bf7_11e9_ab00_48ba4ef7cf5erow7_col10\" class=\"data row7 col10\" >0.31</td> \n",
       "        <td id=\"T_f847ffa6_8bf7_11e9_ab00_48ba4ef7cf5erow7_col11\" class=\"data row7 col11\" >0.055</td> \n",
       "        <td id=\"T_f847ffa6_8bf7_11e9_ab00_48ba4ef7cf5erow7_col12\" class=\"data row7 col12\" >0.076</td> \n",
       "        <td id=\"T_f847ffa6_8bf7_11e9_ab00_48ba4ef7cf5erow7_col13\" class=\"data row7 col13\" >0.019</td> \n",
       "        <td id=\"T_f847ffa6_8bf7_11e9_ab00_48ba4ef7cf5erow7_col14\" class=\"data row7 col14\" >0.081</td> \n",
       "        <td id=\"T_f847ffa6_8bf7_11e9_ab00_48ba4ef7cf5erow7_col15\" class=\"data row7 col15\" >0.094</td> \n",
       "    </tr>    <tr> \n",
       "        <th id=\"T_f847ffa6_8bf7_11e9_ab00_48ba4ef7cf5elevel0_row8\" class=\"row_heading level0 row8\" >Criticalthinking_1</th> \n",
       "        <td id=\"T_f847ffa6_8bf7_11e9_ab00_48ba4ef7cf5erow8_col0\" class=\"data row8 col0\" >-0.031</td> \n",
       "        <td id=\"T_f847ffa6_8bf7_11e9_ab00_48ba4ef7cf5erow8_col1\" class=\"data row8 col1\" >-0.049</td> \n",
       "        <td id=\"T_f847ffa6_8bf7_11e9_ab00_48ba4ef7cf5erow8_col2\" class=\"data row8 col2\" >0.32</td> \n",
       "        <td id=\"T_f847ffa6_8bf7_11e9_ab00_48ba4ef7cf5erow8_col3\" class=\"data row8 col3\" >0.21</td> \n",
       "        <td id=\"T_f847ffa6_8bf7_11e9_ab00_48ba4ef7cf5erow8_col4\" class=\"data row8 col4\" >0.083</td> \n",
       "        <td id=\"T_f847ffa6_8bf7_11e9_ab00_48ba4ef7cf5erow8_col5\" class=\"data row8 col5\" >0.012</td> \n",
       "        <td id=\"T_f847ffa6_8bf7_11e9_ab00_48ba4ef7cf5erow8_col6\" class=\"data row8 col6\" >0.23</td> \n",
       "        <td id=\"T_f847ffa6_8bf7_11e9_ab00_48ba4ef7cf5erow8_col7\" class=\"data row8 col7\" >0.21</td> \n",
       "        <td id=\"T_f847ffa6_8bf7_11e9_ab00_48ba4ef7cf5erow8_col8\" class=\"data row8 col8\" >1.0</td> \n",
       "        <td id=\"T_f847ffa6_8bf7_11e9_ab00_48ba4ef7cf5erow8_col9\" class=\"data row8 col9\" >0.29</td> \n",
       "        <td id=\"T_f847ffa6_8bf7_11e9_ab00_48ba4ef7cf5erow8_col10\" class=\"data row8 col10\" >0.39</td> \n",
       "        <td id=\"T_f847ffa6_8bf7_11e9_ab00_48ba4ef7cf5erow8_col11\" class=\"data row8 col11\" >-0.036</td> \n",
       "        <td id=\"T_f847ffa6_8bf7_11e9_ab00_48ba4ef7cf5erow8_col12\" class=\"data row8 col12\" >-0.0062</td> \n",
       "        <td id=\"T_f847ffa6_8bf7_11e9_ab00_48ba4ef7cf5erow8_col13\" class=\"data row8 col13\" >0.041</td> \n",
       "        <td id=\"T_f847ffa6_8bf7_11e9_ab00_48ba4ef7cf5erow8_col14\" class=\"data row8 col14\" >-0.1</td> \n",
       "        <td id=\"T_f847ffa6_8bf7_11e9_ab00_48ba4ef7cf5erow8_col15\" class=\"data row8 col15\" >0.05</td> \n",
       "    </tr>    <tr> \n",
       "        <th id=\"T_f847ffa6_8bf7_11e9_ab00_48ba4ef7cf5elevel0_row9\" class=\"row_heading level0 row9\" >groups_1</th> \n",
       "        <td id=\"T_f847ffa6_8bf7_11e9_ab00_48ba4ef7cf5erow9_col0\" class=\"data row9 col0\" >0.064</td> \n",
       "        <td id=\"T_f847ffa6_8bf7_11e9_ab00_48ba4ef7cf5erow9_col1\" class=\"data row9 col1\" >0.013</td> \n",
       "        <td id=\"T_f847ffa6_8bf7_11e9_ab00_48ba4ef7cf5erow9_col2\" class=\"data row9 col2\" >0.24</td> \n",
       "        <td id=\"T_f847ffa6_8bf7_11e9_ab00_48ba4ef7cf5erow9_col3\" class=\"data row9 col3\" >0.15</td> \n",
       "        <td id=\"T_f847ffa6_8bf7_11e9_ab00_48ba4ef7cf5erow9_col4\" class=\"data row9 col4\" >0.0016</td> \n",
       "        <td id=\"T_f847ffa6_8bf7_11e9_ab00_48ba4ef7cf5erow9_col5\" class=\"data row9 col5\" >0.063</td> \n",
       "        <td id=\"T_f847ffa6_8bf7_11e9_ab00_48ba4ef7cf5erow9_col6\" class=\"data row9 col6\" >0.06</td> \n",
       "        <td id=\"T_f847ffa6_8bf7_11e9_ab00_48ba4ef7cf5erow9_col7\" class=\"data row9 col7\" >0.058</td> \n",
       "        <td id=\"T_f847ffa6_8bf7_11e9_ab00_48ba4ef7cf5erow9_col8\" class=\"data row9 col8\" >0.29</td> \n",
       "        <td id=\"T_f847ffa6_8bf7_11e9_ab00_48ba4ef7cf5erow9_col9\" class=\"data row9 col9\" >1.0</td> \n",
       "        <td id=\"T_f847ffa6_8bf7_11e9_ab00_48ba4ef7cf5erow9_col10\" class=\"data row9 col10\" >0.55</td> \n",
       "        <td id=\"T_f847ffa6_8bf7_11e9_ab00_48ba4ef7cf5erow9_col11\" class=\"data row9 col11\" >-0.037</td> \n",
       "        <td id=\"T_f847ffa6_8bf7_11e9_ab00_48ba4ef7cf5erow9_col12\" class=\"data row9 col12\" >-0.11</td> \n",
       "        <td id=\"T_f847ffa6_8bf7_11e9_ab00_48ba4ef7cf5erow9_col13\" class=\"data row9 col13\" >-0.15</td> \n",
       "        <td id=\"T_f847ffa6_8bf7_11e9_ab00_48ba4ef7cf5erow9_col14\" class=\"data row9 col14\" >0.18</td> \n",
       "        <td id=\"T_f847ffa6_8bf7_11e9_ab00_48ba4ef7cf5erow9_col15\" class=\"data row9 col15\" >-0.067</td> \n",
       "    </tr>    <tr> \n",
       "        <th id=\"T_f847ffa6_8bf7_11e9_ab00_48ba4ef7cf5elevel0_row10\" class=\"row_heading level0 row10\" >connections_1</th> \n",
       "        <td id=\"T_f847ffa6_8bf7_11e9_ab00_48ba4ef7cf5erow10_col0\" class=\"data row10 col0\" >0.041</td> \n",
       "        <td id=\"T_f847ffa6_8bf7_11e9_ab00_48ba4ef7cf5erow10_col1\" class=\"data row10 col1\" >-0.031</td> \n",
       "        <td id=\"T_f847ffa6_8bf7_11e9_ab00_48ba4ef7cf5erow10_col2\" class=\"data row10 col2\" >0.27</td> \n",
       "        <td id=\"T_f847ffa6_8bf7_11e9_ab00_48ba4ef7cf5erow10_col3\" class=\"data row10 col3\" >0.24</td> \n",
       "        <td id=\"T_f847ffa6_8bf7_11e9_ab00_48ba4ef7cf5erow10_col4\" class=\"data row10 col4\" >0.14</td> \n",
       "        <td id=\"T_f847ffa6_8bf7_11e9_ab00_48ba4ef7cf5erow10_col5\" class=\"data row10 col5\" >0.18</td> \n",
       "        <td id=\"T_f847ffa6_8bf7_11e9_ab00_48ba4ef7cf5erow10_col6\" class=\"data row10 col6\" >0.2</td> \n",
       "        <td id=\"T_f847ffa6_8bf7_11e9_ab00_48ba4ef7cf5erow10_col7\" class=\"data row10 col7\" >0.31</td> \n",
       "        <td id=\"T_f847ffa6_8bf7_11e9_ab00_48ba4ef7cf5erow10_col8\" class=\"data row10 col8\" >0.39</td> \n",
       "        <td id=\"T_f847ffa6_8bf7_11e9_ab00_48ba4ef7cf5erow10_col9\" class=\"data row10 col9\" >0.55</td> \n",
       "        <td id=\"T_f847ffa6_8bf7_11e9_ab00_48ba4ef7cf5erow10_col10\" class=\"data row10 col10\" >1.0</td> \n",
       "        <td id=\"T_f847ffa6_8bf7_11e9_ab00_48ba4ef7cf5erow10_col11\" class=\"data row10 col11\" >0.041</td> \n",
       "        <td id=\"T_f847ffa6_8bf7_11e9_ab00_48ba4ef7cf5erow10_col12\" class=\"data row10 col12\" >0.013</td> \n",
       "        <td id=\"T_f847ffa6_8bf7_11e9_ab00_48ba4ef7cf5erow10_col13\" class=\"data row10 col13\" >-0.028</td> \n",
       "        <td id=\"T_f847ffa6_8bf7_11e9_ab00_48ba4ef7cf5erow10_col14\" class=\"data row10 col14\" >0.19</td> \n",
       "        <td id=\"T_f847ffa6_8bf7_11e9_ab00_48ba4ef7cf5erow10_col15\" class=\"data row10 col15\" >-0.11</td> \n",
       "    </tr>    <tr> \n",
       "        <th id=\"T_f847ffa6_8bf7_11e9_ab00_48ba4ef7cf5elevel0_row11\" class=\"row_heading level0 row11\" >Personality</th> \n",
       "        <td id=\"T_f847ffa6_8bf7_11e9_ab00_48ba4ef7cf5erow11_col0\" class=\"data row11 col0\" >0.091</td> \n",
       "        <td id=\"T_f847ffa6_8bf7_11e9_ab00_48ba4ef7cf5erow11_col1\" class=\"data row11 col1\" >0.17</td> \n",
       "        <td id=\"T_f847ffa6_8bf7_11e9_ab00_48ba4ef7cf5erow11_col2\" class=\"data row11 col2\" >-0.2</td> \n",
       "        <td id=\"T_f847ffa6_8bf7_11e9_ab00_48ba4ef7cf5erow11_col3\" class=\"data row11 col3\" >0.059</td> \n",
       "        <td id=\"T_f847ffa6_8bf7_11e9_ab00_48ba4ef7cf5erow11_col4\" class=\"data row11 col4\" >0.11</td> \n",
       "        <td id=\"T_f847ffa6_8bf7_11e9_ab00_48ba4ef7cf5erow11_col5\" class=\"data row11 col5\" >-0.1</td> \n",
       "        <td id=\"T_f847ffa6_8bf7_11e9_ab00_48ba4ef7cf5erow11_col6\" class=\"data row11 col6\" >0.048</td> \n",
       "        <td id=\"T_f847ffa6_8bf7_11e9_ab00_48ba4ef7cf5erow11_col7\" class=\"data row11 col7\" >0.055</td> \n",
       "        <td id=\"T_f847ffa6_8bf7_11e9_ab00_48ba4ef7cf5erow11_col8\" class=\"data row11 col8\" >-0.036</td> \n",
       "        <td id=\"T_f847ffa6_8bf7_11e9_ab00_48ba4ef7cf5erow11_col9\" class=\"data row11 col9\" >-0.037</td> \n",
       "        <td id=\"T_f847ffa6_8bf7_11e9_ab00_48ba4ef7cf5erow11_col10\" class=\"data row11 col10\" >0.041</td> \n",
       "        <td id=\"T_f847ffa6_8bf7_11e9_ab00_48ba4ef7cf5erow11_col11\" class=\"data row11 col11\" >1.0</td> \n",
       "        <td id=\"T_f847ffa6_8bf7_11e9_ab00_48ba4ef7cf5erow11_col12\" class=\"data row11 col12\" >0.82</td> \n",
       "        <td id=\"T_f847ffa6_8bf7_11e9_ab00_48ba4ef7cf5erow11_col13\" class=\"data row11 col13\" >0.12</td> \n",
       "        <td id=\"T_f847ffa6_8bf7_11e9_ab00_48ba4ef7cf5erow11_col14\" class=\"data row11 col14\" >0.055</td> \n",
       "        <td id=\"T_f847ffa6_8bf7_11e9_ab00_48ba4ef7cf5erow11_col15\" class=\"data row11 col15\" >-0.014</td> \n",
       "    </tr>    <tr> \n",
       "        <th id=\"T_f847ffa6_8bf7_11e9_ab00_48ba4ef7cf5elevel0_row12\" class=\"row_heading level0 row12\" >ExtrovertTrue</th> \n",
       "        <td id=\"T_f847ffa6_8bf7_11e9_ab00_48ba4ef7cf5erow12_col0\" class=\"data row12 col0\" >0.044</td> \n",
       "        <td id=\"T_f847ffa6_8bf7_11e9_ab00_48ba4ef7cf5erow12_col1\" class=\"data row12 col1\" >0.14</td> \n",
       "        <td id=\"T_f847ffa6_8bf7_11e9_ab00_48ba4ef7cf5erow12_col2\" class=\"data row12 col2\" >-0.21</td> \n",
       "        <td id=\"T_f847ffa6_8bf7_11e9_ab00_48ba4ef7cf5erow12_col3\" class=\"data row12 col3\" >0.027</td> \n",
       "        <td id=\"T_f847ffa6_8bf7_11e9_ab00_48ba4ef7cf5erow12_col4\" class=\"data row12 col4\" >0.2</td> \n",
       "        <td id=\"T_f847ffa6_8bf7_11e9_ab00_48ba4ef7cf5erow12_col5\" class=\"data row12 col5\" >-0.1</td> \n",
       "        <td id=\"T_f847ffa6_8bf7_11e9_ab00_48ba4ef7cf5erow12_col6\" class=\"data row12 col6\" >0.033</td> \n",
       "        <td id=\"T_f847ffa6_8bf7_11e9_ab00_48ba4ef7cf5erow12_col7\" class=\"data row12 col7\" >0.076</td> \n",
       "        <td id=\"T_f847ffa6_8bf7_11e9_ab00_48ba4ef7cf5erow12_col8\" class=\"data row12 col8\" >-0.0062</td> \n",
       "        <td id=\"T_f847ffa6_8bf7_11e9_ab00_48ba4ef7cf5erow12_col9\" class=\"data row12 col9\" >-0.11</td> \n",
       "        <td id=\"T_f847ffa6_8bf7_11e9_ab00_48ba4ef7cf5erow12_col10\" class=\"data row12 col10\" >0.013</td> \n",
       "        <td id=\"T_f847ffa6_8bf7_11e9_ab00_48ba4ef7cf5erow12_col11\" class=\"data row12 col11\" >0.82</td> \n",
       "        <td id=\"T_f847ffa6_8bf7_11e9_ab00_48ba4ef7cf5erow12_col12\" class=\"data row12 col12\" >1.0</td> \n",
       "        <td id=\"T_f847ffa6_8bf7_11e9_ab00_48ba4ef7cf5erow12_col13\" class=\"data row12 col13\" >0.17</td> \n",
       "        <td id=\"T_f847ffa6_8bf7_11e9_ab00_48ba4ef7cf5erow12_col14\" class=\"data row12 col14\" >0.055</td> \n",
       "        <td id=\"T_f847ffa6_8bf7_11e9_ab00_48ba4ef7cf5erow12_col15\" class=\"data row12 col15\" >0.077</td> \n",
       "    </tr>    <tr> \n",
       "        <th id=\"T_f847ffa6_8bf7_11e9_ab00_48ba4ef7cf5elevel0_row13\" class=\"row_heading level0 row13\" >sex</th> \n",
       "        <td id=\"T_f847ffa6_8bf7_11e9_ab00_48ba4ef7cf5erow13_col0\" class=\"data row13 col0\" >-0.12</td> \n",
       "        <td id=\"T_f847ffa6_8bf7_11e9_ab00_48ba4ef7cf5erow13_col1\" class=\"data row13 col1\" >-0.13</td> \n",
       "        <td id=\"T_f847ffa6_8bf7_11e9_ab00_48ba4ef7cf5erow13_col2\" class=\"data row13 col2\" >0.16</td> \n",
       "        <td id=\"T_f847ffa6_8bf7_11e9_ab00_48ba4ef7cf5erow13_col3\" class=\"data row13 col3\" >-0.11</td> \n",
       "        <td id=\"T_f847ffa6_8bf7_11e9_ab00_48ba4ef7cf5erow13_col4\" class=\"data row13 col4\" >-0.081</td> \n",
       "        <td id=\"T_f847ffa6_8bf7_11e9_ab00_48ba4ef7cf5erow13_col5\" class=\"data row13 col5\" >-0.1</td> \n",
       "        <td id=\"T_f847ffa6_8bf7_11e9_ab00_48ba4ef7cf5erow13_col6\" class=\"data row13 col6\" >-0.011</td> \n",
       "        <td id=\"T_f847ffa6_8bf7_11e9_ab00_48ba4ef7cf5erow13_col7\" class=\"data row13 col7\" >0.019</td> \n",
       "        <td id=\"T_f847ffa6_8bf7_11e9_ab00_48ba4ef7cf5erow13_col8\" class=\"data row13 col8\" >0.041</td> \n",
       "        <td id=\"T_f847ffa6_8bf7_11e9_ab00_48ba4ef7cf5erow13_col9\" class=\"data row13 col9\" >-0.15</td> \n",
       "        <td id=\"T_f847ffa6_8bf7_11e9_ab00_48ba4ef7cf5erow13_col10\" class=\"data row13 col10\" >-0.028</td> \n",
       "        <td id=\"T_f847ffa6_8bf7_11e9_ab00_48ba4ef7cf5erow13_col11\" class=\"data row13 col11\" >0.12</td> \n",
       "        <td id=\"T_f847ffa6_8bf7_11e9_ab00_48ba4ef7cf5erow13_col12\" class=\"data row13 col12\" >0.17</td> \n",
       "        <td id=\"T_f847ffa6_8bf7_11e9_ab00_48ba4ef7cf5erow13_col13\" class=\"data row13 col13\" >1.0</td> \n",
       "        <td id=\"T_f847ffa6_8bf7_11e9_ab00_48ba4ef7cf5erow13_col14\" class=\"data row13 col14\" >-0.06</td> \n",
       "        <td id=\"T_f847ffa6_8bf7_11e9_ab00_48ba4ef7cf5erow13_col15\" class=\"data row13 col15\" >0.14</td> \n",
       "    </tr>    <tr> \n",
       "        <th id=\"T_f847ffa6_8bf7_11e9_ab00_48ba4ef7cf5elevel0_row14\" class=\"row_heading level0 row14\" >CR_taught</th> \n",
       "        <td id=\"T_f847ffa6_8bf7_11e9_ab00_48ba4ef7cf5erow14_col0\" class=\"data row14 col0\" >-0.14</td> \n",
       "        <td id=\"T_f847ffa6_8bf7_11e9_ab00_48ba4ef7cf5erow14_col1\" class=\"data row14 col1\" >-0.14</td> \n",
       "        <td id=\"T_f847ffa6_8bf7_11e9_ab00_48ba4ef7cf5erow14_col2\" class=\"data row14 col2\" >0.1</td> \n",
       "        <td id=\"T_f847ffa6_8bf7_11e9_ab00_48ba4ef7cf5erow14_col3\" class=\"data row14 col3\" >0.038</td> \n",
       "        <td id=\"T_f847ffa6_8bf7_11e9_ab00_48ba4ef7cf5erow14_col4\" class=\"data row14 col4\" >0.074</td> \n",
       "        <td id=\"T_f847ffa6_8bf7_11e9_ab00_48ba4ef7cf5erow14_col5\" class=\"data row14 col5\" >-0.028</td> \n",
       "        <td id=\"T_f847ffa6_8bf7_11e9_ab00_48ba4ef7cf5erow14_col6\" class=\"data row14 col6\" >-0.07</td> \n",
       "        <td id=\"T_f847ffa6_8bf7_11e9_ab00_48ba4ef7cf5erow14_col7\" class=\"data row14 col7\" >0.081</td> \n",
       "        <td id=\"T_f847ffa6_8bf7_11e9_ab00_48ba4ef7cf5erow14_col8\" class=\"data row14 col8\" >-0.1</td> \n",
       "        <td id=\"T_f847ffa6_8bf7_11e9_ab00_48ba4ef7cf5erow14_col9\" class=\"data row14 col9\" >0.18</td> \n",
       "        <td id=\"T_f847ffa6_8bf7_11e9_ab00_48ba4ef7cf5erow14_col10\" class=\"data row14 col10\" >0.19</td> \n",
       "        <td id=\"T_f847ffa6_8bf7_11e9_ab00_48ba4ef7cf5erow14_col11\" class=\"data row14 col11\" >0.055</td> \n",
       "        <td id=\"T_f847ffa6_8bf7_11e9_ab00_48ba4ef7cf5erow14_col12\" class=\"data row14 col12\" >0.055</td> \n",
       "        <td id=\"T_f847ffa6_8bf7_11e9_ab00_48ba4ef7cf5erow14_col13\" class=\"data row14 col13\" >-0.06</td> \n",
       "        <td id=\"T_f847ffa6_8bf7_11e9_ab00_48ba4ef7cf5erow14_col14\" class=\"data row14 col14\" >1.0</td> \n",
       "        <td id=\"T_f847ffa6_8bf7_11e9_ab00_48ba4ef7cf5erow14_col15\" class=\"data row14 col15\" >-0.035</td> \n",
       "    </tr>    <tr> \n",
       "        <th id=\"T_f847ffa6_8bf7_11e9_ab00_48ba4ef7cf5elevel0_row15\" class=\"row_heading level0 row15\" >Styl</th> \n",
       "        <td id=\"T_f847ffa6_8bf7_11e9_ab00_48ba4ef7cf5erow15_col0\" class=\"data row15 col0\" >-0.051</td> \n",
       "        <td id=\"T_f847ffa6_8bf7_11e9_ab00_48ba4ef7cf5erow15_col1\" class=\"data row15 col1\" >-0.2</td> \n",
       "        <td id=\"T_f847ffa6_8bf7_11e9_ab00_48ba4ef7cf5erow15_col2\" class=\"data row15 col2\" >0.096</td> \n",
       "        <td id=\"T_f847ffa6_8bf7_11e9_ab00_48ba4ef7cf5erow15_col3\" class=\"data row15 col3\" >-0.25</td> \n",
       "        <td id=\"T_f847ffa6_8bf7_11e9_ab00_48ba4ef7cf5erow15_col4\" class=\"data row15 col4\" >-0.013</td> \n",
       "        <td id=\"T_f847ffa6_8bf7_11e9_ab00_48ba4ef7cf5erow15_col5\" class=\"data row15 col5\" >0.017</td> \n",
       "        <td id=\"T_f847ffa6_8bf7_11e9_ab00_48ba4ef7cf5erow15_col6\" class=\"data row15 col6\" >-0.0056</td> \n",
       "        <td id=\"T_f847ffa6_8bf7_11e9_ab00_48ba4ef7cf5erow15_col7\" class=\"data row15 col7\" >0.094</td> \n",
       "        <td id=\"T_f847ffa6_8bf7_11e9_ab00_48ba4ef7cf5erow15_col8\" class=\"data row15 col8\" >0.05</td> \n",
       "        <td id=\"T_f847ffa6_8bf7_11e9_ab00_48ba4ef7cf5erow15_col9\" class=\"data row15 col9\" >-0.067</td> \n",
       "        <td id=\"T_f847ffa6_8bf7_11e9_ab00_48ba4ef7cf5erow15_col10\" class=\"data row15 col10\" >-0.11</td> \n",
       "        <td id=\"T_f847ffa6_8bf7_11e9_ab00_48ba4ef7cf5erow15_col11\" class=\"data row15 col11\" >-0.014</td> \n",
       "        <td id=\"T_f847ffa6_8bf7_11e9_ab00_48ba4ef7cf5erow15_col12\" class=\"data row15 col12\" >0.077</td> \n",
       "        <td id=\"T_f847ffa6_8bf7_11e9_ab00_48ba4ef7cf5erow15_col13\" class=\"data row15 col13\" >0.14</td> \n",
       "        <td id=\"T_f847ffa6_8bf7_11e9_ab00_48ba4ef7cf5erow15_col14\" class=\"data row15 col14\" >-0.035</td> \n",
       "        <td id=\"T_f847ffa6_8bf7_11e9_ab00_48ba4ef7cf5erow15_col15\" class=\"data row15 col15\" >1.0</td> \n",
       "    </tr></tbody> \n",
       "</table> "
      ],
      "text/plain": [
       "<pandas.io.formats.style.Styler at 0x2548b0147b8>"
      ]
     },
     "execution_count": 125,
     "metadata": {},
     "output_type": "execute_result"
    }
   ],
   "source": [
    "LearnDrop.corr(method='pearson').style.format(\"{:.2}\").background_gradient(cmap=plt.get_cmap('coolwarm'), axis=1)"
   ]
  },
  {
   "cell_type": "code",
   "execution_count": 126,
   "metadata": {},
   "outputs": [
    {
     "data": {
      "text/plain": [
       "<matplotlib.axes._subplots.AxesSubplot at 0x2548b077780>"
      ]
     },
     "execution_count": 126,
     "metadata": {},
     "output_type": "execute_result"
    },
    {
     "data": {
      "image/png": "[encoded data removed]",
      "text/plain": [
       "<Figure size 432x288 with 2 Axes>"
      ]
     },
     "metadata": {
      "needs_background": "light"
     },
     "output_type": "display_data"
    }
   ],
   "source": [
    "sns.heatmap(LearnDrop.corr(), annot=True)"
   ]
  },
  {
   "cell_type": "code",
   "execution_count": null,
   "metadata": {},
   "outputs": [],
   "source": []
  },
  {
   "cell_type": "code",
   "execution_count": 127,
   "metadata": {},
   "outputs": [],
   "source": [
    "Learnsas = Learn[['sex','age', 'Styl']]"
   ]
  },
  {
   "cell_type": "code",
   "execution_count": 128,
   "metadata": {},
   "outputs": [],
   "source": [
    "ATsexStyleA = 'sex ~ C(age) + C(Styl) + C(age): C(Styl)'\n",
    "model = ols(ATsexStyleA, Learnsas).fit()"
   ]
  },
  {
   "cell_type": "code",
   "execution_count": 129,
   "metadata": {},
   "outputs": [
    {
     "name": "stderr",
     "output_type": "stream",
     "text": [
      "C:\\Users\\Bernier\\Anaconda3\\lib\\site-packages\\statsmodels\\base\\model.py:1532: ValueWarning: covariance of constraints does not have full rank. The number of constraints is 153, but rank is 58\n",
      "  'rank is %d' % (J, J_), ValueWarning)\n"
     ]
    },
    {
     "data": {
      "text/html": [
       "<div>\n",
       "<style scoped>\n",
       "    .dataframe tbody tr th:only-of-type {\n",
       "        vertical-align: middle;\n",
       "    }\n",
       "\n",
       "    .dataframe tbody tr th {\n",
       "        vertical-align: top;\n",
       "    }\n",
       "\n",
       "    .dataframe thead th {\n",
       "        text-align: right;\n",
       "    }\n",
       "</style>\n",
       "<table border=\"1\" class=\"dataframe\">\n",
       "  <thead>\n",
       "    <tr style=\"text-align: right;\">\n",
       "      <th></th>\n",
       "      <th>sum_sq</th>\n",
       "      <th>df</th>\n",
       "      <th>F</th>\n",
       "      <th>PR(&gt;F)</th>\n",
       "    </tr>\n",
       "  </thead>\n",
       "  <tbody>\n",
       "    <tr>\n",
       "      <th>Intercept</th>\n",
       "      <td>2.627274e-30</td>\n",
       "      <td>1.0</td>\n",
       "      <td>1.390138e-29</td>\n",
       "      <td>1.000000</td>\n",
       "    </tr>\n",
       "    <tr>\n",
       "      <th>C(age)</th>\n",
       "      <td>1.036772e+01</td>\n",
       "      <td>51.0</td>\n",
       "      <td>1.075637e+00</td>\n",
       "      <td>0.396122</td>\n",
       "    </tr>\n",
       "    <tr>\n",
       "      <th>C(Styl)</th>\n",
       "      <td>8.624299e-01</td>\n",
       "      <td>3.0</td>\n",
       "      <td>1.521091e+00</td>\n",
       "      <td>0.219712</td>\n",
       "    </tr>\n",
       "    <tr>\n",
       "      <th>C(age):C(Styl)</th>\n",
       "      <td>3.342635e+01</td>\n",
       "      <td>153.0</td>\n",
       "      <td>1.155980e+00</td>\n",
       "      <td>0.297333</td>\n",
       "    </tr>\n",
       "    <tr>\n",
       "      <th>Residual</th>\n",
       "      <td>1.001667e+01</td>\n",
       "      <td>53.0</td>\n",
       "      <td>NaN</td>\n",
       "      <td>NaN</td>\n",
       "    </tr>\n",
       "  </tbody>\n",
       "</table>\n",
       "</div>"
      ],
      "text/plain": [
       "                      sum_sq     df             F    PR(>F)\n",
       "Intercept       2.627274e-30    1.0  1.390138e-29  1.000000\n",
       "C(age)          1.036772e+01   51.0  1.075637e+00  0.396122\n",
       "C(Styl)         8.624299e-01    3.0  1.521091e+00  0.219712\n",
       "C(age):C(Styl)  3.342635e+01  153.0  1.155980e+00  0.297333\n",
       "Residual        1.001667e+01   53.0           NaN       NaN"
      ]
     },
     "execution_count": 129,
     "metadata": {},
     "output_type": "execute_result"
    }
   ],
   "source": [
    "aov_tableage = anova_lm(model, typ=3)\n",
    "aov_tableage"
   ]
  },
  {
   "cell_type": "code",
   "execution_count": 130,
   "metadata": {
    "scrolled": true
   },
   "outputs": [],
   "source": [
    "#aov_tablesexStyleCR_taught = statsmodels.stats.anova.anova_lm(model, typ=3)\n",
    "#print(aov_tablesexStyleCR_taught)"
   ]
  },
  {
   "cell_type": "code",
   "execution_count": 132,
   "metadata": {},
   "outputs": [
    {
     "data": {
      "text/html": [
       "<table class=\"simpletable\">\n",
       "<caption>OLS Regression Results</caption>\n",
       "<tr>\n",
       "  <th>Dep. Variable:</th>           <td>age</td>       <th>  R-squared:         </th> <td>   0.060</td>\n",
       "</tr>\n",
       "<tr>\n",
       "  <th>Model:</th>                   <td>OLS</td>       <th>  Adj. R-squared:    </th> <td>   0.039</td>\n",
       "</tr>\n",
       "<tr>\n",
       "  <th>Method:</th>             <td>Least Squares</td>  <th>  F-statistic:       </th> <td>   2.916</td>\n",
       "</tr>\n",
       "<tr>\n",
       "  <th>Date:</th>             <td>Mon, 10 Jun 2019</td> <th>  Prob (F-statistic):</th>  <td>0.0366</td> \n",
       "</tr>\n",
       "<tr>\n",
       "  <th>Time:</th>                 <td>19:21:52</td>     <th>  Log-Likelihood:    </th> <td> -591.83</td>\n",
       "</tr>\n",
       "<tr>\n",
       "  <th>No. Observations:</th>      <td>   141</td>      <th>  AIC:               </th> <td>   1192.</td>\n",
       "</tr>\n",
       "<tr>\n",
       "  <th>Df Residuals:</th>          <td>   137</td>      <th>  BIC:               </th> <td>   1203.</td>\n",
       "</tr>\n",
       "<tr>\n",
       "  <th>Df Model:</th>              <td>     3</td>      <th>                     </th>     <td> </td>   \n",
       "</tr>\n",
       "<tr>\n",
       "  <th>Covariance Type:</th>      <td>nonrobust</td>    <th>                     </th>     <td> </td>   \n",
       "</tr>\n",
       "</table>\n",
       "<table class=\"simpletable\">\n",
       "<tr>\n",
       "        <td></td>          <th>coef</th>     <th>std err</th>      <th>t</th>      <th>P>|t|</th>  <th>[0.025</th>    <th>0.975]</th>  \n",
       "</tr>\n",
       "<tr>\n",
       "  <th>Intercept</th>    <td>   51.8333</td> <td>    2.357</td> <td>   21.994</td> <td> 0.000</td> <td>   47.173</td> <td>   56.494</td>\n",
       "</tr>\n",
       "<tr>\n",
       "  <th>C(Styl)[T.2]</th> <td>  -12.2333</td> <td>    5.676</td> <td>   -2.155</td> <td> 0.033</td> <td>  -23.457</td> <td>   -1.010</td>\n",
       "</tr>\n",
       "<tr>\n",
       "  <th>C(Styl)[T.3]</th> <td>   -6.1275</td> <td>    4.608</td> <td>   -1.330</td> <td> 0.186</td> <td>  -15.240</td> <td>    2.985</td>\n",
       "</tr>\n",
       "<tr>\n",
       "  <th>C(Styl)[T.4]</th> <td>   -8.0303</td> <td>    3.097</td> <td>   -2.593</td> <td> 0.011</td> <td>  -14.155</td> <td>   -1.906</td>\n",
       "</tr>\n",
       "</table>\n",
       "<table class=\"simpletable\">\n",
       "<tr>\n",
       "  <th>Omnibus:</th>       <td>13.485</td> <th>  Durbin-Watson:     </th> <td>   1.319</td>\n",
       "</tr>\n",
       "<tr>\n",
       "  <th>Prob(Omnibus):</th> <td> 0.001</td> <th>  Jarque-Bera (JB):  </th> <td>   4.756</td>\n",
       "</tr>\n",
       "<tr>\n",
       "  <th>Skew:</th>          <td> 0.074</td> <th>  Prob(JB):          </th> <td>  0.0927</td>\n",
       "</tr>\n",
       "<tr>\n",
       "  <th>Kurtosis:</th>      <td> 2.112</td> <th>  Cond. No.          </th> <td>    5.14</td>\n",
       "</tr>\n",
       "</table><br/><br/>Warnings:<br/>[1] Standard Errors assume that the covariance matrix of the errors is correctly specified."
      ],
      "text/plain": [
       "<class 'statsmodels.iolib.summary.Summary'>\n",
       "\"\"\"\n",
       "                            OLS Regression Results                            \n",
       "==============================================================================\n",
       "Dep. Variable:                    age   R-squared:                       0.060\n",
       "Model:                            OLS   Adj. R-squared:                  0.039\n",
       "Method:                 Least Squares   F-statistic:                     2.916\n",
       "Date:                Mon, 10 Jun 2019   Prob (F-statistic):             0.0366\n",
       "Time:                        19:21:52   Log-Likelihood:                -591.83\n",
       "No. Observations:                 141   AIC:                             1192.\n",
       "Df Residuals:                     137   BIC:                             1203.\n",
       "Df Model:                           3                                         \n",
       "Covariance Type:            nonrobust                                         \n",
       "================================================================================\n",
       "                   coef    std err          t      P>|t|      [0.025      0.975]\n",
       "--------------------------------------------------------------------------------\n",
       "Intercept       51.8333      2.357     21.994      0.000      47.173      56.494\n",
       "C(Styl)[T.2]   -12.2333      5.676     -2.155      0.033     -23.457      -1.010\n",
       "C(Styl)[T.3]    -6.1275      4.608     -1.330      0.186     -15.240       2.985\n",
       "C(Styl)[T.4]    -8.0303      3.097     -2.593      0.011     -14.155      -1.906\n",
       "==============================================================================\n",
       "Omnibus:                       13.485   Durbin-Watson:                   1.319\n",
       "Prob(Omnibus):                  0.001   Jarque-Bera (JB):                4.756\n",
       "Skew:                           0.074   Prob(JB):                       0.0927\n",
       "Kurtosis:                       2.112   Cond. No.                         5.14\n",
       "==============================================================================\n",
       "\n",
       "Warnings:\n",
       "[1] Standard Errors assume that the covariance matrix of the errors is correctly specified.\n",
       "\"\"\""
      ]
     },
     "execution_count": 132,
     "metadata": {},
     "output_type": "execute_result"
    }
   ],
   "source": [
    "LearninA =  Learn[['age','Styl']]\n",
    "MSAStyleA = ols('age ~ C(Styl)', data=LearninA).fit()\n",
    "MSAStyleA.summary()"
   ]
  },
  {
   "cell_type": "code",
   "execution_count": 133,
   "metadata": {},
   "outputs": [
    {
     "data": {
      "text/plain": [
       "<seaborn.axisgrid.PairGrid at 0x2548afd14e0>"
      ]
     },
     "execution_count": 133,
     "metadata": {},
     "output_type": "execute_result"
    },
    {
     "data": {
      "image/png": "[encoded data removed]",
      "text/plain": [
       "<Figure size 540x540 with 12 Axes>"
      ]
     },
     "metadata": {
      "needs_background": "light"
     },
     "output_type": "display_data"
    }
   ],
   "source": [
    "sns.pairplot(Learnsas)"
   ]
  },
  {
   "cell_type": "code",
   "execution_count": 134,
   "metadata": {},
   "outputs": [],
   "source": [
    "Learnsps = Learn[['sex','Personality', 'Styl']]"
   ]
  },
  {
   "cell_type": "code",
   "execution_count": 135,
   "metadata": {},
   "outputs": [],
   "source": [
    "ATsexStyleCR_taught = 'sex ~ C(Personality) + C(Styl) + C(Personality): C(Styl)'\n",
    "model = ols(ATsexStyleCR_taught, Learnsps).fit()"
   ]
  },
  {
   "cell_type": "code",
   "execution_count": 136,
   "metadata": {},
   "outputs": [
    {
     "name": "stderr",
     "output_type": "stream",
     "text": [
      "C:\\Users\\Bernier\\Anaconda3\\lib\\site-packages\\statsmodels\\base\\model.py:1532: ValueWarning: covariance of constraints does not have full rank. The number of constraints is 12, but rank is 11\n",
      "  'rank is %d' % (J, J_), ValueWarning)\n"
     ]
    },
    {
     "data": {
      "text/html": [
       "<div>\n",
       "<style scoped>\n",
       "    .dataframe tbody tr th:only-of-type {\n",
       "        vertical-align: middle;\n",
       "    }\n",
       "\n",
       "    .dataframe tbody tr th {\n",
       "        vertical-align: top;\n",
       "    }\n",
       "\n",
       "    .dataframe thead th {\n",
       "        text-align: right;\n",
       "    }\n",
       "</style>\n",
       "<table border=\"1\" class=\"dataframe\">\n",
       "  <thead>\n",
       "    <tr style=\"text-align: right;\">\n",
       "      <th></th>\n",
       "      <th>sum_sq</th>\n",
       "      <th>df</th>\n",
       "      <th>F</th>\n",
       "      <th>PR(&gt;F)</th>\n",
       "    </tr>\n",
       "  </thead>\n",
       "  <tbody>\n",
       "    <tr>\n",
       "      <th>Intercept</th>\n",
       "      <td>1.504945e-31</td>\n",
       "      <td>1.0</td>\n",
       "      <td>7.352974e-31</td>\n",
       "      <td>1.000000</td>\n",
       "    </tr>\n",
       "    <tr>\n",
       "      <th>C(Personality)</th>\n",
       "      <td>5.015152e-01</td>\n",
       "      <td>4.0</td>\n",
       "      <td>6.125851e-01</td>\n",
       "      <td>0.654348</td>\n",
       "    </tr>\n",
       "    <tr>\n",
       "      <th>C(Styl)</th>\n",
       "      <td>2.319056e-01</td>\n",
       "      <td>3.0</td>\n",
       "      <td>3.776873e-01</td>\n",
       "      <td>0.769248</td>\n",
       "    </tr>\n",
       "    <tr>\n",
       "      <th>C(Personality):C(Styl)</th>\n",
       "      <td>1.404892e+00</td>\n",
       "      <td>12.0</td>\n",
       "      <td>5.720106e-01</td>\n",
       "      <td>0.848469</td>\n",
       "    </tr>\n",
       "    <tr>\n",
       "      <th>Residual</th>\n",
       "      <td>2.537928e+01</td>\n",
       "      <td>124.0</td>\n",
       "      <td>NaN</td>\n",
       "      <td>NaN</td>\n",
       "    </tr>\n",
       "  </tbody>\n",
       "</table>\n",
       "</div>"
      ],
      "text/plain": [
       "                              sum_sq     df             F    PR(>F)\n",
       "Intercept               1.504945e-31    1.0  7.352974e-31  1.000000\n",
       "C(Personality)          5.015152e-01    4.0  6.125851e-01  0.654348\n",
       "C(Styl)                 2.319056e-01    3.0  3.776873e-01  0.769248\n",
       "C(Personality):C(Styl)  1.404892e+00   12.0  5.720106e-01  0.848469\n",
       "Residual                2.537928e+01  124.0           NaN       NaN"
      ]
     },
     "execution_count": 136,
     "metadata": {},
     "output_type": "execute_result"
    }
   ],
   "source": [
    "aov_tablePersonality = anova_lm(model, typ=3)\n",
    "aov_tablePersonality"
   ]
  },
  {
   "cell_type": "code",
   "execution_count": 137,
   "metadata": {
    "scrolled": true
   },
   "outputs": [],
   "source": [
    "#aov_tablesexStyleCR_taught = statsmodels.stats.anova.anova_lm(model, typ=3)\n",
    "#print(aov_tablesexStyleCR_taught)"
   ]
  },
  {
   "cell_type": "code",
   "execution_count": 139,
   "metadata": {},
   "outputs": [
    {
     "data": {
      "text/html": [
       "<table class=\"simpletable\">\n",
       "<caption>OLS Regression Results</caption>\n",
       "<tr>\n",
       "  <th>Dep. Variable:</th>       <td>Personality</td>   <th>  R-squared:         </th> <td>   0.028</td>\n",
       "</tr>\n",
       "<tr>\n",
       "  <th>Model:</th>                   <td>OLS</td>       <th>  Adj. R-squared:    </th> <td>   0.007</td>\n",
       "</tr>\n",
       "<tr>\n",
       "  <th>Method:</th>             <td>Least Squares</td>  <th>  F-statistic:       </th> <td>   1.319</td>\n",
       "</tr>\n",
       "<tr>\n",
       "  <th>Date:</th>             <td>Mon, 10 Jun 2019</td> <th>  Prob (F-statistic):</th>  <td> 0.271</td> \n",
       "</tr>\n",
       "<tr>\n",
       "  <th>Time:</th>                 <td>19:22:31</td>     <th>  Log-Likelihood:    </th> <td> -203.24</td>\n",
       "</tr>\n",
       "<tr>\n",
       "  <th>No. Observations:</th>      <td>   141</td>      <th>  AIC:               </th> <td>   414.5</td>\n",
       "</tr>\n",
       "<tr>\n",
       "  <th>Df Residuals:</th>          <td>   137</td>      <th>  BIC:               </th> <td>   426.3</td>\n",
       "</tr>\n",
       "<tr>\n",
       "  <th>Df Model:</th>              <td>     3</td>      <th>                     </th>     <td> </td>   \n",
       "</tr>\n",
       "<tr>\n",
       "  <th>Covariance Type:</th>      <td>nonrobust</td>    <th>                     </th>     <td> </td>   \n",
       "</tr>\n",
       "</table>\n",
       "<table class=\"simpletable\">\n",
       "<tr>\n",
       "        <td></td>          <th>coef</th>     <th>std err</th>      <th>t</th>      <th>P>|t|</th>  <th>[0.025</th>    <th>0.975]</th>  \n",
       "</tr>\n",
       "<tr>\n",
       "  <th>Intercept</th>    <td>    7.0000</td> <td>    0.150</td> <td>   46.742</td> <td> 0.000</td> <td>    6.704</td> <td>    7.296</td>\n",
       "</tr>\n",
       "<tr>\n",
       "  <th>C(Styl)[T.2]</th> <td>   -0.5000</td> <td>    0.361</td> <td>   -1.386</td> <td> 0.168</td> <td>   -1.213</td> <td>    0.213</td>\n",
       "</tr>\n",
       "<tr>\n",
       "  <th>C(Styl)[T.3]</th> <td>    0.2941</td> <td>    0.293</td> <td>    1.004</td> <td> 0.317</td> <td>   -0.285</td> <td>    0.873</td>\n",
       "</tr>\n",
       "<tr>\n",
       "  <th>C(Styl)[T.4]</th> <td>   -0.0909</td> <td>    0.197</td> <td>   -0.462</td> <td> 0.645</td> <td>   -0.480</td> <td>    0.298</td>\n",
       "</tr>\n",
       "</table>\n",
       "<table class=\"simpletable\">\n",
       "<tr>\n",
       "  <th>Omnibus:</th>       <td> 9.792</td> <th>  Durbin-Watson:     </th> <td>   1.847</td>\n",
       "</tr>\n",
       "<tr>\n",
       "  <th>Prob(Omnibus):</th> <td> 0.007</td> <th>  Jarque-Bera (JB):  </th> <td>   8.701</td>\n",
       "</tr>\n",
       "<tr>\n",
       "  <th>Skew:</th>          <td> 0.532</td> <th>  Prob(JB):          </th> <td>  0.0129</td>\n",
       "</tr>\n",
       "<tr>\n",
       "  <th>Kurtosis:</th>      <td> 2.409</td> <th>  Cond. No.          </th> <td>    5.14</td>\n",
       "</tr>\n",
       "</table><br/><br/>Warnings:<br/>[1] Standard Errors assume that the covariance matrix of the errors is correctly specified."
      ],
      "text/plain": [
       "<class 'statsmodels.iolib.summary.Summary'>\n",
       "\"\"\"\n",
       "                            OLS Regression Results                            \n",
       "==============================================================================\n",
       "Dep. Variable:            Personality   R-squared:                       0.028\n",
       "Model:                            OLS   Adj. R-squared:                  0.007\n",
       "Method:                 Least Squares   F-statistic:                     1.319\n",
       "Date:                Mon, 10 Jun 2019   Prob (F-statistic):              0.271\n",
       "Time:                        19:22:31   Log-Likelihood:                -203.24\n",
       "No. Observations:                 141   AIC:                             414.5\n",
       "Df Residuals:                     137   BIC:                             426.3\n",
       "Df Model:                           3                                         \n",
       "Covariance Type:            nonrobust                                         \n",
       "================================================================================\n",
       "                   coef    std err          t      P>|t|      [0.025      0.975]\n",
       "--------------------------------------------------------------------------------\n",
       "Intercept        7.0000      0.150     46.742      0.000       6.704       7.296\n",
       "C(Styl)[T.2]    -0.5000      0.361     -1.386      0.168      -1.213       0.213\n",
       "C(Styl)[T.3]     0.2941      0.293      1.004      0.317      -0.285       0.873\n",
       "C(Styl)[T.4]    -0.0909      0.197     -0.462      0.645      -0.480       0.298\n",
       "==============================================================================\n",
       "Omnibus:                        9.792   Durbin-Watson:                   1.847\n",
       "Prob(Omnibus):                  0.007   Jarque-Bera (JB):                8.701\n",
       "Skew:                           0.532   Prob(JB):                       0.0129\n",
       "Kurtosis:                       2.409   Cond. No.                         5.14\n",
       "==============================================================================\n",
       "\n",
       "Warnings:\n",
       "[1] Standard Errors assume that the covariance matrix of the errors is correctly specified.\n",
       "\"\"\""
      ]
     },
     "execution_count": 139,
     "metadata": {},
     "output_type": "execute_result"
    }
   ],
   "source": [
    "LearninPS =  Learn[['Personality','Styl']]\n",
    "MSAStyleP = ols('Personality ~ C(Styl)', data=LearninPS).fit()\n",
    "MSAStyleP.summary()"
   ]
  },
  {
   "cell_type": "code",
   "execution_count": 140,
   "metadata": {},
   "outputs": [
    {
     "data": {
      "text/plain": [
       "<seaborn.axisgrid.PairGrid at 0x254906e24e0>"
      ]
     },
     "execution_count": 140,
     "metadata": {},
     "output_type": "execute_result"
    },
    {
     "data": {
      "image/png": "[encoded data removed]",
      "text/plain": [
       "<Figure size 540x540 with 12 Axes>"
      ]
     },
     "metadata": {
      "needs_background": "light"
     },
     "output_type": "display_data"
    }
   ],
   "source": [
    "sns.pairplot(Learnsps)"
   ]
  },
  {
   "cell_type": "code",
   "execution_count": 141,
   "metadata": {},
   "outputs": [],
   "source": [
    "Learnsrcs = Learn[['sex','RegionCode', 'Styl']]"
   ]
  },
  {
   "cell_type": "code",
   "execution_count": 142,
   "metadata": {},
   "outputs": [],
   "source": [
    "ATsexStyleRC = 'sex ~ C(RegionCode) + C(Styl) + C(RegionCode): C(Styl)'\n",
    "model = ols(ATsexStyleRC, Learnsrcs).fit()"
   ]
  },
  {
   "cell_type": "code",
   "execution_count": 143,
   "metadata": {},
   "outputs": [
    {
     "name": "stderr",
     "output_type": "stream",
     "text": [
      "C:\\Users\\Bernier\\Anaconda3\\lib\\site-packages\\statsmodels\\base\\model.py:1532: ValueWarning: covariance of constraints does not have full rank. The number of constraints is 24, but rank is 16\n",
      "  'rank is %d' % (J, J_), ValueWarning)\n"
     ]
    },
    {
     "data": {
      "text/html": [
       "<div>\n",
       "<style scoped>\n",
       "    .dataframe tbody tr th:only-of-type {\n",
       "        vertical-align: middle;\n",
       "    }\n",
       "\n",
       "    .dataframe tbody tr th {\n",
       "        vertical-align: top;\n",
       "    }\n",
       "\n",
       "    .dataframe thead th {\n",
       "        text-align: right;\n",
       "    }\n",
       "</style>\n",
       "<table border=\"1\" class=\"dataframe\">\n",
       "  <thead>\n",
       "    <tr style=\"text-align: right;\">\n",
       "      <th></th>\n",
       "      <th>sum_sq</th>\n",
       "      <th>df</th>\n",
       "      <th>F</th>\n",
       "      <th>PR(&gt;F)</th>\n",
       "    </tr>\n",
       "  </thead>\n",
       "  <tbody>\n",
       "    <tr>\n",
       "      <th>Intercept</th>\n",
       "      <td>0.888829</td>\n",
       "      <td>1.0</td>\n",
       "      <td>4.825337</td>\n",
       "      <td>0.030016</td>\n",
       "    </tr>\n",
       "    <tr>\n",
       "      <th>C(RegionCode)</th>\n",
       "      <td>1.516968</td>\n",
       "      <td>8.0</td>\n",
       "      <td>1.029428</td>\n",
       "      <td>0.418000</td>\n",
       "    </tr>\n",
       "    <tr>\n",
       "      <th>C(Styl)</th>\n",
       "      <td>1.468617</td>\n",
       "      <td>3.0</td>\n",
       "      <td>2.657643</td>\n",
       "      <td>0.051571</td>\n",
       "    </tr>\n",
       "    <tr>\n",
       "      <th>C(RegionCode):C(Styl)</th>\n",
       "      <td>7.027364</td>\n",
       "      <td>24.0</td>\n",
       "      <td>1.589610</td>\n",
       "      <td>0.082094</td>\n",
       "    </tr>\n",
       "    <tr>\n",
       "      <th>Residual</th>\n",
       "      <td>21.551449</td>\n",
       "      <td>117.0</td>\n",
       "      <td>NaN</td>\n",
       "      <td>NaN</td>\n",
       "    </tr>\n",
       "  </tbody>\n",
       "</table>\n",
       "</div>"
      ],
      "text/plain": [
       "                          sum_sq     df         F    PR(>F)\n",
       "Intercept               0.888829    1.0  4.825337  0.030016\n",
       "C(RegionCode)           1.516968    8.0  1.029428  0.418000\n",
       "C(Styl)                 1.468617    3.0  2.657643  0.051571\n",
       "C(RegionCode):C(Styl)   7.027364   24.0  1.589610  0.082094\n",
       "Residual               21.551449  117.0       NaN       NaN"
      ]
     },
     "execution_count": 143,
     "metadata": {},
     "output_type": "execute_result"
    }
   ],
   "source": [
    "aov_tableRC = anova_lm(model, typ=3)\n",
    "aov_tableRC"
   ]
  },
  {
   "cell_type": "code",
   "execution_count": 144,
   "metadata": {
    "scrolled": true
   },
   "outputs": [],
   "source": [
    "#aov_tablesexStyleCR_taught = statsmodels.stats.anova.anova_lm(model, typ=3)\n",
    "#print(aov_tablesexStyleCR_taught)"
   ]
  },
  {
   "cell_type": "code",
   "execution_count": 145,
   "metadata": {
    "scrolled": true
   },
   "outputs": [
    {
     "data": {
      "text/html": [
       "<table class=\"simpletable\">\n",
       "<caption>OLS Regression Results</caption>\n",
       "<tr>\n",
       "  <th>Dep. Variable:</th>       <td>RegionCode</td>    <th>  R-squared:         </th> <td>   0.014</td>\n",
       "</tr>\n",
       "<tr>\n",
       "  <th>Model:</th>                   <td>OLS</td>       <th>  Adj. R-squared:    </th> <td>  -0.007</td>\n",
       "</tr>\n",
       "<tr>\n",
       "  <th>Method:</th>             <td>Least Squares</td>  <th>  F-statistic:       </th> <td>  0.6586</td>\n",
       "</tr>\n",
       "<tr>\n",
       "  <th>Date:</th>             <td>Mon, 10 Jun 2019</td> <th>  Prob (F-statistic):</th>  <td> 0.579</td> \n",
       "</tr>\n",
       "<tr>\n",
       "  <th>Time:</th>                 <td>19:22:54</td>     <th>  Log-Likelihood:    </th> <td> -280.45</td>\n",
       "</tr>\n",
       "<tr>\n",
       "  <th>No. Observations:</th>      <td>   141</td>      <th>  AIC:               </th> <td>   568.9</td>\n",
       "</tr>\n",
       "<tr>\n",
       "  <th>Df Residuals:</th>          <td>   137</td>      <th>  BIC:               </th> <td>   580.7</td>\n",
       "</tr>\n",
       "<tr>\n",
       "  <th>Df Model:</th>              <td>     3</td>      <th>                     </th>     <td> </td>   \n",
       "</tr>\n",
       "<tr>\n",
       "  <th>Covariance Type:</th>      <td>nonrobust</td>    <th>                     </th>     <td> </td>   \n",
       "</tr>\n",
       "</table>\n",
       "<table class=\"simpletable\">\n",
       "<tr>\n",
       "        <td></td>          <th>coef</th>     <th>std err</th>      <th>t</th>      <th>P>|t|</th>  <th>[0.025</th>    <th>0.975]</th>  \n",
       "</tr>\n",
       "<tr>\n",
       "  <th>Intercept</th>    <td>    6.7292</td> <td>    0.259</td> <td>   25.986</td> <td> 0.000</td> <td>    6.217</td> <td>    7.241</td>\n",
       "</tr>\n",
       "<tr>\n",
       "  <th>C(Styl)[T.2]</th> <td>   -0.4292</td> <td>    0.624</td> <td>   -0.688</td> <td> 0.493</td> <td>   -1.662</td> <td>    0.804</td>\n",
       "</tr>\n",
       "<tr>\n",
       "  <th>C(Styl)[T.3]</th> <td>    0.3297</td> <td>    0.506</td> <td>    0.651</td> <td> 0.516</td> <td>   -0.672</td> <td>    1.331</td>\n",
       "</tr>\n",
       "<tr>\n",
       "  <th>C(Styl)[T.4]</th> <td>   -0.2595</td> <td>    0.340</td> <td>   -0.762</td> <td> 0.447</td> <td>   -0.932</td> <td>    0.414</td>\n",
       "</tr>\n",
       "</table>\n",
       "<table class=\"simpletable\">\n",
       "<tr>\n",
       "  <th>Omnibus:</th>       <td>22.674</td> <th>  Durbin-Watson:     </th> <td>   1.618</td>\n",
       "</tr>\n",
       "<tr>\n",
       "  <th>Prob(Omnibus):</th> <td> 0.000</td> <th>  Jarque-Bera (JB):  </th> <td>  28.214</td>\n",
       "</tr>\n",
       "<tr>\n",
       "  <th>Skew:</th>          <td>-1.072</td> <th>  Prob(JB):          </th> <td>7.47e-07</td>\n",
       "</tr>\n",
       "<tr>\n",
       "  <th>Kurtosis:</th>      <td> 3.452</td> <th>  Cond. No.          </th> <td>    5.14</td>\n",
       "</tr>\n",
       "</table><br/><br/>Warnings:<br/>[1] Standard Errors assume that the covariance matrix of the errors is correctly specified."
      ],
      "text/plain": [
       "<class 'statsmodels.iolib.summary.Summary'>\n",
       "\"\"\"\n",
       "                            OLS Regression Results                            \n",
       "==============================================================================\n",
       "Dep. Variable:             RegionCode   R-squared:                       0.014\n",
       "Model:                            OLS   Adj. R-squared:                 -0.007\n",
       "Method:                 Least Squares   F-statistic:                    0.6586\n",
       "Date:                Mon, 10 Jun 2019   Prob (F-statistic):              0.579\n",
       "Time:                        19:22:54   Log-Likelihood:                -280.45\n",
       "No. Observations:                 141   AIC:                             568.9\n",
       "Df Residuals:                     137   BIC:                             580.7\n",
       "Df Model:                           3                                         \n",
       "Covariance Type:            nonrobust                                         \n",
       "================================================================================\n",
       "                   coef    std err          t      P>|t|      [0.025      0.975]\n",
       "--------------------------------------------------------------------------------\n",
       "Intercept        6.7292      0.259     25.986      0.000       6.217       7.241\n",
       "C(Styl)[T.2]    -0.4292      0.624     -0.688      0.493      -1.662       0.804\n",
       "C(Styl)[T.3]     0.3297      0.506      0.651      0.516      -0.672       1.331\n",
       "C(Styl)[T.4]    -0.2595      0.340     -0.762      0.447      -0.932       0.414\n",
       "==============================================================================\n",
       "Omnibus:                       22.674   Durbin-Watson:                   1.618\n",
       "Prob(Omnibus):                  0.000   Jarque-Bera (JB):               28.214\n",
       "Skew:                          -1.072   Prob(JB):                     7.47e-07\n",
       "Kurtosis:                       3.452   Cond. No.                         5.14\n",
       "==============================================================================\n",
       "\n",
       "Warnings:\n",
       "[1] Standard Errors assume that the covariance matrix of the errors is correctly specified.\n",
       "\"\"\""
      ]
     },
     "execution_count": 145,
     "metadata": {},
     "output_type": "execute_result"
    }
   ],
   "source": [
    "LearninRC =  Learn[['RegionCode','Styl']]\n",
    "MSAStyleRC= ols('RegionCode ~ C(Styl)', data=LearninRC).fit()\n",
    "MSAStyleRC.summary()"
   ]
  },
  {
   "cell_type": "code",
   "execution_count": 146,
   "metadata": {},
   "outputs": [
    {
     "data": {
      "text/plain": [
       "<seaborn.axisgrid.PairGrid at 0x25488e719b0>"
      ]
     },
     "execution_count": 146,
     "metadata": {},
     "output_type": "execute_result"
    },
    {
     "data": {
      "image/png": "[encoded data removed]",
      "text/plain": [
       "<Figure size 540x540 with 12 Axes>"
      ]
     },
     "metadata": {
      "needs_background": "light"
     },
     "output_type": "display_data"
    }
   ],
   "source": [
    "sns.pairplot(Learnsrcs)"
   ]
  },
  {
   "cell_type": "code",
   "execution_count": 147,
   "metadata": {},
   "outputs": [],
   "source": [
    "Learnsirs = Learn[['sex','internet_research', 'Styl']]"
   ]
  },
  {
   "cell_type": "code",
   "execution_count": 148,
   "metadata": {},
   "outputs": [],
   "source": [
    "ATsexStyleIR = 'sex ~ C(internet_research) + C(Styl) + C(internet_research): C(Styl)'\n",
    "model = ols(ATsexStyleIR, Learnsirs).fit()"
   ]
  },
  {
   "cell_type": "code",
   "execution_count": 149,
   "metadata": {},
   "outputs": [
    {
     "name": "stderr",
     "output_type": "stream",
     "text": [
      "C:\\Users\\Bernier\\Anaconda3\\lib\\site-packages\\statsmodels\\base\\model.py:1532: ValueWarning: covariance of constraints does not have full rank. The number of constraints is 12, but rank is 10\n",
      "  'rank is %d' % (J, J_), ValueWarning)\n"
     ]
    },
    {
     "data": {
      "text/html": [
       "<div>\n",
       "<style scoped>\n",
       "    .dataframe tbody tr th:only-of-type {\n",
       "        vertical-align: middle;\n",
       "    }\n",
       "\n",
       "    .dataframe tbody tr th {\n",
       "        vertical-align: top;\n",
       "    }\n",
       "\n",
       "    .dataframe thead th {\n",
       "        text-align: right;\n",
       "    }\n",
       "</style>\n",
       "<table border=\"1\" class=\"dataframe\">\n",
       "  <thead>\n",
       "    <tr style=\"text-align: right;\">\n",
       "      <th></th>\n",
       "      <th>sum_sq</th>\n",
       "      <th>df</th>\n",
       "      <th>F</th>\n",
       "      <th>PR(&gt;F)</th>\n",
       "    </tr>\n",
       "  </thead>\n",
       "  <tbody>\n",
       "    <tr>\n",
       "      <th>Intercept</th>\n",
       "      <td>6.519273e-31</td>\n",
       "      <td>1.0</td>\n",
       "      <td>3.202945e-30</td>\n",
       "      <td>1.000000</td>\n",
       "    </tr>\n",
       "    <tr>\n",
       "      <th>C(internet_research)</th>\n",
       "      <td>7.297386e-01</td>\n",
       "      <td>4.0</td>\n",
       "      <td>8.963088e-01</td>\n",
       "      <td>0.468356</td>\n",
       "    </tr>\n",
       "    <tr>\n",
       "      <th>C(Styl)</th>\n",
       "      <td>5.725313e-01</td>\n",
       "      <td>3.0</td>\n",
       "      <td>9.376232e-01</td>\n",
       "      <td>0.424668</td>\n",
       "    </tr>\n",
       "    <tr>\n",
       "      <th>C(internet_research):C(Styl)</th>\n",
       "      <td>1.294255e+00</td>\n",
       "      <td>12.0</td>\n",
       "      <td>5.298940e-01</td>\n",
       "      <td>0.866349</td>\n",
       "    </tr>\n",
       "    <tr>\n",
       "      <th>Residual</th>\n",
       "      <td>2.564603e+01</td>\n",
       "      <td>126.0</td>\n",
       "      <td>NaN</td>\n",
       "      <td>NaN</td>\n",
       "    </tr>\n",
       "  </tbody>\n",
       "</table>\n",
       "</div>"
      ],
      "text/plain": [
       "                                    sum_sq     df             F    PR(>F)\n",
       "Intercept                     6.519273e-31    1.0  3.202945e-30  1.000000\n",
       "C(internet_research)          7.297386e-01    4.0  8.963088e-01  0.468356\n",
       "C(Styl)                       5.725313e-01    3.0  9.376232e-01  0.424668\n",
       "C(internet_research):C(Styl)  1.294255e+00   12.0  5.298940e-01  0.866349\n",
       "Residual                      2.564603e+01  126.0           NaN       NaN"
      ]
     },
     "execution_count": 149,
     "metadata": {},
     "output_type": "execute_result"
    }
   ],
   "source": [
    "aov_tableIReserch = anova_lm(model, typ=3)\n",
    "aov_tableIReserch"
   ]
  },
  {
   "cell_type": "code",
   "execution_count": 269,
   "metadata": {
    "scrolled": true
   },
   "outputs": [],
   "source": [
    "#aov_tablesexStyleCR_taught = statsmodels.stats.anova.anova_lm(model, typ=3)\n",
    "#print(aov_tablesexStyleCR_taught)"
   ]
  },
  {
   "cell_type": "code",
   "execution_count": 151,
   "metadata": {
    "scrolled": true
   },
   "outputs": [
    {
     "data": {
      "text/html": [
       "<table class=\"simpletable\">\n",
       "<caption>OLS Regression Results</caption>\n",
       "<tr>\n",
       "  <th>Dep. Variable:</th>    <td>internet_research</td> <th>  R-squared:         </th> <td>   0.009</td>\n",
       "</tr>\n",
       "<tr>\n",
       "  <th>Model:</th>                   <td>OLS</td>        <th>  Adj. R-squared:    </th> <td>  -0.012</td>\n",
       "</tr>\n",
       "<tr>\n",
       "  <th>Method:</th>             <td>Least Squares</td>   <th>  F-statistic:       </th> <td>  0.4287</td>\n",
       "</tr>\n",
       "<tr>\n",
       "  <th>Date:</th>             <td>Mon, 10 Jun 2019</td>  <th>  Prob (F-statistic):</th>  <td> 0.733</td> \n",
       "</tr>\n",
       "<tr>\n",
       "  <th>Time:</th>                 <td>19:23:16</td>      <th>  Log-Likelihood:    </th> <td> -173.70</td>\n",
       "</tr>\n",
       "<tr>\n",
       "  <th>No. Observations:</th>      <td>   141</td>       <th>  AIC:               </th> <td>   355.4</td>\n",
       "</tr>\n",
       "<tr>\n",
       "  <th>Df Residuals:</th>          <td>   137</td>       <th>  BIC:               </th> <td>   367.2</td>\n",
       "</tr>\n",
       "<tr>\n",
       "  <th>Df Model:</th>              <td>     3</td>       <th>                     </th>     <td> </td>   \n",
       "</tr>\n",
       "<tr>\n",
       "  <th>Covariance Type:</th>      <td>nonrobust</td>     <th>                     </th>     <td> </td>   \n",
       "</tr>\n",
       "</table>\n",
       "<table class=\"simpletable\">\n",
       "<tr>\n",
       "        <td></td>          <th>coef</th>     <th>std err</th>      <th>t</th>      <th>P>|t|</th>  <th>[0.025</th>    <th>0.975]</th>  \n",
       "</tr>\n",
       "<tr>\n",
       "  <th>Intercept</th>    <td>    3.7292</td> <td>    0.121</td> <td>   30.704</td> <td> 0.000</td> <td>    3.489</td> <td>    3.969</td>\n",
       "</tr>\n",
       "<tr>\n",
       "  <th>C(Styl)[T.2]</th> <td>    0.0708</td> <td>    0.293</td> <td>    0.242</td> <td> 0.809</td> <td>   -0.508</td> <td>    0.649</td>\n",
       "</tr>\n",
       "<tr>\n",
       "  <th>C(Styl)[T.3]</th> <td>    0.0944</td> <td>    0.237</td> <td>    0.397</td> <td> 0.692</td> <td>   -0.375</td> <td>    0.564</td>\n",
       "</tr>\n",
       "<tr>\n",
       "  <th>C(Styl)[T.4]</th> <td>    0.1799</td> <td>    0.160</td> <td>    1.127</td> <td> 0.262</td> <td>   -0.136</td> <td>    0.496</td>\n",
       "</tr>\n",
       "</table>\n",
       "<table class=\"simpletable\">\n",
       "<tr>\n",
       "  <th>Omnibus:</th>       <td> 2.845</td> <th>  Durbin-Watson:     </th> <td>   1.700</td>\n",
       "</tr>\n",
       "<tr>\n",
       "  <th>Prob(Omnibus):</th> <td> 0.241</td> <th>  Jarque-Bera (JB):  </th> <td>   2.759</td>\n",
       "</tr>\n",
       "<tr>\n",
       "  <th>Skew:</th>          <td>-0.340</td> <th>  Prob(JB):          </th> <td>   0.252</td>\n",
       "</tr>\n",
       "<tr>\n",
       "  <th>Kurtosis:</th>      <td> 2.914</td> <th>  Cond. No.          </th> <td>    5.14</td>\n",
       "</tr>\n",
       "</table><br/><br/>Warnings:<br/>[1] Standard Errors assume that the covariance matrix of the errors is correctly specified."
      ],
      "text/plain": [
       "<class 'statsmodels.iolib.summary.Summary'>\n",
       "\"\"\"\n",
       "                            OLS Regression Results                            \n",
       "==============================================================================\n",
       "Dep. Variable:      internet_research   R-squared:                       0.009\n",
       "Model:                            OLS   Adj. R-squared:                 -0.012\n",
       "Method:                 Least Squares   F-statistic:                    0.4287\n",
       "Date:                Mon, 10 Jun 2019   Prob (F-statistic):              0.733\n",
       "Time:                        19:23:16   Log-Likelihood:                -173.70\n",
       "No. Observations:                 141   AIC:                             355.4\n",
       "Df Residuals:                     137   BIC:                             367.2\n",
       "Df Model:                           3                                         \n",
       "Covariance Type:            nonrobust                                         \n",
       "================================================================================\n",
       "                   coef    std err          t      P>|t|      [0.025      0.975]\n",
       "--------------------------------------------------------------------------------\n",
       "Intercept        3.7292      0.121     30.704      0.000       3.489       3.969\n",
       "C(Styl)[T.2]     0.0708      0.293      0.242      0.809      -0.508       0.649\n",
       "C(Styl)[T.3]     0.0944      0.237      0.397      0.692      -0.375       0.564\n",
       "C(Styl)[T.4]     0.1799      0.160      1.127      0.262      -0.136       0.496\n",
       "==============================================================================\n",
       "Omnibus:                        2.845   Durbin-Watson:                   1.700\n",
       "Prob(Omnibus):                  0.241   Jarque-Bera (JB):                2.759\n",
       "Skew:                          -0.340   Prob(JB):                        0.252\n",
       "Kurtosis:                       2.914   Cond. No.                         5.14\n",
       "==============================================================================\n",
       "\n",
       "Warnings:\n",
       "[1] Standard Errors assume that the covariance matrix of the errors is correctly specified.\n",
       "\"\"\""
      ]
     },
     "execution_count": 151,
     "metadata": {},
     "output_type": "execute_result"
    }
   ],
   "source": [
    "LearninIR =  Learn[['internet_research','Styl']]\n",
    "MSAStyleIR = ols('internet_research ~ C(Styl)', data=LearninIR).fit()\n",
    "MSAStyleIR.summary()"
   ]
  },
  {
   "cell_type": "code",
   "execution_count": 152,
   "metadata": {},
   "outputs": [
    {
     "data": {
      "text/plain": [
       "<seaborn.axisgrid.PairGrid at 0x25491389208>"
      ]
     },
     "execution_count": 152,
     "metadata": {},
     "output_type": "execute_result"
    },
    {
     "data": {
      "image/png": "[encoded data removed]",
      "text/plain": [
       "<Figure size 540x540 with 12 Axes>"
      ]
     },
     "metadata": {
      "needs_background": "light"
     },
     "output_type": "display_data"
    }
   ],
   "source": [
    "sns.pairplot(Learnsirs)"
   ]
  },
  {
   "cell_type": "code",
   "execution_count": 153,
   "metadata": {},
   "outputs": [],
   "source": [
    "Learnscrs = Learn[['sex','CR_taught', 'Styl']]"
   ]
  },
  {
   "cell_type": "code",
   "execution_count": 154,
   "metadata": {},
   "outputs": [],
   "source": [
    "ATsexStyleCR_taught = 'sex ~ C(CR_taught) + C(Styl) + C(CR_taught): C(Styl)'\n",
    "model = ols(ATsexStyleCR_taught, Learnscrs).fit()"
   ]
  },
  {
   "cell_type": "code",
   "execution_count": 155,
   "metadata": {},
   "outputs": [
    {
     "data": {
      "text/html": [
       "<div>\n",
       "<style scoped>\n",
       "    .dataframe tbody tr th:only-of-type {\n",
       "        vertical-align: middle;\n",
       "    }\n",
       "\n",
       "    .dataframe tbody tr th {\n",
       "        vertical-align: top;\n",
       "    }\n",
       "\n",
       "    .dataframe thead th {\n",
       "        text-align: right;\n",
       "    }\n",
       "</style>\n",
       "<table border=\"1\" class=\"dataframe\">\n",
       "  <thead>\n",
       "    <tr style=\"text-align: right;\">\n",
       "      <th></th>\n",
       "      <th>sum_sq</th>\n",
       "      <th>df</th>\n",
       "      <th>F</th>\n",
       "      <th>PR(&gt;F)</th>\n",
       "    </tr>\n",
       "  </thead>\n",
       "  <tbody>\n",
       "    <tr>\n",
       "      <th>Intercept</th>\n",
       "      <td>0.200000</td>\n",
       "      <td>1.0</td>\n",
       "      <td>0.981968</td>\n",
       "      <td>0.323500</td>\n",
       "    </tr>\n",
       "    <tr>\n",
       "      <th>C(CR_taught)</th>\n",
       "      <td>0.000388</td>\n",
       "      <td>1.0</td>\n",
       "      <td>0.001903</td>\n",
       "      <td>0.965269</td>\n",
       "    </tr>\n",
       "    <tr>\n",
       "      <th>C(Styl)</th>\n",
       "      <td>0.414988</td>\n",
       "      <td>3.0</td>\n",
       "      <td>0.679174</td>\n",
       "      <td>0.566265</td>\n",
       "    </tr>\n",
       "    <tr>\n",
       "      <th>C(CR_taught):C(Styl)</th>\n",
       "      <td>0.197960</td>\n",
       "      <td>3.0</td>\n",
       "      <td>0.323984</td>\n",
       "      <td>0.808016</td>\n",
       "    </tr>\n",
       "    <tr>\n",
       "      <th>Residual</th>\n",
       "      <td>27.292141</td>\n",
       "      <td>134.0</td>\n",
       "      <td>NaN</td>\n",
       "      <td>NaN</td>\n",
       "    </tr>\n",
       "  </tbody>\n",
       "</table>\n",
       "</div>"
      ],
      "text/plain": [
       "                         sum_sq     df         F    PR(>F)\n",
       "Intercept              0.200000    1.0  0.981968  0.323500\n",
       "C(CR_taught)           0.000388    1.0  0.001903  0.965269\n",
       "C(Styl)                0.414988    3.0  0.679174  0.566265\n",
       "C(CR_taught):C(Styl)   0.197960    3.0  0.323984  0.808016\n",
       "Residual              27.292141  134.0       NaN       NaN"
      ]
     },
     "execution_count": 155,
     "metadata": {},
     "output_type": "execute_result"
    }
   ],
   "source": [
    "aov_tableCR_taught = anova_lm(model, typ=3)\n",
    "aov_tableCR_taught"
   ]
  },
  {
   "cell_type": "code",
   "execution_count": 156,
   "metadata": {
    "scrolled": true
   },
   "outputs": [],
   "source": [
    "#aov_tablesexStyleCR_taught = statsmodels.stats.anova.anova_lm(model, typ=3)\n",
    "#print(aov_tablesexStyleCR_taught)"
   ]
  },
  {
   "cell_type": "code",
   "execution_count": 157,
   "metadata": {},
   "outputs": [
    {
     "data": {
      "text/html": [
       "<table class=\"simpletable\">\n",
       "<caption>OLS Regression Results</caption>\n",
       "<tr>\n",
       "  <th>Dep. Variable:</th>        <td>CR_taught</td>    <th>  R-squared:         </th> <td>   0.013</td>\n",
       "</tr>\n",
       "<tr>\n",
       "  <th>Model:</th>                   <td>OLS</td>       <th>  Adj. R-squared:    </th> <td>  -0.009</td>\n",
       "</tr>\n",
       "<tr>\n",
       "  <th>Method:</th>             <td>Least Squares</td>  <th>  F-statistic:       </th> <td>  0.5842</td>\n",
       "</tr>\n",
       "<tr>\n",
       "  <th>Date:</th>             <td>Mon, 10 Jun 2019</td> <th>  Prob (F-statistic):</th>  <td> 0.626</td> \n",
       "</tr>\n",
       "<tr>\n",
       "  <th>Time:</th>                 <td>19:23:53</td>     <th>  Log-Likelihood:    </th> <td> -28.968</td>\n",
       "</tr>\n",
       "<tr>\n",
       "  <th>No. Observations:</th>      <td>   141</td>      <th>  AIC:               </th> <td>   65.94</td>\n",
       "</tr>\n",
       "<tr>\n",
       "  <th>Df Residuals:</th>          <td>   137</td>      <th>  BIC:               </th> <td>   77.73</td>\n",
       "</tr>\n",
       "<tr>\n",
       "  <th>Df Model:</th>              <td>     3</td>      <th>                     </th>     <td> </td>   \n",
       "</tr>\n",
       "<tr>\n",
       "  <th>Covariance Type:</th>      <td>nonrobust</td>    <th>                     </th>     <td> </td>   \n",
       "</tr>\n",
       "</table>\n",
       "<table class=\"simpletable\">\n",
       "<tr>\n",
       "        <td></td>          <th>coef</th>     <th>std err</th>      <th>t</th>      <th>P>|t|</th>  <th>[0.025</th>    <th>0.975]</th>  \n",
       "</tr>\n",
       "<tr>\n",
       "  <th>Intercept</th>    <td>    0.8958</td> <td>    0.044</td> <td>   20.588</td> <td> 0.000</td> <td>    0.810</td> <td>    0.982</td>\n",
       "</tr>\n",
       "<tr>\n",
       "  <th>C(Styl)[T.2]</th> <td>    0.1042</td> <td>    0.105</td> <td>    0.994</td> <td> 0.322</td> <td>   -0.103</td> <td>    0.311</td>\n",
       "</tr>\n",
       "<tr>\n",
       "  <th>C(Styl)[T.3]</th> <td>    0.0453</td> <td>    0.085</td> <td>    0.533</td> <td> 0.595</td> <td>   -0.123</td> <td>    0.214</td>\n",
       "</tr>\n",
       "<tr>\n",
       "  <th>C(Styl)[T.4]</th> <td>   -0.0170</td> <td>    0.057</td> <td>   -0.298</td> <td> 0.766</td> <td>   -0.130</td> <td>    0.096</td>\n",
       "</tr>\n",
       "</table>\n",
       "<table class=\"simpletable\">\n",
       "<tr>\n",
       "  <th>Omnibus:</th>       <td>88.921</td> <th>  Durbin-Watson:     </th> <td>   1.880</td>\n",
       "</tr>\n",
       "<tr>\n",
       "  <th>Prob(Omnibus):</th> <td> 0.000</td> <th>  Jarque-Bera (JB):  </th> <td> 308.402</td>\n",
       "</tr>\n",
       "<tr>\n",
       "  <th>Skew:</th>          <td>-2.622</td> <th>  Prob(JB):          </th> <td>1.07e-67</td>\n",
       "</tr>\n",
       "<tr>\n",
       "  <th>Kurtosis:</th>      <td> 7.999</td> <th>  Cond. No.          </th> <td>    5.14</td>\n",
       "</tr>\n",
       "</table><br/><br/>Warnings:<br/>[1] Standard Errors assume that the covariance matrix of the errors is correctly specified."
      ],
      "text/plain": [
       "<class 'statsmodels.iolib.summary.Summary'>\n",
       "\"\"\"\n",
       "                            OLS Regression Results                            \n",
       "==============================================================================\n",
       "Dep. Variable:              CR_taught   R-squared:                       0.013\n",
       "Model:                            OLS   Adj. R-squared:                 -0.009\n",
       "Method:                 Least Squares   F-statistic:                    0.5842\n",
       "Date:                Mon, 10 Jun 2019   Prob (F-statistic):              0.626\n",
       "Time:                        19:23:53   Log-Likelihood:                -28.968\n",
       "No. Observations:                 141   AIC:                             65.94\n",
       "Df Residuals:                     137   BIC:                             77.73\n",
       "Df Model:                           3                                         \n",
       "Covariance Type:            nonrobust                                         \n",
       "================================================================================\n",
       "                   coef    std err          t      P>|t|      [0.025      0.975]\n",
       "--------------------------------------------------------------------------------\n",
       "Intercept        0.8958      0.044     20.588      0.000       0.810       0.982\n",
       "C(Styl)[T.2]     0.1042      0.105      0.994      0.322      -0.103       0.311\n",
       "C(Styl)[T.3]     0.0453      0.085      0.533      0.595      -0.123       0.214\n",
       "C(Styl)[T.4]    -0.0170      0.057     -0.298      0.766      -0.130       0.096\n",
       "==============================================================================\n",
       "Omnibus:                       88.921   Durbin-Watson:                   1.880\n",
       "Prob(Omnibus):                  0.000   Jarque-Bera (JB):              308.402\n",
       "Skew:                          -2.622   Prob(JB):                     1.07e-67\n",
       "Kurtosis:                       7.999   Cond. No.                         5.14\n",
       "==============================================================================\n",
       "\n",
       "Warnings:\n",
       "[1] Standard Errors assume that the covariance matrix of the errors is correctly specified.\n",
       "\"\"\""
      ]
     },
     "execution_count": 157,
     "metadata": {},
     "output_type": "execute_result"
    }
   ],
   "source": [
    "LearninTS =  Learn[['CR_taught','Styl']]\n",
    "MSAStyleCR_taught = ols('CR_taught ~ C(Styl)', data=LearninTS).fit()\n",
    "MSAStyleCR_taught.summary()"
   ]
  },
  {
   "cell_type": "code",
   "execution_count": 158,
   "metadata": {},
   "outputs": [
    {
     "data": {
      "text/plain": [
       "<seaborn.axisgrid.PairGrid at 0x25490bd2ba8>"
      ]
     },
     "execution_count": 158,
     "metadata": {},
     "output_type": "execute_result"
    },
    {
     "data": {
      "image/png": "[encoded data removed]",
      "text/plain": [
       "<Figure size 540x540 with 12 Axes>"
      ]
     },
     "metadata": {
      "needs_background": "light"
     },
     "output_type": "display_data"
    }
   ],
   "source": [
    "sns.pairplot(Learnscrs)"
   ]
  },
  {
   "cell_type": "code",
   "execution_count": 159,
   "metadata": {},
   "outputs": [
    {
     "name": "stdout",
     "output_type": "stream",
     "text": [
      "<class 'pandas.core.frame.DataFrame'>\n",
      "Int64Index: 141 entries, 1 to 158\n",
      "Data columns (total 16 columns):\n",
      "RegionCode            141 non-null int64\n",
      "age                   141 non-null float64\n",
      "internet_research     141 non-null int64\n",
      "read_1                141 non-null int64\n",
      "hear_1                141 non-null int64\n",
      "see_1                 141 non-null int64\n",
      "say_1                 141 non-null int64\n",
      "do_1                  141 non-null int64\n",
      "Criticalthinking_1    141 non-null int64\n",
      "groups_1              141 non-null int64\n",
      "connections_1         141 non-null int64\n",
      "Personality           141 non-null float64\n",
      "ExtrovertTrue         141 non-null bool\n",
      "sex                   141 non-null float64\n",
      "CR_taught             141 non-null int64\n",
      "Styl                  141 non-null int64\n",
      "dtypes: bool(1), float64(3), int64(12)\n",
      "memory usage: 22.8 KB\n"
     ]
    }
   ],
   "source": [
    "Learn.info()"
   ]
  }
 ],
 "metadata": {
  "kernelspec": {
   "display_name": "Python 3",
   "language": "python",
   "name": "python3"
  },
  "language_info": {
   "codemirror_mode": {
    "name": "ipython",
    "version": 3
   },
   "file_extension": ".py",
   "mimetype": "text/x-python",
   "name": "python",
   "nbconvert_exporter": "python",
   "pygments_lexer": "ipython3",
   "version": "3.7.1"
  }
 },
 "nbformat": 4,
 "nbformat_minor": 2
}
